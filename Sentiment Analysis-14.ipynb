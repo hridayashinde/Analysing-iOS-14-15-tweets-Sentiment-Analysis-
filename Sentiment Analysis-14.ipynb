{
 "cells": [
  {
   "cell_type": "code",
   "execution_count": 1,
   "id": "3a22e2a4",
   "metadata": {},
   "outputs": [],
   "source": [
    "import numpy as np\n",
    "import pandas as pd\n",
    "import matplotlib.pyplot as plt \n",
    "import re, string\n",
    "import random "
   ]
  },
  {
   "cell_type": "code",
   "execution_count": 2,
   "id": "ed41ae11",
   "metadata": {},
   "outputs": [
    {
     "name": "stderr",
     "output_type": "stream",
     "text": [
      "[nltk_data] Downloading package stopwords to\n",
      "[nltk_data]     /Users/hridayashinde/nltk_data...\n",
      "[nltk_data]   Package stopwords is already up-to-date!\n",
      "[nltk_data] Downloading package wordnet to\n",
      "[nltk_data]     /Users/hridayashinde/nltk_data...\n",
      "[nltk_data]   Package wordnet is already up-to-date!\n"
     ]
    }
   ],
   "source": [
    "from vaderSentiment.vaderSentiment import SentimentIntensityAnalyzer\n",
    "import nltk\n",
    "from nltk.corpus import words\n",
    "from nltk.corpus import stopwords\n",
    "nltk.download('stopwords')\n",
    "import nltk\n",
    "nltk.download('wordnet')\n",
    "from nltk.stem import WordNetLemmatizer\n",
    "from nltk import pos_tag \n",
    "from PIL import Image \n",
    "from wordcloud import WordCloud"
   ]
  },
  {
   "cell_type": "code",
   "execution_count": 3,
   "id": "f927dfe7",
   "metadata": {
    "scrolled": true
   },
   "outputs": [
    {
     "data": {
      "text/html": [
       "        <script type=\"text/javascript\">\n",
       "        window.PlotlyConfig = {MathJaxConfig: 'local'};\n",
       "        if (window.MathJax) {MathJax.Hub.Config({SVG: {font: \"STIX-Web\"}});}\n",
       "        if (typeof require !== 'undefined') {\n",
       "        require.undef(\"plotly\");\n",
       "        requirejs.config({\n",
       "            paths: {\n",
       "                'plotly': ['https://cdn.plot.ly/plotly-latest.min']\n",
       "            }\n",
       "        });\n",
       "        require(['plotly'], function(Plotly) {\n",
       "            window._Plotly = Plotly;\n",
       "        });\n",
       "        }\n",
       "        </script>\n",
       "        "
      ]
     },
     "metadata": {},
     "output_type": "display_data"
    },
    {
     "data": {
      "text/html": [
       "        <script type=\"text/javascript\">\n",
       "        window.PlotlyConfig = {MathJaxConfig: 'local'};\n",
       "        if (window.MathJax) {MathJax.Hub.Config({SVG: {font: \"STIX-Web\"}});}\n",
       "        if (typeof require !== 'undefined') {\n",
       "        require.undef(\"plotly\");\n",
       "        requirejs.config({\n",
       "            paths: {\n",
       "                'plotly': ['https://cdn.plot.ly/plotly-latest.min']\n",
       "            }\n",
       "        });\n",
       "        require(['plotly'], function(Plotly) {\n",
       "            window._Plotly = Plotly;\n",
       "        });\n",
       "        }\n",
       "        </script>\n",
       "        "
      ]
     },
     "metadata": {},
     "output_type": "display_data"
    }
   ],
   "source": [
    "import plotly\n",
    "import cufflinks as cf\n",
    "\n",
    "from plotly.offline import download_plotlyjs,init_notebook_mode,plot,iplot\n",
    "init_notebook_mode(connected=True)\n",
    "cf.go_offline()\n",
    "\n",
    "%matplotlib inline"
   ]
  },
  {
   "cell_type": "code",
   "execution_count": 4,
   "id": "de1a688f",
   "metadata": {},
   "outputs": [
    {
     "data": {
      "text/html": [
       "<div>\n",
       "<style scoped>\n",
       "    .dataframe tbody tr th:only-of-type {\n",
       "        vertical-align: middle;\n",
       "    }\n",
       "\n",
       "    .dataframe tbody tr th {\n",
       "        vertical-align: top;\n",
       "    }\n",
       "\n",
       "    .dataframe thead th {\n",
       "        text-align: right;\n",
       "    }\n",
       "</style>\n",
       "<table border=\"1\" class=\"dataframe\">\n",
       "  <thead>\n",
       "    <tr style=\"text-align: right;\">\n",
       "      <th></th>\n",
       "      <th>Text</th>\n",
       "    </tr>\n",
       "  </thead>\n",
       "  <tbody>\n",
       "    <tr>\n",
       "      <th>0</th>\n",
       "      <td>How to Install iOS 14 Beta https://t.co/VCGTJI...</td>\n",
       "    </tr>\n",
       "    <tr>\n",
       "      <th>1</th>\n",
       "      <td>How to Install iOS 14 Beta https://t.co/VCGTJI...</td>\n",
       "    </tr>\n",
       "    <tr>\n",
       "      <th>2</th>\n",
       "      <td>I wanna get the beta for iOS 14 but my insuran...</td>\n",
       "    </tr>\n",
       "    <tr>\n",
       "      <th>3</th>\n",
       "      <td>I’m able to download iOS 14 beta.. should I do...</td>\n",
       "    </tr>\n",
       "    <tr>\n",
       "      <th>4</th>\n",
       "      <td>Τεχνολογία: Regret installing the iOS 14 or iP...</td>\n",
       "    </tr>\n",
       "    <tr>\n",
       "      <th>...</th>\n",
       "      <td>...</td>\n",
       "    </tr>\n",
       "    <tr>\n",
       "      <th>996</th>\n",
       "      <td>JANGAN UPDATE IOS 14.2 BETA 2 KALAU SAYANG PHONE</td>\n",
       "    </tr>\n",
       "    <tr>\n",
       "      <th>997</th>\n",
       "      <td>iOS 14 public beta 2でCOVID-19接触確認使えない https://...</td>\n",
       "    </tr>\n",
       "    <tr>\n",
       "      <th>998</th>\n",
       "      <td>atualizei pro beta do iOS 14 e agora tá tudo b...</td>\n",
       "    </tr>\n",
       "    <tr>\n",
       "      <th>999</th>\n",
       "      <td>pake ios 14 pablik beta ah.</td>\n",
       "    </tr>\n",
       "    <tr>\n",
       "      <th>1000</th>\n",
       "      <td>@NianticHelp @PokemonGoApp Please help. Pokémo...</td>\n",
       "    </tr>\n",
       "  </tbody>\n",
       "</table>\n",
       "<p>1001 rows × 1 columns</p>\n",
       "</div>"
      ],
      "text/plain": [
       "                                                   Text\n",
       "0     How to Install iOS 14 Beta https://t.co/VCGTJI...\n",
       "1     How to Install iOS 14 Beta https://t.co/VCGTJI...\n",
       "2     I wanna get the beta for iOS 14 but my insuran...\n",
       "3     I’m able to download iOS 14 beta.. should I do...\n",
       "4     Τεχνολογία: Regret installing the iOS 14 or iP...\n",
       "...                                                 ...\n",
       "996    JANGAN UPDATE IOS 14.2 BETA 2 KALAU SAYANG PHONE\n",
       "997   iOS 14 public beta 2でCOVID-19接触確認使えない https://...\n",
       "998   atualizei pro beta do iOS 14 e agora tá tudo b...\n",
       "999                         pake ios 14 pablik beta ah.\n",
       "1000  @NianticHelp @PokemonGoApp Please help. Pokémo...\n",
       "\n",
       "[1001 rows x 1 columns]"
      ]
     },
     "execution_count": 4,
     "metadata": {},
     "output_type": "execute_result"
    }
   ],
   "source": [
    "df = pd.read_csv(\"ios14tweets.csv\")\n",
    "df = pd.DataFrame(df['Text'])\n",
    "df"
   ]
  },
  {
   "cell_type": "code",
   "execution_count": 5,
   "id": "7c425a03",
   "metadata": {},
   "outputs": [
    {
     "data": {
      "text/html": [
       "<div>\n",
       "<style scoped>\n",
       "    .dataframe tbody tr th:only-of-type {\n",
       "        vertical-align: middle;\n",
       "    }\n",
       "\n",
       "    .dataframe tbody tr th {\n",
       "        vertical-align: top;\n",
       "    }\n",
       "\n",
       "    .dataframe thead th {\n",
       "        text-align: right;\n",
       "    }\n",
       "</style>\n",
       "<table border=\"1\" class=\"dataframe\">\n",
       "  <thead>\n",
       "    <tr style=\"text-align: right;\">\n",
       "      <th></th>\n",
       "      <th>Text</th>\n",
       "      <th>clean_text</th>\n",
       "    </tr>\n",
       "  </thead>\n",
       "  <tbody>\n",
       "    <tr>\n",
       "      <th>0</th>\n",
       "      <td>How to Install iOS 14 Beta https://t.co/VCGTJI...</td>\n",
       "      <td>how to install ios  beta</td>\n",
       "    </tr>\n",
       "    <tr>\n",
       "      <th>1</th>\n",
       "      <td>How to Install iOS 14 Beta https://t.co/VCGTJI...</td>\n",
       "      <td>how to install ios  beta</td>\n",
       "    </tr>\n",
       "    <tr>\n",
       "      <th>2</th>\n",
       "      <td>I wanna get the beta for iOS 14 but my insuran...</td>\n",
       "      <td>i wanna get the beta for ios  but my insurance...</td>\n",
       "    </tr>\n",
       "    <tr>\n",
       "      <th>3</th>\n",
       "      <td>I’m able to download iOS 14 beta.. should I do...</td>\n",
       "      <td>im able to download ios  beta should do it</td>\n",
       "    </tr>\n",
       "    <tr>\n",
       "      <th>4</th>\n",
       "      <td>Τεχνολογία: Regret installing the iOS 14 or iP...</td>\n",
       "      <td>regret installing the ios  or ipados  public...</td>\n",
       "    </tr>\n",
       "    <tr>\n",
       "      <th>...</th>\n",
       "      <td>...</td>\n",
       "      <td>...</td>\n",
       "    </tr>\n",
       "    <tr>\n",
       "      <th>996</th>\n",
       "      <td>JANGAN UPDATE IOS 14.2 BETA 2 KALAU SAYANG PHONE</td>\n",
       "      <td>jangan update ios  beta  kalau sayang phone</td>\n",
       "    </tr>\n",
       "    <tr>\n",
       "      <th>997</th>\n",
       "      <td>iOS 14 public beta 2でCOVID-19接触確認使えない https://...</td>\n",
       "      <td>ios  public beta covid</td>\n",
       "    </tr>\n",
       "    <tr>\n",
       "      <th>998</th>\n",
       "      <td>atualizei pro beta do iOS 14 e agora tá tudo b...</td>\n",
       "      <td>atualizei pro beta do ios agora tudo bugado te...</td>\n",
       "    </tr>\n",
       "    <tr>\n",
       "      <th>999</th>\n",
       "      <td>pake ios 14 pablik beta ah.</td>\n",
       "      <td>pake ios  pablik beta ah</td>\n",
       "    </tr>\n",
       "    <tr>\n",
       "      <th>1000</th>\n",
       "      <td>@NianticHelp @PokemonGoApp Please help. Pokémo...</td>\n",
       "      <td>please help pokmon go seems to be broken on ...</td>\n",
       "    </tr>\n",
       "  </tbody>\n",
       "</table>\n",
       "<p>1001 rows × 2 columns</p>\n",
       "</div>"
      ],
      "text/plain": [
       "                                                   Text  \\\n",
       "0     How to Install iOS 14 Beta https://t.co/VCGTJI...   \n",
       "1     How to Install iOS 14 Beta https://t.co/VCGTJI...   \n",
       "2     I wanna get the beta for iOS 14 but my insuran...   \n",
       "3     I’m able to download iOS 14 beta.. should I do...   \n",
       "4     Τεχνολογία: Regret installing the iOS 14 or iP...   \n",
       "...                                                 ...   \n",
       "996    JANGAN UPDATE IOS 14.2 BETA 2 KALAU SAYANG PHONE   \n",
       "997   iOS 14 public beta 2でCOVID-19接触確認使えない https://...   \n",
       "998   atualizei pro beta do iOS 14 e agora tá tudo b...   \n",
       "999                         pake ios 14 pablik beta ah.   \n",
       "1000  @NianticHelp @PokemonGoApp Please help. Pokémo...   \n",
       "\n",
       "                                             clean_text  \n",
       "0                           how to install ios  beta     \n",
       "1                           how to install ios  beta     \n",
       "2     i wanna get the beta for ios  but my insurance...  \n",
       "3           im able to download ios  beta should do it   \n",
       "4       regret installing the ios  or ipados  public...  \n",
       "...                                                 ...  \n",
       "996         jangan update ios  beta  kalau sayang phone  \n",
       "997                            ios  public beta covid    \n",
       "998   atualizei pro beta do ios agora tudo bugado te...  \n",
       "999                            pake ios  pablik beta ah  \n",
       "1000    please help pokmon go seems to be broken on ...  \n",
       "\n",
       "[1001 rows x 2 columns]"
      ]
     },
     "execution_count": 5,
     "metadata": {},
     "output_type": "execute_result"
    }
   ],
   "source": [
    "# Cleaning the tweets\n",
    "\n",
    "# converting to lowercase\n",
    "df['clean_text'] = df['Text'].str.lower()\n",
    "\n",
    "# removing links,urls\n",
    "df['clean_text'] = df['clean_text'].apply(lambda x: re.sub(r'https?:\\/\\/\\S+', '', x, flags=re.MULTILINE))\n",
    "df['clean_text'] = df['clean_text'].apply(lambda x: re.sub(r\"www\\.[a-z]?\\.?(com)+|[a-z]+\\.(com)\", '', x, flags=re.MULTILINE))\n",
    "\n",
    "# removing html reference characters\n",
    "df['clean_text'] = df['clean_text'].apply(lambda x: re.sub(r'&[a-z]+;', '', x))\n",
    "\n",
    "# removing user @ references and '#' from tweet\n",
    "df['clean_text'] = df['clean_text'].apply(lambda x: re.sub(r'\\@\\w+|\\#|\\d+', '', x))\n",
    "\n",
    "# removing characters that aren't letters\n",
    "df['clean_text'] = df['clean_text'].apply(lambda x: re.sub(r\"[^a-z\\s\\(\\-:\\)\\\\\\/\\];='#@]\", '', x))\n",
    "\n",
    "# removing all the special characters\n",
    "df['clean_text'] = df['clean_text'].apply(lambda x: re.sub(r'\\W',' ', x))\n",
    "\n",
    "# removing all single characters\n",
    "df['clean_text'] = df['clean_text'].apply(lambda x: re.sub(r'\\s+[a-zA-Z]\\s+', ' ', x))\n",
    "\n",
    "# removing twitter handles\n",
    "df['clean_text'] = df['clean_text'].apply(lambda x: re.sub(r'@mention', '', x))\n",
    "\n",
    "df"
   ]
  },
  {
   "cell_type": "code",
   "execution_count": 6,
   "id": "c40a9143",
   "metadata": {},
   "outputs": [
    {
     "data": {
      "text/html": [
       "<div>\n",
       "<style scoped>\n",
       "    .dataframe tbody tr th:only-of-type {\n",
       "        vertical-align: middle;\n",
       "    }\n",
       "\n",
       "    .dataframe tbody tr th {\n",
       "        vertical-align: top;\n",
       "    }\n",
       "\n",
       "    .dataframe thead th {\n",
       "        text-align: right;\n",
       "    }\n",
       "</style>\n",
       "<table border=\"1\" class=\"dataframe\">\n",
       "  <thead>\n",
       "    <tr style=\"text-align: right;\">\n",
       "      <th></th>\n",
       "      <th>Text</th>\n",
       "      <th>clean_text</th>\n",
       "      <th>sentiment</th>\n",
       "      <th>sentiment score</th>\n",
       "    </tr>\n",
       "  </thead>\n",
       "  <tbody>\n",
       "    <tr>\n",
       "      <th>0</th>\n",
       "      <td>Τεχνολογία: Regret installing the iOS 14 or iP...</td>\n",
       "      <td>regret installing the ios  or ipados  public...</td>\n",
       "      <td>Negative</td>\n",
       "      <td>-0.4215</td>\n",
       "    </tr>\n",
       "    <tr>\n",
       "      <th>1</th>\n",
       "      <td>This iOS 14 beta fine bug wise but it’s taking...</td>\n",
       "      <td>this ios  beta fine bug wise but its taking up...</td>\n",
       "      <td>Negative</td>\n",
       "      <td>-0.1280</td>\n",
       "    </tr>\n",
       "    <tr>\n",
       "      <th>2</th>\n",
       "      <td>@AravenaEs @joepenora @9to5mac @filipeesposito...</td>\n",
       "      <td>ios  beta  solved all my issues from ios  ...</td>\n",
       "      <td>Negative</td>\n",
       "      <td>-0.4588</td>\n",
       "    </tr>\n",
       "    <tr>\n",
       "      <th>3</th>\n",
       "      <td>@SkyHelpTeam Running the public beta of iOS 14...</td>\n",
       "      <td>running the public beta of ios  and found sky...</td>\n",
       "      <td>Positive</td>\n",
       "      <td>0.2500</td>\n",
       "    </tr>\n",
       "    <tr>\n",
       "      <th>4</th>\n",
       "      <td>Updated to iOS 14 beta. Everything is working ...</td>\n",
       "      <td>updated to ios  beta everything is working fin...</td>\n",
       "      <td>Positive</td>\n",
       "      <td>0.2023</td>\n",
       "    </tr>\n",
       "    <tr>\n",
       "      <th>...</th>\n",
       "      <td>...</td>\n",
       "      <td>...</td>\n",
       "      <td>...</td>\n",
       "      <td>...</td>\n",
       "    </tr>\n",
       "    <tr>\n",
       "      <th>536</th>\n",
       "      <td>Installed iOS 14 beta on my main phone yesterd...</td>\n",
       "      <td>installed ios  beta on my main phone yesterday...</td>\n",
       "      <td>Positive</td>\n",
       "      <td>0.5267</td>\n",
       "    </tr>\n",
       "    <tr>\n",
       "      <th>537</th>\n",
       "      <td>@NianticHelp update was pushed and still didn’...</td>\n",
       "      <td>update was pushed and still didnt fix crashin...</td>\n",
       "      <td>Negative</td>\n",
       "      <td>-0.7122</td>\n",
       "    </tr>\n",
       "    <tr>\n",
       "      <th>538</th>\n",
       "      <td>Do I recommend installing the new iOS 14 publi...</td>\n",
       "      <td>do recommend installing the new ios  public be...</td>\n",
       "      <td>Positive</td>\n",
       "      <td>0.7717</td>\n",
       "    </tr>\n",
       "    <tr>\n",
       "      <th>539</th>\n",
       "      <td>atualizei pro beta do iOS 14 e agora tá tudo b...</td>\n",
       "      <td>atualizei pro beta do ios agora tudo bugado te...</td>\n",
       "      <td>Negative</td>\n",
       "      <td>-0.2960</td>\n",
       "    </tr>\n",
       "    <tr>\n",
       "      <th>540</th>\n",
       "      <td>@NianticHelp @PokemonGoApp Please help. Pokémo...</td>\n",
       "      <td>please help pokmon go seems to be broken on ...</td>\n",
       "      <td>Positive</td>\n",
       "      <td>0.5574</td>\n",
       "    </tr>\n",
       "  </tbody>\n",
       "</table>\n",
       "<p>541 rows × 4 columns</p>\n",
       "</div>"
      ],
      "text/plain": [
       "                                                  Text  \\\n",
       "0    Τεχνολογία: Regret installing the iOS 14 or iP...   \n",
       "1    This iOS 14 beta fine bug wise but it’s taking...   \n",
       "2    @AravenaEs @joepenora @9to5mac @filipeesposito...   \n",
       "3    @SkyHelpTeam Running the public beta of iOS 14...   \n",
       "4    Updated to iOS 14 beta. Everything is working ...   \n",
       "..                                                 ...   \n",
       "536  Installed iOS 14 beta on my main phone yesterd...   \n",
       "537  @NianticHelp update was pushed and still didn’...   \n",
       "538  Do I recommend installing the new iOS 14 publi...   \n",
       "539  atualizei pro beta do iOS 14 e agora tá tudo b...   \n",
       "540  @NianticHelp @PokemonGoApp Please help. Pokémo...   \n",
       "\n",
       "                                            clean_text sentiment  \\\n",
       "0      regret installing the ios  or ipados  public...  Negative   \n",
       "1    this ios  beta fine bug wise but its taking up...  Negative   \n",
       "2        ios  beta  solved all my issues from ios  ...  Negative   \n",
       "3     running the public beta of ios  and found sky...  Positive   \n",
       "4    updated to ios  beta everything is working fin...  Positive   \n",
       "..                                                 ...       ...   \n",
       "536  installed ios  beta on my main phone yesterday...  Positive   \n",
       "537   update was pushed and still didnt fix crashin...  Negative   \n",
       "538  do recommend installing the new ios  public be...  Positive   \n",
       "539  atualizei pro beta do ios agora tudo bugado te...  Negative   \n",
       "540    please help pokmon go seems to be broken on ...  Positive   \n",
       "\n",
       "     sentiment score  \n",
       "0            -0.4215  \n",
       "1            -0.1280  \n",
       "2            -0.4588  \n",
       "3             0.2500  \n",
       "4             0.2023  \n",
       "..               ...  \n",
       "536           0.5267  \n",
       "537          -0.7122  \n",
       "538           0.7717  \n",
       "539          -0.2960  \n",
       "540           0.5574  \n",
       "\n",
       "[541 rows x 4 columns]"
      ]
     },
     "execution_count": 6,
     "metadata": {},
     "output_type": "execute_result"
    }
   ],
   "source": [
    "# apply sentiment analysis\n",
    "analyser = SentimentIntensityAnalyzer()\n",
    "\n",
    "sentiment_score_list = []\n",
    "sentiment_label_list = []\n",
    "\n",
    "for i in df['clean_text'].values.tolist():\n",
    "    sentiment_score = analyser.polarity_scores(i)\n",
    "\n",
    "    if sentiment_score['compound'] >= 0.05:\n",
    "        sentiment_score_list.append(sentiment_score['compound'])\n",
    "        sentiment_label_list.append('Positive')\n",
    "    elif sentiment_score['compound'] > -0.05 and sentiment_score['compound'] < 0.05:\n",
    "        sentiment_score_list.append(sentiment_score['compound'])\n",
    "        sentiment_label_list.append('Neutral')\n",
    "    elif sentiment_score['compound'] <= -0.05:\n",
    "        sentiment_score_list.append(sentiment_score['compound'])\n",
    "        sentiment_label_list.append('Negative')\n",
    "    \n",
    "df['sentiment'] = sentiment_label_list\n",
    "df['sentiment score'] = sentiment_score_list\n",
    "df = df[df['sentiment'] != 'Neutral']\n",
    "df = df.reset_index(drop=True)\n",
    "df"
   ]
  },
  {
   "cell_type": "code",
   "execution_count": 7,
   "id": "ba77b699",
   "metadata": {},
   "outputs": [
    {
     "data": {
      "text/html": [
       "<div>\n",
       "<style scoped>\n",
       "    .dataframe tbody tr th:only-of-type {\n",
       "        vertical-align: middle;\n",
       "    }\n",
       "\n",
       "    .dataframe tbody tr th {\n",
       "        vertical-align: top;\n",
       "    }\n",
       "\n",
       "    .dataframe thead th {\n",
       "        text-align: right;\n",
       "    }\n",
       "</style>\n",
       "<table border=\"1\" class=\"dataframe\">\n",
       "  <thead>\n",
       "    <tr style=\"text-align: right;\">\n",
       "      <th></th>\n",
       "      <th>Text</th>\n",
       "      <th>clean_text</th>\n",
       "      <th>sentiment</th>\n",
       "      <th>sentiment score</th>\n",
       "      <th>tokenise</th>\n",
       "    </tr>\n",
       "  </thead>\n",
       "  <tbody>\n",
       "    <tr>\n",
       "      <th>0</th>\n",
       "      <td>Τεχνολογία: Regret installing the iOS 14 or iP...</td>\n",
       "      <td>regret installing the ios  or ipados  public...</td>\n",
       "      <td>Negative</td>\n",
       "      <td>-0.4215</td>\n",
       "      <td>[regret, installing, the, ios, or, ipados, pub...</td>\n",
       "    </tr>\n",
       "    <tr>\n",
       "      <th>1</th>\n",
       "      <td>This iOS 14 beta fine bug wise but it’s taking...</td>\n",
       "      <td>this ios  beta fine bug wise but its taking up...</td>\n",
       "      <td>Negative</td>\n",
       "      <td>-0.1280</td>\n",
       "      <td>[this, ios, beta, fine, bug, wise, but, its, t...</td>\n",
       "    </tr>\n",
       "    <tr>\n",
       "      <th>2</th>\n",
       "      <td>@AravenaEs @joepenora @9to5mac @filipeesposito...</td>\n",
       "      <td>ios  beta  solved all my issues from ios  ...</td>\n",
       "      <td>Negative</td>\n",
       "      <td>-0.4588</td>\n",
       "      <td>[ios, beta, solved, all, my, issues, from, ios...</td>\n",
       "    </tr>\n",
       "    <tr>\n",
       "      <th>3</th>\n",
       "      <td>@SkyHelpTeam Running the public beta of iOS 14...</td>\n",
       "      <td>running the public beta of ios  and found sky...</td>\n",
       "      <td>Positive</td>\n",
       "      <td>0.2500</td>\n",
       "      <td>[running, the, public, beta, of, ios, and, fou...</td>\n",
       "    </tr>\n",
       "    <tr>\n",
       "      <th>4</th>\n",
       "      <td>Updated to iOS 14 beta. Everything is working ...</td>\n",
       "      <td>updated to ios  beta everything is working fin...</td>\n",
       "      <td>Positive</td>\n",
       "      <td>0.2023</td>\n",
       "      <td>[updated, to, ios, beta, everything, is, worki...</td>\n",
       "    </tr>\n",
       "    <tr>\n",
       "      <th>...</th>\n",
       "      <td>...</td>\n",
       "      <td>...</td>\n",
       "      <td>...</td>\n",
       "      <td>...</td>\n",
       "      <td>...</td>\n",
       "    </tr>\n",
       "    <tr>\n",
       "      <th>536</th>\n",
       "      <td>Installed iOS 14 beta on my main phone yesterd...</td>\n",
       "      <td>installed ios  beta on my main phone yesterday...</td>\n",
       "      <td>Positive</td>\n",
       "      <td>0.5267</td>\n",
       "      <td>[installed, ios, beta, on, my, main, phone, ye...</td>\n",
       "    </tr>\n",
       "    <tr>\n",
       "      <th>537</th>\n",
       "      <td>@NianticHelp update was pushed and still didn’...</td>\n",
       "      <td>update was pushed and still didnt fix crashin...</td>\n",
       "      <td>Negative</td>\n",
       "      <td>-0.7122</td>\n",
       "      <td>[update, was, pushed, and, still, didnt, fix, ...</td>\n",
       "    </tr>\n",
       "    <tr>\n",
       "      <th>538</th>\n",
       "      <td>Do I recommend installing the new iOS 14 publi...</td>\n",
       "      <td>do recommend installing the new ios  public be...</td>\n",
       "      <td>Positive</td>\n",
       "      <td>0.7717</td>\n",
       "      <td>[do, recommend, installing, the, new, ios, pub...</td>\n",
       "    </tr>\n",
       "    <tr>\n",
       "      <th>539</th>\n",
       "      <td>atualizei pro beta do iOS 14 e agora tá tudo b...</td>\n",
       "      <td>atualizei pro beta do ios agora tudo bugado te...</td>\n",
       "      <td>Negative</td>\n",
       "      <td>-0.2960</td>\n",
       "      <td>[atualizei, pro, beta, do, ios, agora, tudo, b...</td>\n",
       "    </tr>\n",
       "    <tr>\n",
       "      <th>540</th>\n",
       "      <td>@NianticHelp @PokemonGoApp Please help. Pokémo...</td>\n",
       "      <td>please help pokmon go seems to be broken on ...</td>\n",
       "      <td>Positive</td>\n",
       "      <td>0.5574</td>\n",
       "      <td>[please, help, pokmon, go, seems, to, be, brok...</td>\n",
       "    </tr>\n",
       "  </tbody>\n",
       "</table>\n",
       "<p>541 rows × 5 columns</p>\n",
       "</div>"
      ],
      "text/plain": [
       "                                                  Text  \\\n",
       "0    Τεχνολογία: Regret installing the iOS 14 or iP...   \n",
       "1    This iOS 14 beta fine bug wise but it’s taking...   \n",
       "2    @AravenaEs @joepenora @9to5mac @filipeesposito...   \n",
       "3    @SkyHelpTeam Running the public beta of iOS 14...   \n",
       "4    Updated to iOS 14 beta. Everything is working ...   \n",
       "..                                                 ...   \n",
       "536  Installed iOS 14 beta on my main phone yesterd...   \n",
       "537  @NianticHelp update was pushed and still didn’...   \n",
       "538  Do I recommend installing the new iOS 14 publi...   \n",
       "539  atualizei pro beta do iOS 14 e agora tá tudo b...   \n",
       "540  @NianticHelp @PokemonGoApp Please help. Pokémo...   \n",
       "\n",
       "                                            clean_text sentiment  \\\n",
       "0      regret installing the ios  or ipados  public...  Negative   \n",
       "1    this ios  beta fine bug wise but its taking up...  Negative   \n",
       "2        ios  beta  solved all my issues from ios  ...  Negative   \n",
       "3     running the public beta of ios  and found sky...  Positive   \n",
       "4    updated to ios  beta everything is working fin...  Positive   \n",
       "..                                                 ...       ...   \n",
       "536  installed ios  beta on my main phone yesterday...  Positive   \n",
       "537   update was pushed and still didnt fix crashin...  Negative   \n",
       "538  do recommend installing the new ios  public be...  Positive   \n",
       "539  atualizei pro beta do ios agora tudo bugado te...  Negative   \n",
       "540    please help pokmon go seems to be broken on ...  Positive   \n",
       "\n",
       "     sentiment score                                           tokenise  \n",
       "0            -0.4215  [regret, installing, the, ios, or, ipados, pub...  \n",
       "1            -0.1280  [this, ios, beta, fine, bug, wise, but, its, t...  \n",
       "2            -0.4588  [ios, beta, solved, all, my, issues, from, ios...  \n",
       "3             0.2500  [running, the, public, beta, of, ios, and, fou...  \n",
       "4             0.2023  [updated, to, ios, beta, everything, is, worki...  \n",
       "..               ...                                                ...  \n",
       "536           0.5267  [installed, ios, beta, on, my, main, phone, ye...  \n",
       "537          -0.7122  [update, was, pushed, and, still, didnt, fix, ...  \n",
       "538           0.7717  [do, recommend, installing, the, new, ios, pub...  \n",
       "539          -0.2960  [atualizei, pro, beta, do, ios, agora, tudo, b...  \n",
       "540           0.5574  [please, help, pokmon, go, seems, to, be, brok...  \n",
       "\n",
       "[541 rows x 5 columns]"
      ]
     },
     "execution_count": 7,
     "metadata": {},
     "output_type": "execute_result"
    }
   ],
   "source": [
    "# tokenise string\n",
    "df['tokenise'] = df.apply(lambda row: nltk.word_tokenize(row[1]), axis=1)\n",
    "df"
   ]
  },
  {
   "cell_type": "code",
   "execution_count": 8,
   "id": "60b9506f",
   "metadata": {},
   "outputs": [
    {
     "data": {
      "text/html": [
       "<div>\n",
       "<style scoped>\n",
       "    .dataframe tbody tr th:only-of-type {\n",
       "        vertical-align: middle;\n",
       "    }\n",
       "\n",
       "    .dataframe tbody tr th {\n",
       "        vertical-align: top;\n",
       "    }\n",
       "\n",
       "    .dataframe thead th {\n",
       "        text-align: right;\n",
       "    }\n",
       "</style>\n",
       "<table border=\"1\" class=\"dataframe\">\n",
       "  <thead>\n",
       "    <tr style=\"text-align: right;\">\n",
       "      <th></th>\n",
       "      <th>Text</th>\n",
       "      <th>clean_text</th>\n",
       "      <th>sentiment</th>\n",
       "      <th>sentiment score</th>\n",
       "      <th>tokenise</th>\n",
       "      <th>lemmatise</th>\n",
       "    </tr>\n",
       "  </thead>\n",
       "  <tbody>\n",
       "    <tr>\n",
       "      <th>0</th>\n",
       "      <td>Τεχνολογία: Regret installing the iOS 14 or iP...</td>\n",
       "      <td>regret installing the ios  or ipados  public...</td>\n",
       "      <td>Negative</td>\n",
       "      <td>-0.4215</td>\n",
       "      <td>[regret, installing, the, ios, or, ipados, pub...</td>\n",
       "      <td>[regret, installing, the, io, or, ipados, publ...</td>\n",
       "    </tr>\n",
       "    <tr>\n",
       "      <th>1</th>\n",
       "      <td>This iOS 14 beta fine bug wise but it’s taking...</td>\n",
       "      <td>this ios  beta fine bug wise but its taking up...</td>\n",
       "      <td>Negative</td>\n",
       "      <td>-0.1280</td>\n",
       "      <td>[this, ios, beta, fine, bug, wise, but, its, t...</td>\n",
       "      <td>[this, io, beta, fine, bug, wise, but, it, tak...</td>\n",
       "    </tr>\n",
       "    <tr>\n",
       "      <th>2</th>\n",
       "      <td>@AravenaEs @joepenora @9to5mac @filipeesposito...</td>\n",
       "      <td>ios  beta  solved all my issues from ios  ...</td>\n",
       "      <td>Negative</td>\n",
       "      <td>-0.4588</td>\n",
       "      <td>[ios, beta, solved, all, my, issues, from, ios...</td>\n",
       "      <td>[io, beta, solved, all, my, issue, from, io, h...</td>\n",
       "    </tr>\n",
       "    <tr>\n",
       "      <th>3</th>\n",
       "      <td>@SkyHelpTeam Running the public beta of iOS 14...</td>\n",
       "      <td>running the public beta of ios  and found sky...</td>\n",
       "      <td>Positive</td>\n",
       "      <td>0.2500</td>\n",
       "      <td>[running, the, public, beta, of, ios, and, fou...</td>\n",
       "      <td>[running, the, public, beta, of, io, and, foun...</td>\n",
       "    </tr>\n",
       "    <tr>\n",
       "      <th>4</th>\n",
       "      <td>Updated to iOS 14 beta. Everything is working ...</td>\n",
       "      <td>updated to ios  beta everything is working fin...</td>\n",
       "      <td>Positive</td>\n",
       "      <td>0.2023</td>\n",
       "      <td>[updated, to, ios, beta, everything, is, worki...</td>\n",
       "      <td>[updated, to, io, beta, everything, is, workin...</td>\n",
       "    </tr>\n",
       "    <tr>\n",
       "      <th>...</th>\n",
       "      <td>...</td>\n",
       "      <td>...</td>\n",
       "      <td>...</td>\n",
       "      <td>...</td>\n",
       "      <td>...</td>\n",
       "      <td>...</td>\n",
       "    </tr>\n",
       "    <tr>\n",
       "      <th>536</th>\n",
       "      <td>Installed iOS 14 beta on my main phone yesterd...</td>\n",
       "      <td>installed ios  beta on my main phone yesterday...</td>\n",
       "      <td>Positive</td>\n",
       "      <td>0.5267</td>\n",
       "      <td>[installed, ios, beta, on, my, main, phone, ye...</td>\n",
       "      <td>[installed, io, beta, on, my, main, phone, yes...</td>\n",
       "    </tr>\n",
       "    <tr>\n",
       "      <th>537</th>\n",
       "      <td>@NianticHelp update was pushed and still didn’...</td>\n",
       "      <td>update was pushed and still didnt fix crashin...</td>\n",
       "      <td>Negative</td>\n",
       "      <td>-0.7122</td>\n",
       "      <td>[update, was, pushed, and, still, didnt, fix, ...</td>\n",
       "      <td>[update, wa, pushed, and, still, didnt, fix, c...</td>\n",
       "    </tr>\n",
       "    <tr>\n",
       "      <th>538</th>\n",
       "      <td>Do I recommend installing the new iOS 14 publi...</td>\n",
       "      <td>do recommend installing the new ios  public be...</td>\n",
       "      <td>Positive</td>\n",
       "      <td>0.7717</td>\n",
       "      <td>[do, recommend, installing, the, new, ios, pub...</td>\n",
       "      <td>[do, recommend, installing, the, new, io, publ...</td>\n",
       "    </tr>\n",
       "    <tr>\n",
       "      <th>539</th>\n",
       "      <td>atualizei pro beta do iOS 14 e agora tá tudo b...</td>\n",
       "      <td>atualizei pro beta do ios agora tudo bugado te...</td>\n",
       "      <td>Negative</td>\n",
       "      <td>-0.2960</td>\n",
       "      <td>[atualizei, pro, beta, do, ios, agora, tudo, b...</td>\n",
       "      <td>[atualizei, pro, beta, do, io, agora, tudo, bu...</td>\n",
       "    </tr>\n",
       "    <tr>\n",
       "      <th>540</th>\n",
       "      <td>@NianticHelp @PokemonGoApp Please help. Pokémo...</td>\n",
       "      <td>please help pokmon go seems to be broken on ...</td>\n",
       "      <td>Positive</td>\n",
       "      <td>0.5574</td>\n",
       "      <td>[please, help, pokmon, go, seems, to, be, brok...</td>\n",
       "      <td>[please, help, pokmon, go, seems, to, be, brok...</td>\n",
       "    </tr>\n",
       "  </tbody>\n",
       "</table>\n",
       "<p>541 rows × 6 columns</p>\n",
       "</div>"
      ],
      "text/plain": [
       "                                                  Text  \\\n",
       "0    Τεχνολογία: Regret installing the iOS 14 or iP...   \n",
       "1    This iOS 14 beta fine bug wise but it’s taking...   \n",
       "2    @AravenaEs @joepenora @9to5mac @filipeesposito...   \n",
       "3    @SkyHelpTeam Running the public beta of iOS 14...   \n",
       "4    Updated to iOS 14 beta. Everything is working ...   \n",
       "..                                                 ...   \n",
       "536  Installed iOS 14 beta on my main phone yesterd...   \n",
       "537  @NianticHelp update was pushed and still didn’...   \n",
       "538  Do I recommend installing the new iOS 14 publi...   \n",
       "539  atualizei pro beta do iOS 14 e agora tá tudo b...   \n",
       "540  @NianticHelp @PokemonGoApp Please help. Pokémo...   \n",
       "\n",
       "                                            clean_text sentiment  \\\n",
       "0      regret installing the ios  or ipados  public...  Negative   \n",
       "1    this ios  beta fine bug wise but its taking up...  Negative   \n",
       "2        ios  beta  solved all my issues from ios  ...  Negative   \n",
       "3     running the public beta of ios  and found sky...  Positive   \n",
       "4    updated to ios  beta everything is working fin...  Positive   \n",
       "..                                                 ...       ...   \n",
       "536  installed ios  beta on my main phone yesterday...  Positive   \n",
       "537   update was pushed and still didnt fix crashin...  Negative   \n",
       "538  do recommend installing the new ios  public be...  Positive   \n",
       "539  atualizei pro beta do ios agora tudo bugado te...  Negative   \n",
       "540    please help pokmon go seems to be broken on ...  Positive   \n",
       "\n",
       "     sentiment score                                           tokenise  \\\n",
       "0            -0.4215  [regret, installing, the, ios, or, ipados, pub...   \n",
       "1            -0.1280  [this, ios, beta, fine, bug, wise, but, its, t...   \n",
       "2            -0.4588  [ios, beta, solved, all, my, issues, from, ios...   \n",
       "3             0.2500  [running, the, public, beta, of, ios, and, fou...   \n",
       "4             0.2023  [updated, to, ios, beta, everything, is, worki...   \n",
       "..               ...                                                ...   \n",
       "536           0.5267  [installed, ios, beta, on, my, main, phone, ye...   \n",
       "537          -0.7122  [update, was, pushed, and, still, didnt, fix, ...   \n",
       "538           0.7717  [do, recommend, installing, the, new, ios, pub...   \n",
       "539          -0.2960  [atualizei, pro, beta, do, ios, agora, tudo, b...   \n",
       "540           0.5574  [please, help, pokmon, go, seems, to, be, brok...   \n",
       "\n",
       "                                             lemmatise  \n",
       "0    [regret, installing, the, io, or, ipados, publ...  \n",
       "1    [this, io, beta, fine, bug, wise, but, it, tak...  \n",
       "2    [io, beta, solved, all, my, issue, from, io, h...  \n",
       "3    [running, the, public, beta, of, io, and, foun...  \n",
       "4    [updated, to, io, beta, everything, is, workin...  \n",
       "..                                                 ...  \n",
       "536  [installed, io, beta, on, my, main, phone, yes...  \n",
       "537  [update, wa, pushed, and, still, didnt, fix, c...  \n",
       "538  [do, recommend, installing, the, new, io, publ...  \n",
       "539  [atualizei, pro, beta, do, io, agora, tudo, bu...  \n",
       "540  [please, help, pokmon, go, seems, to, be, brok...  \n",
       "\n",
       "[541 rows x 6 columns]"
      ]
     },
     "execution_count": 8,
     "metadata": {},
     "output_type": "execute_result"
    }
   ],
   "source": [
    "# initiate nltk lemmatiser\n",
    "wordnet_lemmatizer = WordNetLemmatizer()\n",
    "\n",
    "# lemmatise words\n",
    "df['lemmatise'] = df['tokenise'].apply(lambda x: [wordnet_lemmatizer.lemmatize(y) for y in x]) \n",
    "df"
   ]
  },
  {
   "cell_type": "code",
   "execution_count": 9,
   "id": "555d97bc",
   "metadata": {},
   "outputs": [
    {
     "data": {
      "text/html": [
       "<div>\n",
       "<style scoped>\n",
       "    .dataframe tbody tr th:only-of-type {\n",
       "        vertical-align: middle;\n",
       "    }\n",
       "\n",
       "    .dataframe tbody tr th {\n",
       "        vertical-align: top;\n",
       "    }\n",
       "\n",
       "    .dataframe thead th {\n",
       "        text-align: right;\n",
       "    }\n",
       "</style>\n",
       "<table border=\"1\" class=\"dataframe\">\n",
       "  <thead>\n",
       "    <tr style=\"text-align: right;\">\n",
       "      <th></th>\n",
       "      <th>Text</th>\n",
       "      <th>clean_text</th>\n",
       "      <th>sentiment</th>\n",
       "      <th>sentiment score</th>\n",
       "      <th>tokenise</th>\n",
       "      <th>lemmatise</th>\n",
       "      <th>remove_stopwords</th>\n",
       "    </tr>\n",
       "  </thead>\n",
       "  <tbody>\n",
       "    <tr>\n",
       "      <th>0</th>\n",
       "      <td>Τεχνολογία: Regret installing the iOS 14 or iP...</td>\n",
       "      <td>regret installing the ios  or ipados  public...</td>\n",
       "      <td>Negative</td>\n",
       "      <td>-0.4215</td>\n",
       "      <td>[regret, installing, the, ios, or, ipados, pub...</td>\n",
       "      <td>[regret, installing, the, io, or, ipados, publ...</td>\n",
       "      <td>[regret, installing, ipados, go, back, cnet]</td>\n",
       "    </tr>\n",
       "    <tr>\n",
       "      <th>1</th>\n",
       "      <td>This iOS 14 beta fine bug wise but it’s taking...</td>\n",
       "      <td>this ios  beta fine bug wise but its taking up...</td>\n",
       "      <td>Negative</td>\n",
       "      <td>-0.1280</td>\n",
       "      <td>[this, ios, beta, fine, bug, wise, but, its, t...</td>\n",
       "      <td>[this, io, beta, fine, bug, wise, but, it, tak...</td>\n",
       "      <td>[fine, bug, wise, taking, gb, storage, phone, ...</td>\n",
       "    </tr>\n",
       "    <tr>\n",
       "      <th>2</th>\n",
       "      <td>@AravenaEs @joepenora @9to5mac @filipeesposito...</td>\n",
       "      <td>ios  beta  solved all my issues from ios  ...</td>\n",
       "      <td>Negative</td>\n",
       "      <td>-0.4588</td>\n",
       "      <td>[ios, beta, solved, all, my, issues, from, ios...</td>\n",
       "      <td>[io, beta, solved, all, my, issue, from, io, h...</td>\n",
       "      <td>[solved, issue, facetime, issue, hour, would, ...</td>\n",
       "    </tr>\n",
       "    <tr>\n",
       "      <th>3</th>\n",
       "      <td>@SkyHelpTeam Running the public beta of iOS 14...</td>\n",
       "      <td>running the public beta of ios  and found sky...</td>\n",
       "      <td>Positive</td>\n",
       "      <td>0.2500</td>\n",
       "      <td>[running, the, public, beta, of, ios, and, fou...</td>\n",
       "      <td>[running, the, public, beta, of, io, and, foun...</td>\n",
       "      <td>[running, found, skygo, get, pas, splash, scre...</td>\n",
       "    </tr>\n",
       "    <tr>\n",
       "      <th>4</th>\n",
       "      <td>Updated to iOS 14 beta. Everything is working ...</td>\n",
       "      <td>updated to ios  beta everything is working fin...</td>\n",
       "      <td>Positive</td>\n",
       "      <td>0.2023</td>\n",
       "      <td>[updated, to, ios, beta, everything, is, worki...</td>\n",
       "      <td>[updated, to, io, beta, everything, is, workin...</td>\n",
       "      <td>[updated, everything, working, fine, far, phon...</td>\n",
       "    </tr>\n",
       "    <tr>\n",
       "      <th>...</th>\n",
       "      <td>...</td>\n",
       "      <td>...</td>\n",
       "      <td>...</td>\n",
       "      <td>...</td>\n",
       "      <td>...</td>\n",
       "      <td>...</td>\n",
       "      <td>...</td>\n",
       "    </tr>\n",
       "    <tr>\n",
       "      <th>536</th>\n",
       "      <td>Installed iOS 14 beta on my main phone yesterd...</td>\n",
       "      <td>installed ios  beta on my main phone yesterday...</td>\n",
       "      <td>Positive</td>\n",
       "      <td>0.5267</td>\n",
       "      <td>[installed, ios, beta, on, my, main, phone, ye...</td>\n",
       "      <td>[installed, io, beta, on, my, main, phone, yes...</td>\n",
       "      <td>[installed, main, phone, yesterday, ended, spe...</td>\n",
       "    </tr>\n",
       "    <tr>\n",
       "      <th>537</th>\n",
       "      <td>@NianticHelp update was pushed and still didn’...</td>\n",
       "      <td>update was pushed and still didnt fix crashin...</td>\n",
       "      <td>Negative</td>\n",
       "      <td>-0.7122</td>\n",
       "      <td>[update, was, pushed, and, still, didnt, fix, ...</td>\n",
       "      <td>[update, wa, pushed, and, still, didnt, fix, c...</td>\n",
       "      <td>[update, wa, pushed, still, didnt, fix, crashi...</td>\n",
       "    </tr>\n",
       "    <tr>\n",
       "      <th>538</th>\n",
       "      <td>Do I recommend installing the new iOS 14 publi...</td>\n",
       "      <td>do recommend installing the new ios  public be...</td>\n",
       "      <td>Positive</td>\n",
       "      <td>0.7717</td>\n",
       "      <td>[do, recommend, installing, the, new, ios, pub...</td>\n",
       "      <td>[do, recommend, installing, the, new, io, publ...</td>\n",
       "      <td>[recommend, installing, yes, course, come, mul...</td>\n",
       "    </tr>\n",
       "    <tr>\n",
       "      <th>539</th>\n",
       "      <td>atualizei pro beta do iOS 14 e agora tá tudo b...</td>\n",
       "      <td>atualizei pro beta do ios agora tudo bugado te...</td>\n",
       "      <td>Negative</td>\n",
       "      <td>-0.2960</td>\n",
       "      <td>[atualizei, pro, beta, do, ios, agora, tudo, b...</td>\n",
       "      <td>[atualizei, pro, beta, do, io, agora, tudo, bu...</td>\n",
       "      <td>[atualizei, pro, agora, tudo, bugado, tenho, q...</td>\n",
       "    </tr>\n",
       "    <tr>\n",
       "      <th>540</th>\n",
       "      <td>@NianticHelp @PokemonGoApp Please help. Pokémo...</td>\n",
       "      <td>please help pokmon go seems to be broken on ...</td>\n",
       "      <td>Positive</td>\n",
       "      <td>0.5574</td>\n",
       "      <td>[please, help, pokmon, go, seems, to, be, brok...</td>\n",
       "      <td>[please, help, pokmon, go, seems, to, be, brok...</td>\n",
       "      <td>[please, help, pokmon, go, seems, broken, unde...</td>\n",
       "    </tr>\n",
       "  </tbody>\n",
       "</table>\n",
       "<p>541 rows × 7 columns</p>\n",
       "</div>"
      ],
      "text/plain": [
       "                                                  Text  \\\n",
       "0    Τεχνολογία: Regret installing the iOS 14 or iP...   \n",
       "1    This iOS 14 beta fine bug wise but it’s taking...   \n",
       "2    @AravenaEs @joepenora @9to5mac @filipeesposito...   \n",
       "3    @SkyHelpTeam Running the public beta of iOS 14...   \n",
       "4    Updated to iOS 14 beta. Everything is working ...   \n",
       "..                                                 ...   \n",
       "536  Installed iOS 14 beta on my main phone yesterd...   \n",
       "537  @NianticHelp update was pushed and still didn’...   \n",
       "538  Do I recommend installing the new iOS 14 publi...   \n",
       "539  atualizei pro beta do iOS 14 e agora tá tudo b...   \n",
       "540  @NianticHelp @PokemonGoApp Please help. Pokémo...   \n",
       "\n",
       "                                            clean_text sentiment  \\\n",
       "0      regret installing the ios  or ipados  public...  Negative   \n",
       "1    this ios  beta fine bug wise but its taking up...  Negative   \n",
       "2        ios  beta  solved all my issues from ios  ...  Negative   \n",
       "3     running the public beta of ios  and found sky...  Positive   \n",
       "4    updated to ios  beta everything is working fin...  Positive   \n",
       "..                                                 ...       ...   \n",
       "536  installed ios  beta on my main phone yesterday...  Positive   \n",
       "537   update was pushed and still didnt fix crashin...  Negative   \n",
       "538  do recommend installing the new ios  public be...  Positive   \n",
       "539  atualizei pro beta do ios agora tudo bugado te...  Negative   \n",
       "540    please help pokmon go seems to be broken on ...  Positive   \n",
       "\n",
       "     sentiment score                                           tokenise  \\\n",
       "0            -0.4215  [regret, installing, the, ios, or, ipados, pub...   \n",
       "1            -0.1280  [this, ios, beta, fine, bug, wise, but, its, t...   \n",
       "2            -0.4588  [ios, beta, solved, all, my, issues, from, ios...   \n",
       "3             0.2500  [running, the, public, beta, of, ios, and, fou...   \n",
       "4             0.2023  [updated, to, ios, beta, everything, is, worki...   \n",
       "..               ...                                                ...   \n",
       "536           0.5267  [installed, ios, beta, on, my, main, phone, ye...   \n",
       "537          -0.7122  [update, was, pushed, and, still, didnt, fix, ...   \n",
       "538           0.7717  [do, recommend, installing, the, new, ios, pub...   \n",
       "539          -0.2960  [atualizei, pro, beta, do, ios, agora, tudo, b...   \n",
       "540           0.5574  [please, help, pokmon, go, seems, to, be, brok...   \n",
       "\n",
       "                                             lemmatise  \\\n",
       "0    [regret, installing, the, io, or, ipados, publ...   \n",
       "1    [this, io, beta, fine, bug, wise, but, it, tak...   \n",
       "2    [io, beta, solved, all, my, issue, from, io, h...   \n",
       "3    [running, the, public, beta, of, io, and, foun...   \n",
       "4    [updated, to, io, beta, everything, is, workin...   \n",
       "..                                                 ...   \n",
       "536  [installed, io, beta, on, my, main, phone, yes...   \n",
       "537  [update, wa, pushed, and, still, didnt, fix, c...   \n",
       "538  [do, recommend, installing, the, new, io, publ...   \n",
       "539  [atualizei, pro, beta, do, io, agora, tudo, bu...   \n",
       "540  [please, help, pokmon, go, seems, to, be, brok...   \n",
       "\n",
       "                                      remove_stopwords  \n",
       "0         [regret, installing, ipados, go, back, cnet]  \n",
       "1    [fine, bug, wise, taking, gb, storage, phone, ...  \n",
       "2    [solved, issue, facetime, issue, hour, would, ...  \n",
       "3    [running, found, skygo, get, pas, splash, scre...  \n",
       "4    [updated, everything, working, fine, far, phon...  \n",
       "..                                                 ...  \n",
       "536  [installed, main, phone, yesterday, ended, spe...  \n",
       "537  [update, wa, pushed, still, didnt, fix, crashi...  \n",
       "538  [recommend, installing, yes, course, come, mul...  \n",
       "539  [atualizei, pro, agora, tudo, bugado, tenho, q...  \n",
       "540  [please, help, pokmon, go, seems, broken, unde...  \n",
       "\n",
       "[541 rows x 7 columns]"
      ]
     },
     "execution_count": 9,
     "metadata": {},
     "output_type": "execute_result"
    }
   ],
   "source": [
    "# initiate stopwords from nltk\n",
    "stop_words = stopwords.words('english')\n",
    "\n",
    "# add additional missing terms\n",
    "user_stop_words = ['ios','io', 'apps','app','android','public', 'private', 'new','ios14','beta','14']\n",
    "\n",
    "alphabets = list(string.ascii_lowercase)\n",
    "stop_words = stop_words + user_stop_words + alphabets\n",
    "\n",
    "# remove stopwords\n",
    "df['remove_stopwords'] = df['lemmatise'].apply(lambda x: [item for item in x if item not in stop_words])\n",
    "\n",
    "df"
   ]
  },
  {
   "cell_type": "code",
   "execution_count": 10,
   "id": "c4f08913",
   "metadata": {},
   "outputs": [],
   "source": [
    "# function to obtain adjectives from tweets\n",
    "def getAdjectives(tweet):\n",
    "    tweet = [word for (word, tag) in pos_tag(tweet) if tag == \"JJ\"]  # pos_tag module in NLTK library\n",
    "    return \" \".join(tweet)  # join words with a space in between them"
   ]
  },
  {
   "cell_type": "code",
   "execution_count": 11,
   "id": "524eb58e",
   "metadata": {},
   "outputs": [],
   "source": [
    "df['Tweets_Adjectives'] = df['remove_stopwords'].apply(getAdjectives)"
   ]
  },
  {
   "cell_type": "code",
   "execution_count": 12,
   "id": "662f86bc",
   "metadata": {},
   "outputs": [
    {
     "data": {
      "text/html": [
       "<div>\n",
       "<style scoped>\n",
       "    .dataframe tbody tr th:only-of-type {\n",
       "        vertical-align: middle;\n",
       "    }\n",
       "\n",
       "    .dataframe tbody tr th {\n",
       "        vertical-align: top;\n",
       "    }\n",
       "\n",
       "    .dataframe thead th {\n",
       "        text-align: right;\n",
       "    }\n",
       "</style>\n",
       "<table border=\"1\" class=\"dataframe\">\n",
       "  <thead>\n",
       "    <tr style=\"text-align: right;\">\n",
       "      <th></th>\n",
       "      <th>Text</th>\n",
       "      <th>clean_text</th>\n",
       "      <th>sentiment</th>\n",
       "      <th>sentiment score</th>\n",
       "      <th>tokenise</th>\n",
       "      <th>lemmatise</th>\n",
       "      <th>remove_stopwords</th>\n",
       "      <th>Tweets_Adjectives</th>\n",
       "    </tr>\n",
       "  </thead>\n",
       "  <tbody>\n",
       "    <tr>\n",
       "      <th>0</th>\n",
       "      <td>Τεχνολογία: Regret installing the iOS 14 or iP...</td>\n",
       "      <td>regret installing the ios  or ipados  public...</td>\n",
       "      <td>Negative</td>\n",
       "      <td>-0.4215</td>\n",
       "      <td>[regret, installing, the, ios, or, ipados, pub...</td>\n",
       "      <td>[regret, installing, the, io, or, ipados, publ...</td>\n",
       "      <td>[regret, installing, ipados, go, back, cnet]</td>\n",
       "      <td></td>\n",
       "    </tr>\n",
       "    <tr>\n",
       "      <th>1</th>\n",
       "      <td>This iOS 14 beta fine bug wise but it’s taking...</td>\n",
       "      <td>this ios  beta fine bug wise but its taking up...</td>\n",
       "      <td>Negative</td>\n",
       "      <td>-0.1280</td>\n",
       "      <td>[this, ios, beta, fine, bug, wise, but, its, t...</td>\n",
       "      <td>[this, io, beta, fine, bug, wise, but, it, tak...</td>\n",
       "      <td>[fine, bug, wise, taking, gb, storage, phone, ...</td>\n",
       "      <td>fine gb</td>\n",
       "    </tr>\n",
       "    <tr>\n",
       "      <th>2</th>\n",
       "      <td>@AravenaEs @joepenora @9to5mac @filipeesposito...</td>\n",
       "      <td>ios  beta  solved all my issues from ios  ...</td>\n",
       "      <td>Negative</td>\n",
       "      <td>-0.4588</td>\n",
       "      <td>[ios, beta, solved, all, my, issues, from, ios...</td>\n",
       "      <td>[io, beta, solved, all, my, issue, from, io, h...</td>\n",
       "      <td>[solved, issue, facetime, issue, hour, would, ...</td>\n",
       "      <td>facetime blank different</td>\n",
       "    </tr>\n",
       "    <tr>\n",
       "      <th>3</th>\n",
       "      <td>@SkyHelpTeam Running the public beta of iOS 14...</td>\n",
       "      <td>running the public beta of ios  and found sky...</td>\n",
       "      <td>Positive</td>\n",
       "      <td>0.2500</td>\n",
       "      <td>[running, the, public, beta, of, ios, and, fou...</td>\n",
       "      <td>[running, the, public, beta, of, io, and, foun...</td>\n",
       "      <td>[running, found, skygo, get, pas, splash, scre...</td>\n",
       "      <td>skygo pas</td>\n",
       "    </tr>\n",
       "    <tr>\n",
       "      <th>4</th>\n",
       "      <td>Updated to iOS 14 beta. Everything is working ...</td>\n",
       "      <td>updated to ios  beta everything is working fin...</td>\n",
       "      <td>Positive</td>\n",
       "      <td>0.2023</td>\n",
       "      <td>[updated, to, ios, beta, everything, is, worki...</td>\n",
       "      <td>[updated, to, io, beta, everything, is, workin...</td>\n",
       "      <td>[updated, everything, working, fine, far, phon...</td>\n",
       "      <td>fine library</td>\n",
       "    </tr>\n",
       "    <tr>\n",
       "      <th>...</th>\n",
       "      <td>...</td>\n",
       "      <td>...</td>\n",
       "      <td>...</td>\n",
       "      <td>...</td>\n",
       "      <td>...</td>\n",
       "      <td>...</td>\n",
       "      <td>...</td>\n",
       "      <td>...</td>\n",
       "    </tr>\n",
       "    <tr>\n",
       "      <th>536</th>\n",
       "      <td>Installed iOS 14 beta on my main phone yesterd...</td>\n",
       "      <td>installed ios  beta on my main phone yesterday...</td>\n",
       "      <td>Positive</td>\n",
       "      <td>0.5267</td>\n",
       "      <td>[installed, ios, beta, on, my, main, phone, ye...</td>\n",
       "      <td>[installed, io, beta, on, my, main, phone, yes...</td>\n",
       "      <td>[installed, main, phone, yesterday, ended, spe...</td>\n",
       "      <td>main entire smash able</td>\n",
       "    </tr>\n",
       "    <tr>\n",
       "      <th>537</th>\n",
       "      <td>@NianticHelp update was pushed and still didn’...</td>\n",
       "      <td>update was pushed and still didnt fix crashin...</td>\n",
       "      <td>Negative</td>\n",
       "      <td>-0.7122</td>\n",
       "      <td>[update, was, pushed, and, still, didnt, fix, ...</td>\n",
       "      <td>[update, wa, pushed, and, still, didnt, fix, c...</td>\n",
       "      <td>[update, wa, pushed, still, didnt, fix, crashi...</td>\n",
       "      <td>update didnt guess disappointed</td>\n",
       "    </tr>\n",
       "    <tr>\n",
       "      <th>538</th>\n",
       "      <td>Do I recommend installing the new iOS 14 publi...</td>\n",
       "      <td>do recommend installing the new ios  public be...</td>\n",
       "      <td>Positive</td>\n",
       "      <td>0.7717</td>\n",
       "      <td>[do, recommend, installing, the, new, ios, pub...</td>\n",
       "      <td>[do, recommend, installing, the, new, io, publ...</td>\n",
       "      <td>[recommend, installing, yes, course, come, mul...</td>\n",
       "      <td>multiple sure</td>\n",
       "    </tr>\n",
       "    <tr>\n",
       "      <th>539</th>\n",
       "      <td>atualizei pro beta do iOS 14 e agora tá tudo b...</td>\n",
       "      <td>atualizei pro beta do ios agora tudo bugado te...</td>\n",
       "      <td>Negative</td>\n",
       "      <td>-0.2960</td>\n",
       "      <td>[atualizei, pro, beta, do, ios, agora, tudo, b...</td>\n",
       "      <td>[atualizei, pro, beta, do, io, agora, tudo, bu...</td>\n",
       "      <td>[atualizei, pro, agora, tudo, bugado, tenho, q...</td>\n",
       "      <td>atualizei pro</td>\n",
       "    </tr>\n",
       "    <tr>\n",
       "      <th>540</th>\n",
       "      <td>@NianticHelp @PokemonGoApp Please help. Pokémo...</td>\n",
       "      <td>please help pokmon go seems to be broken on ...</td>\n",
       "      <td>Positive</td>\n",
       "      <td>0.5574</td>\n",
       "      <td>[please, help, pokmon, go, seems, to, be, brok...</td>\n",
       "      <td>[please, help, pokmon, go, seems, to, be, brok...</td>\n",
       "      <td>[please, help, pokmon, go, seems, broken, unde...</td>\n",
       "      <td>broken quick</td>\n",
       "    </tr>\n",
       "  </tbody>\n",
       "</table>\n",
       "<p>541 rows × 8 columns</p>\n",
       "</div>"
      ],
      "text/plain": [
       "                                                  Text  \\\n",
       "0    Τεχνολογία: Regret installing the iOS 14 or iP...   \n",
       "1    This iOS 14 beta fine bug wise but it’s taking...   \n",
       "2    @AravenaEs @joepenora @9to5mac @filipeesposito...   \n",
       "3    @SkyHelpTeam Running the public beta of iOS 14...   \n",
       "4    Updated to iOS 14 beta. Everything is working ...   \n",
       "..                                                 ...   \n",
       "536  Installed iOS 14 beta on my main phone yesterd...   \n",
       "537  @NianticHelp update was pushed and still didn’...   \n",
       "538  Do I recommend installing the new iOS 14 publi...   \n",
       "539  atualizei pro beta do iOS 14 e agora tá tudo b...   \n",
       "540  @NianticHelp @PokemonGoApp Please help. Pokémo...   \n",
       "\n",
       "                                            clean_text sentiment  \\\n",
       "0      regret installing the ios  or ipados  public...  Negative   \n",
       "1    this ios  beta fine bug wise but its taking up...  Negative   \n",
       "2        ios  beta  solved all my issues from ios  ...  Negative   \n",
       "3     running the public beta of ios  and found sky...  Positive   \n",
       "4    updated to ios  beta everything is working fin...  Positive   \n",
       "..                                                 ...       ...   \n",
       "536  installed ios  beta on my main phone yesterday...  Positive   \n",
       "537   update was pushed and still didnt fix crashin...  Negative   \n",
       "538  do recommend installing the new ios  public be...  Positive   \n",
       "539  atualizei pro beta do ios agora tudo bugado te...  Negative   \n",
       "540    please help pokmon go seems to be broken on ...  Positive   \n",
       "\n",
       "     sentiment score                                           tokenise  \\\n",
       "0            -0.4215  [regret, installing, the, ios, or, ipados, pub...   \n",
       "1            -0.1280  [this, ios, beta, fine, bug, wise, but, its, t...   \n",
       "2            -0.4588  [ios, beta, solved, all, my, issues, from, ios...   \n",
       "3             0.2500  [running, the, public, beta, of, ios, and, fou...   \n",
       "4             0.2023  [updated, to, ios, beta, everything, is, worki...   \n",
       "..               ...                                                ...   \n",
       "536           0.5267  [installed, ios, beta, on, my, main, phone, ye...   \n",
       "537          -0.7122  [update, was, pushed, and, still, didnt, fix, ...   \n",
       "538           0.7717  [do, recommend, installing, the, new, ios, pub...   \n",
       "539          -0.2960  [atualizei, pro, beta, do, ios, agora, tudo, b...   \n",
       "540           0.5574  [please, help, pokmon, go, seems, to, be, brok...   \n",
       "\n",
       "                                             lemmatise  \\\n",
       "0    [regret, installing, the, io, or, ipados, publ...   \n",
       "1    [this, io, beta, fine, bug, wise, but, it, tak...   \n",
       "2    [io, beta, solved, all, my, issue, from, io, h...   \n",
       "3    [running, the, public, beta, of, io, and, foun...   \n",
       "4    [updated, to, io, beta, everything, is, workin...   \n",
       "..                                                 ...   \n",
       "536  [installed, io, beta, on, my, main, phone, yes...   \n",
       "537  [update, wa, pushed, and, still, didnt, fix, c...   \n",
       "538  [do, recommend, installing, the, new, io, publ...   \n",
       "539  [atualizei, pro, beta, do, io, agora, tudo, bu...   \n",
       "540  [please, help, pokmon, go, seems, to, be, brok...   \n",
       "\n",
       "                                      remove_stopwords  \\\n",
       "0         [regret, installing, ipados, go, back, cnet]   \n",
       "1    [fine, bug, wise, taking, gb, storage, phone, ...   \n",
       "2    [solved, issue, facetime, issue, hour, would, ...   \n",
       "3    [running, found, skygo, get, pas, splash, scre...   \n",
       "4    [updated, everything, working, fine, far, phon...   \n",
       "..                                                 ...   \n",
       "536  [installed, main, phone, yesterday, ended, spe...   \n",
       "537  [update, wa, pushed, still, didnt, fix, crashi...   \n",
       "538  [recommend, installing, yes, course, come, mul...   \n",
       "539  [atualizei, pro, agora, tudo, bugado, tenho, q...   \n",
       "540  [please, help, pokmon, go, seems, broken, unde...   \n",
       "\n",
       "                   Tweets_Adjectives  \n",
       "0                                     \n",
       "1                            fine gb  \n",
       "2           facetime blank different  \n",
       "3                          skygo pas  \n",
       "4                       fine library  \n",
       "..                               ...  \n",
       "536           main entire smash able  \n",
       "537  update didnt guess disappointed  \n",
       "538                    multiple sure  \n",
       "539                    atualizei pro  \n",
       "540                     broken quick  \n",
       "\n",
       "[541 rows x 8 columns]"
      ]
     },
     "execution_count": 12,
     "metadata": {},
     "output_type": "execute_result"
    }
   ],
   "source": [
    "df"
   ]
  },
  {
   "cell_type": "code",
   "execution_count": 13,
   "id": "76ead5b5",
   "metadata": {},
   "outputs": [],
   "source": [
    "# Extract all tweets into one long string with each word separate with a \"space\"\n",
    "tweets_long_list = df['Tweets_Adjectives'].tolist()\n",
    "list_no_dup = []\n",
    "[list_no_dup.append(x) for x in tweets_long_list if x not in list_no_dup]\n",
    "tweets_long_string = \" \".join(list_no_dup)"
   ]
  },
  {
   "cell_type": "code",
   "execution_count": 14,
   "id": "95526eff",
   "metadata": {},
   "outputs": [
    {
     "data": {
      "image/png": "[encoded data removed]",
      "text/plain": [
       "<Figure size 1008x1296 with 1 Axes>"
      ]
     },
     "metadata": {
      "needs_background": "light"
     },
     "output_type": "display_data"
    }
   ],
   "source": [
    "# Import Twitter Logo\n",
    "image = np.array(Image.open('twitter.png'))\n",
    "    \n",
    "fig = plt.figure() \n",
    "fig.set_figwidth(14) \n",
    "fig.set_figheight(18) \n",
    "\n",
    "plt.imshow(image, cmap=plt.cm.gray, interpolation='bilinear') \n",
    "plt.axis('off') \n",
    "plt.show() "
   ]
  },
  {
   "cell_type": "code",
   "execution_count": 15,
   "id": "e3371771",
   "metadata": {},
   "outputs": [],
   "source": [
    "# Create function to generate the blue colour for the Word CLoud\n",
    "\n",
    "def blue_color_func(word, font_size, position, orientation, random_state=None,**kwargs):\n",
    "    return \"hsl(210, 100%%, %d%%)\" % random.randint(50, 70)"
   ]
  },
  {
   "cell_type": "code",
   "execution_count": 16,
   "id": "0826dddd",
   "metadata": {},
   "outputs": [
    {
     "data": {
      "image/png": "[encoded data removed]",
      "text/plain": [
       "<Figure size 1008x1296 with 1 Axes>"
      ]
     },
     "metadata": {
      "needs_background": "light"
     },
     "output_type": "display_data"
    }
   ],
   "source": [
    "# Twitter word cloud object\n",
    "twitter_wc = WordCloud(background_color='white', max_words=1500, mask=image)\n",
    "\n",
    "twitter_wc.generate(tweets_long_string)\n",
    "\n",
    "fig = plt.figure()\n",
    "fig.set_figwidth(14)  \n",
    "fig.set_figheight(18)  \n",
    "\n",
    "plt.imshow(twitter_wc.recolor(color_func=blue_color_func, random_state=3),\n",
    "           interpolation=\"bilinear\")\n",
    "plt.axis('off')\n",
    "plt.show()\n"
   ]
  },
  {
   "cell_type": "code",
   "execution_count": 17,
   "id": "0ded1c6b",
   "metadata": {},
   "outputs": [],
   "source": [
    "# Combine all words into a list\n",
    "tweets_long_string = df['Tweets_Adjectives'].tolist()\n",
    "tweets_list=[]\n",
    "for item in tweets_long_string:\n",
    "    item = item.split()\n",
    "    for i in item:\n",
    "        tweets_list.append(i)"
   ]
  },
  {
   "cell_type": "code",
   "execution_count": 18,
   "id": "771b4614",
   "metadata": {},
   "outputs": [],
   "source": [
    "# Use the Built-in Python Collections module to determine Word frequency\n",
    "from collections import Counter\n",
    "counts = Counter(tweets_list)\n",
    "df1 = pd.DataFrame.from_dict(counts, orient='index').reset_index()\n",
    "df1.columns = ['Words', 'Count']\n",
    "df1.sort_values(by='Count', ascending=False, inplace=True)"
   ]
  },
  {
   "cell_type": "code",
   "execution_count": 19,
   "id": "2088d9d2",
   "metadata": {},
   "outputs": [
    {
     "data": {
      "text/html": [
       "<div>\n",
       "<style scoped>\n",
       "    .dataframe tbody tr th:only-of-type {\n",
       "        vertical-align: middle;\n",
       "    }\n",
       "\n",
       "    .dataframe tbody tr th {\n",
       "        vertical-align: top;\n",
       "    }\n",
       "\n",
       "    .dataframe thead th {\n",
       "        text-align: right;\n",
       "    }\n",
       "</style>\n",
       "<table border=\"1\" class=\"dataframe\">\n",
       "  <thead>\n",
       "    <tr style=\"text-align: right;\">\n",
       "      <th></th>\n",
       "      <th>Words</th>\n",
       "      <th>Count</th>\n",
       "    </tr>\n",
       "  </thead>\n",
       "  <tbody>\n",
       "    <tr>\n",
       "      <th>12</th>\n",
       "      <td>ban</td>\n",
       "      <td>175</td>\n",
       "    </tr>\n",
       "    <tr>\n",
       "      <th>11</th>\n",
       "      <td>pro</td>\n",
       "      <td>51</td>\n",
       "    </tr>\n",
       "    <tr>\n",
       "      <th>62</th>\n",
       "      <td>top</td>\n",
       "      <td>45</td>\n",
       "    </tr>\n",
       "    <tr>\n",
       "      <th>81</th>\n",
       "      <td>update</td>\n",
       "      <td>23</td>\n",
       "    </tr>\n",
       "    <tr>\n",
       "      <th>13</th>\n",
       "      <td>techcrunch</td>\n",
       "      <td>19</td>\n",
       "    </tr>\n",
       "    <tr>\n",
       "      <th>53</th>\n",
       "      <td>good</td>\n",
       "      <td>18</td>\n",
       "    </tr>\n",
       "    <tr>\n",
       "      <th>45</th>\n",
       "      <td>stable</td>\n",
       "      <td>15</td>\n",
       "    </tr>\n",
       "    <tr>\n",
       "      <th>31</th>\n",
       "      <td>instalar</td>\n",
       "      <td>13</td>\n",
       "    </tr>\n",
       "    <tr>\n",
       "      <th>50</th>\n",
       "      <td>im</td>\n",
       "      <td>12</td>\n",
       "    </tr>\n",
       "    <tr>\n",
       "      <th>0</th>\n",
       "      <td>fine</td>\n",
       "      <td>9</td>\n",
       "    </tr>\n",
       "  </tbody>\n",
       "</table>\n",
       "</div>"
      ],
      "text/plain": [
       "         Words  Count\n",
       "12         ban    175\n",
       "11         pro     51\n",
       "62         top     45\n",
       "81      update     23\n",
       "13  techcrunch     19\n",
       "53        good     18\n",
       "45      stable     15\n",
       "31    instalar     13\n",
       "50          im     12\n",
       "0         fine      9"
      ]
     },
     "execution_count": 19,
     "metadata": {},
     "output_type": "execute_result"
    }
   ],
   "source": [
    "df1.head(10)"
   ]
  },
  {
   "cell_type": "code",
   "execution_count": 20,
   "id": "11df6c4e",
   "metadata": {},
   "outputs": [
    {
     "data": {
      "text/plain": [
       "Negative    281\n",
       "Positive    260\n",
       "Name: sentiment, dtype: int64"
      ]
     },
     "execution_count": 20,
     "metadata": {},
     "output_type": "execute_result"
    }
   ],
   "source": [
    "# See quick results of the Sentiment Analysis\n",
    "df['sentiment'].value_counts()"
   ]
  },
  {
   "cell_type": "code",
   "execution_count": 21,
   "id": "c6427fed",
   "metadata": {},
   "outputs": [],
   "source": [
    "# Create dataframe for Count of Sentiment Categories\n",
    "bar_chart = df['sentiment'].value_counts().rename_axis('sentiment').to_frame('Total Tweets').reset_index()\n"
   ]
  },
  {
   "cell_type": "code",
   "execution_count": 22,
   "id": "d6ed48b3",
   "metadata": {},
   "outputs": [
    {
     "data": {
      "text/html": [
       "<div>\n",
       "<style scoped>\n",
       "    .dataframe tbody tr th:only-of-type {\n",
       "        vertical-align: middle;\n",
       "    }\n",
       "\n",
       "    .dataframe tbody tr th {\n",
       "        vertical-align: top;\n",
       "    }\n",
       "\n",
       "    .dataframe thead th {\n",
       "        text-align: right;\n",
       "    }\n",
       "</style>\n",
       "<table border=\"1\" class=\"dataframe\">\n",
       "  <thead>\n",
       "    <tr style=\"text-align: right;\">\n",
       "      <th></th>\n",
       "      <th>sentiment</th>\n",
       "      <th>Total Tweets</th>\n",
       "    </tr>\n",
       "  </thead>\n",
       "  <tbody>\n",
       "    <tr>\n",
       "      <th>0</th>\n",
       "      <td>Negative</td>\n",
       "      <td>281</td>\n",
       "    </tr>\n",
       "    <tr>\n",
       "      <th>1</th>\n",
       "      <td>Positive</td>\n",
       "      <td>260</td>\n",
       "    </tr>\n",
       "  </tbody>\n",
       "</table>\n",
       "</div>"
      ],
      "text/plain": [
       "  sentiment  Total Tweets\n",
       "0  Negative           281\n",
       "1  Positive           260"
      ]
     },
     "execution_count": 22,
     "metadata": {},
     "output_type": "execute_result"
    }
   ],
   "source": [
    "bar_chart"
   ]
  },
  {
   "cell_type": "code",
   "execution_count": 27,
   "id": "7c339342",
   "metadata": {
    "scrolled": true
   },
   "outputs": [
    {
     "data": {
      "application/vnd.plotly.v1+json": {
       "config": {
        "linkText": "Export to plot.ly",
        "plotlyServerURL": "https://plot.ly",
        "showLink": true
       },
       "data": [
        {
         "marker": {
          "color": "rgba(255, 99, 71, 0.6)",
          "line": {
           "color": "rgba(255, 99, 71, 1.0)",
           "width": 1
          }
         },
         "name": "Total Tweets",
         "orientation": "v",
         "text": "",
         "type": "bar",
         "x": [
          "Negative",
          "Positive"
         ],
         "y": [
          281,
          260
         ]
        }
       ],
       "layout": {
        "legend": {
         "bgcolor": "#F5F6F9",
         "font": {
          "color": "#4D5663"
         }
        },
        "paper_bgcolor": "#F5F6F9",
        "plot_bgcolor": "#F5F6F9",
        "template": {
         "data": {
          "bar": [
           {
            "error_x": {
             "color": "#2a3f5f"
            },
            "error_y": {
             "color": "#2a3f5f"
            },
            "marker": {
             "line": {
              "color": "#E5ECF6",
              "width": 0.5
             }
            },
            "type": "bar"
           }
          ],
          "barpolar": [
           {
            "marker": {
             "line": {
              "color": "#E5ECF6",
              "width": 0.5
             }
            },
            "type": "barpolar"
           }
          ],
          "carpet": [
           {
            "aaxis": {
             "endlinecolor": "#2a3f5f",
             "gridcolor": "white",
             "linecolor": "white",
             "minorgridcolor": "white",
             "startlinecolor": "#2a3f5f"
            },
            "baxis": {
             "endlinecolor": "#2a3f5f",
             "gridcolor": "white",
             "linecolor": "white",
             "minorgridcolor": "white",
             "startlinecolor": "#2a3f5f"
            },
            "type": "carpet"
           }
          ],
          "choropleth": [
           {
            "colorbar": {
             "outlinewidth": 0,
             "ticks": ""
            },
            "type": "choropleth"
           }
          ],
          "contour": [
           {
            "colorbar": {
             "outlinewidth": 0,
             "ticks": ""
            },
            "colorscale": [
             [
              0,
              "#0d0887"
             ],
             [
              0.1111111111111111,
              "#46039f"
             ],
             [
              0.2222222222222222,
              "#7201a8"
             ],
             [
              0.3333333333333333,
              "#9c179e"
             ],
             [
              0.4444444444444444,
              "#bd3786"
             ],
             [
              0.5555555555555556,
              "#d8576b"
             ],
             [
              0.6666666666666666,
              "#ed7953"
             ],
             [
              0.7777777777777778,
              "#fb9f3a"
             ],
             [
              0.8888888888888888,
              "#fdca26"
             ],
             [
              1,
              "#f0f921"
             ]
            ],
            "type": "contour"
           }
          ],
          "contourcarpet": [
           {
            "colorbar": {
             "outlinewidth": 0,
             "ticks": ""
            },
            "type": "contourcarpet"
           }
          ],
          "heatmap": [
           {
            "colorbar": {
             "outlinewidth": 0,
             "ticks": ""
            },
            "colorscale": [
             [
              0,
              "#0d0887"
             ],
             [
              0.1111111111111111,
              "#46039f"
             ],
             [
              0.2222222222222222,
              "#7201a8"
             ],
             [
              0.3333333333333333,
              "#9c179e"
             ],
             [
              0.4444444444444444,
              "#bd3786"
             ],
             [
              0.5555555555555556,
              "#d8576b"
             ],
             [
              0.6666666666666666,
              "#ed7953"
             ],
             [
              0.7777777777777778,
              "#fb9f3a"
             ],
             [
              0.8888888888888888,
              "#fdca26"
             ],
             [
              1,
              "#f0f921"
             ]
            ],
            "type": "heatmap"
           }
          ],
          "heatmapgl": [
           {
            "colorbar": {
             "outlinewidth": 0,
             "ticks": ""
            },
            "colorscale": [
             [
              0,
              "#0d0887"
             ],
             [
              0.1111111111111111,
              "#46039f"
             ],
             [
              0.2222222222222222,
              "#7201a8"
             ],
             [
              0.3333333333333333,
              "#9c179e"
             ],
             [
              0.4444444444444444,
              "#bd3786"
             ],
             [
              0.5555555555555556,
              "#d8576b"
             ],
             [
              0.6666666666666666,
              "#ed7953"
             ],
             [
              0.7777777777777778,
              "#fb9f3a"
             ],
             [
              0.8888888888888888,
              "#fdca26"
             ],
             [
              1,
              "#f0f921"
             ]
            ],
            "type": "heatmapgl"
           }
          ],
          "histogram": [
           {
            "marker": {
             "colorbar": {
              "outlinewidth": 0,
              "ticks": ""
             }
            },
            "type": "histogram"
           }
          ],
          "histogram2d": [
           {
            "colorbar": {
             "outlinewidth": 0,
             "ticks": ""
            },
            "colorscale": [
             [
              0,
              "#0d0887"
             ],
             [
              0.1111111111111111,
              "#46039f"
             ],
             [
              0.2222222222222222,
              "#7201a8"
             ],
             [
              0.3333333333333333,
              "#9c179e"
             ],
             [
              0.4444444444444444,
              "#bd3786"
             ],
             [
              0.5555555555555556,
              "#d8576b"
             ],
             [
              0.6666666666666666,
              "#ed7953"
             ],
             [
              0.7777777777777778,
              "#fb9f3a"
             ],
             [
              0.8888888888888888,
              "#fdca26"
             ],
             [
              1,
              "#f0f921"
             ]
            ],
            "type": "histogram2d"
           }
          ],
          "histogram2dcontour": [
           {
            "colorbar": {
             "outlinewidth": 0,
             "ticks": ""
            },
            "colorscale": [
             [
              0,
              "#0d0887"
             ],
             [
              0.1111111111111111,
              "#46039f"
             ],
             [
              0.2222222222222222,
              "#7201a8"
             ],
             [
              0.3333333333333333,
              "#9c179e"
             ],
             [
              0.4444444444444444,
              "#bd3786"
             ],
             [
              0.5555555555555556,
              "#d8576b"
             ],
             [
              0.6666666666666666,
              "#ed7953"
             ],
             [
              0.7777777777777778,
              "#fb9f3a"
             ],
             [
              0.8888888888888888,
              "#fdca26"
             ],
             [
              1,
              "#f0f921"
             ]
            ],
            "type": "histogram2dcontour"
           }
          ],
          "mesh3d": [
           {
            "colorbar": {
             "outlinewidth": 0,
             "ticks": ""
            },
            "type": "mesh3d"
           }
          ],
          "parcoords": [
           {
            "line": {
             "colorbar": {
              "outlinewidth": 0,
              "ticks": ""
             }
            },
            "type": "parcoords"
           }
          ],
          "pie": [
           {
            "automargin": true,
            "type": "pie"
           }
          ],
          "scatter": [
           {
            "marker": {
             "colorbar": {
              "outlinewidth": 0,
              "ticks": ""
             }
            },
            "type": "scatter"
           }
          ],
          "scatter3d": [
           {
            "line": {
             "colorbar": {
              "outlinewidth": 0,
              "ticks": ""
             }
            },
            "marker": {
             "colorbar": {
              "outlinewidth": 0,
              "ticks": ""
             }
            },
            "type": "scatter3d"
           }
          ],
          "scattercarpet": [
           {
            "marker": {
             "colorbar": {
              "outlinewidth": 0,
              "ticks": ""
             }
            },
            "type": "scattercarpet"
           }
          ],
          "scattergeo": [
           {
            "marker": {
             "colorbar": {
              "outlinewidth": 0,
              "ticks": ""
             }
            },
            "type": "scattergeo"
           }
          ],
          "scattergl": [
           {
            "marker": {
             "colorbar": {
              "outlinewidth": 0,
              "ticks": ""
             }
            },
            "type": "scattergl"
           }
          ],
          "scattermapbox": [
           {
            "marker": {
             "colorbar": {
              "outlinewidth": 0,
              "ticks": ""
             }
            },
            "type": "scattermapbox"
           }
          ],
          "scatterpolar": [
           {
            "marker": {
             "colorbar": {
              "outlinewidth": 0,
              "ticks": ""
             }
            },
            "type": "scatterpolar"
           }
          ],
          "scatterpolargl": [
           {
            "marker": {
             "colorbar": {
              "outlinewidth": 0,
              "ticks": ""
             }
            },
            "type": "scatterpolargl"
           }
          ],
          "scatterternary": [
           {
            "marker": {
             "colorbar": {
              "outlinewidth": 0,
              "ticks": ""
             }
            },
            "type": "scatterternary"
           }
          ],
          "surface": [
           {
            "colorbar": {
             "outlinewidth": 0,
             "ticks": ""
            },
            "colorscale": [
             [
              0,
              "#0d0887"
             ],
             [
              0.1111111111111111,
              "#46039f"
             ],
             [
              0.2222222222222222,
              "#7201a8"
             ],
             [
              0.3333333333333333,
              "#9c179e"
             ],
             [
              0.4444444444444444,
              "#bd3786"
             ],
             [
              0.5555555555555556,
              "#d8576b"
             ],
             [
              0.6666666666666666,
              "#ed7953"
             ],
             [
              0.7777777777777778,
              "#fb9f3a"
             ],
             [
              0.8888888888888888,
              "#fdca26"
             ],
             [
              1,
              "#f0f921"
             ]
            ],
            "type": "surface"
           }
          ],
          "table": [
           {
            "cells": {
             "fill": {
              "color": "#EBF0F8"
             },
             "line": {
              "color": "white"
             }
            },
            "header": {
             "fill": {
              "color": "#C8D4E3"
             },
             "line": {
              "color": "white"
             }
            },
            "type": "table"
           }
          ]
         },
         "layout": {
          "annotationdefaults": {
           "arrowcolor": "#2a3f5f",
           "arrowhead": 0,
           "arrowwidth": 1
          },
          "autotypenumbers": "strict",
          "coloraxis": {
           "colorbar": {
            "outlinewidth": 0,
            "ticks": ""
           }
          },
          "colorscale": {
           "diverging": [
            [
             0,
             "#8e0152"
            ],
            [
             0.1,
             "#c51b7d"
            ],
            [
             0.2,
             "#de77ae"
            ],
            [
             0.3,
             "#f1b6da"
            ],
            [
             0.4,
             "#fde0ef"
            ],
            [
             0.5,
             "#f7f7f7"
            ],
            [
             0.6,
             "#e6f5d0"
            ],
            [
             0.7,
             "#b8e186"
            ],
            [
             0.8,
             "#7fbc41"
            ],
            [
             0.9,
             "#4d9221"
            ],
            [
             1,
             "#276419"
            ]
           ],
           "sequential": [
            [
             0,
             "#0d0887"
            ],
            [
             0.1111111111111111,
             "#46039f"
            ],
            [
             0.2222222222222222,
             "#7201a8"
            ],
            [
             0.3333333333333333,
             "#9c179e"
            ],
            [
             0.4444444444444444,
             "#bd3786"
            ],
            [
             0.5555555555555556,
             "#d8576b"
            ],
            [
             0.6666666666666666,
             "#ed7953"
            ],
            [
             0.7777777777777778,
             "#fb9f3a"
            ],
            [
             0.8888888888888888,
             "#fdca26"
            ],
            [
             1,
             "#f0f921"
            ]
           ],
           "sequentialminus": [
            [
             0,
             "#0d0887"
            ],
            [
             0.1111111111111111,
             "#46039f"
            ],
            [
             0.2222222222222222,
             "#7201a8"
            ],
            [
             0.3333333333333333,
             "#9c179e"
            ],
            [
             0.4444444444444444,
             "#bd3786"
            ],
            [
             0.5555555555555556,
             "#d8576b"
            ],
            [
             0.6666666666666666,
             "#ed7953"
            ],
            [
             0.7777777777777778,
             "#fb9f3a"
            ],
            [
             0.8888888888888888,
             "#fdca26"
            ],
            [
             1,
             "#f0f921"
            ]
           ]
          },
          "colorway": [
           "#636efa",
           "#EF553B",
           "#00cc96",
           "#ab63fa",
           "#FFA15A",
           "#19d3f3",
           "#FF6692",
           "#B6E880",
           "#FF97FF",
           "#FECB52"
          ],
          "font": {
           "color": "#2a3f5f"
          },
          "geo": {
           "bgcolor": "white",
           "lakecolor": "white",
           "landcolor": "#E5ECF6",
           "showlakes": true,
           "showland": true,
           "subunitcolor": "white"
          },
          "hoverlabel": {
           "align": "left"
          },
          "hovermode": "closest",
          "mapbox": {
           "style": "light"
          },
          "paper_bgcolor": "white",
          "plot_bgcolor": "#E5ECF6",
          "polar": {
           "angularaxis": {
            "gridcolor": "white",
            "linecolor": "white",
            "ticks": ""
           },
           "bgcolor": "#E5ECF6",
           "radialaxis": {
            "gridcolor": "white",
            "linecolor": "white",
            "ticks": ""
           }
          },
          "scene": {
           "xaxis": {
            "backgroundcolor": "#E5ECF6",
            "gridcolor": "white",
            "gridwidth": 2,
            "linecolor": "white",
            "showbackground": true,
            "ticks": "",
            "zerolinecolor": "white"
           },
           "yaxis": {
            "backgroundcolor": "#E5ECF6",
            "gridcolor": "white",
            "gridwidth": 2,
            "linecolor": "white",
            "showbackground": true,
            "ticks": "",
            "zerolinecolor": "white"
           },
           "zaxis": {
            "backgroundcolor": "#E5ECF6",
            "gridcolor": "white",
            "gridwidth": 2,
            "linecolor": "white",
            "showbackground": true,
            "ticks": "",
            "zerolinecolor": "white"
           }
          },
          "shapedefaults": {
           "line": {
            "color": "#2a3f5f"
           }
          },
          "ternary": {
           "aaxis": {
            "gridcolor": "white",
            "linecolor": "white",
            "ticks": ""
           },
           "baxis": {
            "gridcolor": "white",
            "linecolor": "white",
            "ticks": ""
           },
           "bgcolor": "#E5ECF6",
           "caxis": {
            "gridcolor": "white",
            "linecolor": "white",
            "ticks": ""
           }
          },
          "title": {
           "x": 0.05
          },
          "xaxis": {
           "automargin": true,
           "gridcolor": "white",
           "linecolor": "white",
           "ticks": "",
           "title": {
            "standoff": 15
           },
           "zerolinecolor": "white",
           "zerolinewidth": 2
          },
          "yaxis": {
           "automargin": true,
           "gridcolor": "white",
           "linecolor": "white",
           "ticks": "",
           "title": {
            "standoff": 15
           },
           "zerolinecolor": "white",
           "zerolinewidth": 2
          }
         }
        },
        "title": {
         "font": {
          "color": "#4D5663"
         },
         "text": "Number of positive/negative tweets for iOS14"
        },
        "xaxis": {
         "gridcolor": "#E1E5ED",
         "showgrid": true,
         "tickfont": {
          "color": "#4D5663"
         },
         "title": {
          "font": {
           "color": "#4D5663"
          },
          "text": ""
         },
         "zerolinecolor": "#E1E5ED"
        },
        "yaxis": {
         "gridcolor": "#E1E5ED",
         "showgrid": true,
         "tickfont": {
          "color": "#4D5663"
         },
         "title": {
          "font": {
           "color": "#4D5663"
          },
          "text": ""
         },
         "zerolinecolor": "#E1E5ED"
        }
       }
      },
      "text/html": [
       "<div>                            <div id=\"398f8764-53fc-45fe-996b-55a8a00dd500\" class=\"plotly-graph-div\" style=\"height:525px; width:100%;\"></div>            <script type=\"text/javascript\">                require([\"plotly\"], function(Plotly) {                    window.PLOTLYENV=window.PLOTLYENV || {};\n",
       "                    window.PLOTLYENV.BASE_URL='https://plot.ly';                                    if (document.getElementById(\"398f8764-53fc-45fe-996b-55a8a00dd500\")) {                    Plotly.newPlot(                        \"398f8764-53fc-45fe-996b-55a8a00dd500\",                        [{\"marker\": {\"color\": \"rgba(255, 99, 71, 0.6)\", \"line\": {\"color\": \"rgba(255, 99, 71, 1.0)\", \"width\": 1}}, \"name\": \"Total Tweets\", \"orientation\": \"v\", \"text\": \"\", \"type\": \"bar\", \"x\": [\"Negative\", \"Positive\"], \"y\": [281, 260]}],                        {\"legend\": {\"bgcolor\": \"#F5F6F9\", \"font\": {\"color\": \"#4D5663\"}}, \"paper_bgcolor\": \"#F5F6F9\", \"plot_bgcolor\": \"#F5F6F9\", \"template\": {\"data\": {\"bar\": [{\"error_x\": {\"color\": \"#2a3f5f\"}, \"error_y\": {\"color\": \"#2a3f5f\"}, \"marker\": {\"line\": {\"color\": \"#E5ECF6\", \"width\": 0.5}}, \"type\": \"bar\"}], \"barpolar\": [{\"marker\": {\"line\": {\"color\": \"#E5ECF6\", \"width\": 0.5}}, \"type\": \"barpolar\"}], \"carpet\": [{\"aaxis\": {\"endlinecolor\": \"#2a3f5f\", \"gridcolor\": \"white\", \"linecolor\": \"white\", \"minorgridcolor\": \"white\", \"startlinecolor\": \"#2a3f5f\"}, \"baxis\": {\"endlinecolor\": \"#2a3f5f\", \"gridcolor\": \"white\", \"linecolor\": \"white\", \"minorgridcolor\": \"white\", \"startlinecolor\": \"#2a3f5f\"}, \"type\": \"carpet\"}], \"choropleth\": [{\"colorbar\": {\"outlinewidth\": 0, \"ticks\": \"\"}, \"type\": \"choropleth\"}], \"contour\": [{\"colorbar\": {\"outlinewidth\": 0, \"ticks\": \"\"}, \"colorscale\": [[0.0, \"#0d0887\"], [0.1111111111111111, \"#46039f\"], [0.2222222222222222, \"#7201a8\"], [0.3333333333333333, \"#9c179e\"], [0.4444444444444444, \"#bd3786\"], [0.5555555555555556, \"#d8576b\"], [0.6666666666666666, \"#ed7953\"], [0.7777777777777778, \"#fb9f3a\"], [0.8888888888888888, \"#fdca26\"], [1.0, \"#f0f921\"]], \"type\": \"contour\"}], \"contourcarpet\": [{\"colorbar\": {\"outlinewidth\": 0, \"ticks\": \"\"}, \"type\": \"contourcarpet\"}], \"heatmap\": [{\"colorbar\": {\"outlinewidth\": 0, \"ticks\": \"\"}, \"colorscale\": [[0.0, \"#0d0887\"], [0.1111111111111111, \"#46039f\"], [0.2222222222222222, \"#7201a8\"], [0.3333333333333333, \"#9c179e\"], [0.4444444444444444, \"#bd3786\"], [0.5555555555555556, \"#d8576b\"], [0.6666666666666666, \"#ed7953\"], [0.7777777777777778, \"#fb9f3a\"], [0.8888888888888888, \"#fdca26\"], [1.0, \"#f0f921\"]], \"type\": \"heatmap\"}], \"heatmapgl\": [{\"colorbar\": {\"outlinewidth\": 0, \"ticks\": \"\"}, \"colorscale\": [[0.0, \"#0d0887\"], [0.1111111111111111, \"#46039f\"], [0.2222222222222222, \"#7201a8\"], [0.3333333333333333, \"#9c179e\"], [0.4444444444444444, \"#bd3786\"], [0.5555555555555556, \"#d8576b\"], [0.6666666666666666, \"#ed7953\"], [0.7777777777777778, \"#fb9f3a\"], [0.8888888888888888, \"#fdca26\"], [1.0, \"#f0f921\"]], \"type\": \"heatmapgl\"}], \"histogram\": [{\"marker\": {\"colorbar\": {\"outlinewidth\": 0, \"ticks\": \"\"}}, \"type\": \"histogram\"}], \"histogram2d\": [{\"colorbar\": {\"outlinewidth\": 0, \"ticks\": \"\"}, \"colorscale\": [[0.0, \"#0d0887\"], [0.1111111111111111, \"#46039f\"], [0.2222222222222222, \"#7201a8\"], [0.3333333333333333, \"#9c179e\"], [0.4444444444444444, \"#bd3786\"], [0.5555555555555556, \"#d8576b\"], [0.6666666666666666, \"#ed7953\"], [0.7777777777777778, \"#fb9f3a\"], [0.8888888888888888, \"#fdca26\"], [1.0, \"#f0f921\"]], \"type\": \"histogram2d\"}], \"histogram2dcontour\": [{\"colorbar\": {\"outlinewidth\": 0, \"ticks\": \"\"}, \"colorscale\": [[0.0, \"#0d0887\"], [0.1111111111111111, \"#46039f\"], [0.2222222222222222, \"#7201a8\"], [0.3333333333333333, \"#9c179e\"], [0.4444444444444444, \"#bd3786\"], [0.5555555555555556, \"#d8576b\"], [0.6666666666666666, \"#ed7953\"], [0.7777777777777778, \"#fb9f3a\"], [0.8888888888888888, \"#fdca26\"], [1.0, \"#f0f921\"]], \"type\": \"histogram2dcontour\"}], \"mesh3d\": [{\"colorbar\": {\"outlinewidth\": 0, \"ticks\": \"\"}, \"type\": \"mesh3d\"}], \"parcoords\": [{\"line\": {\"colorbar\": {\"outlinewidth\": 0, \"ticks\": \"\"}}, \"type\": \"parcoords\"}], \"pie\": [{\"automargin\": true, \"type\": \"pie\"}], \"scatter\": [{\"marker\": {\"colorbar\": {\"outlinewidth\": 0, \"ticks\": \"\"}}, \"type\": \"scatter\"}], \"scatter3d\": [{\"line\": {\"colorbar\": {\"outlinewidth\": 0, \"ticks\": \"\"}}, \"marker\": {\"colorbar\": {\"outlinewidth\": 0, \"ticks\": \"\"}}, \"type\": \"scatter3d\"}], \"scattercarpet\": [{\"marker\": {\"colorbar\": {\"outlinewidth\": 0, \"ticks\": \"\"}}, \"type\": \"scattercarpet\"}], \"scattergeo\": [{\"marker\": {\"colorbar\": {\"outlinewidth\": 0, \"ticks\": \"\"}}, \"type\": \"scattergeo\"}], \"scattergl\": [{\"marker\": {\"colorbar\": {\"outlinewidth\": 0, \"ticks\": \"\"}}, \"type\": \"scattergl\"}], \"scattermapbox\": [{\"marker\": {\"colorbar\": {\"outlinewidth\": 0, \"ticks\": \"\"}}, \"type\": \"scattermapbox\"}], \"scatterpolar\": [{\"marker\": {\"colorbar\": {\"outlinewidth\": 0, \"ticks\": \"\"}}, \"type\": \"scatterpolar\"}], \"scatterpolargl\": [{\"marker\": {\"colorbar\": {\"outlinewidth\": 0, \"ticks\": \"\"}}, \"type\": \"scatterpolargl\"}], \"scatterternary\": [{\"marker\": {\"colorbar\": {\"outlinewidth\": 0, \"ticks\": \"\"}}, \"type\": \"scatterternary\"}], \"surface\": [{\"colorbar\": {\"outlinewidth\": 0, \"ticks\": \"\"}, \"colorscale\": [[0.0, \"#0d0887\"], [0.1111111111111111, \"#46039f\"], [0.2222222222222222, \"#7201a8\"], [0.3333333333333333, \"#9c179e\"], [0.4444444444444444, \"#bd3786\"], [0.5555555555555556, \"#d8576b\"], [0.6666666666666666, \"#ed7953\"], [0.7777777777777778, \"#fb9f3a\"], [0.8888888888888888, \"#fdca26\"], [1.0, \"#f0f921\"]], \"type\": \"surface\"}], \"table\": [{\"cells\": {\"fill\": {\"color\": \"#EBF0F8\"}, \"line\": {\"color\": \"white\"}}, \"header\": {\"fill\": {\"color\": \"#C8D4E3\"}, \"line\": {\"color\": \"white\"}}, \"type\": \"table\"}]}, \"layout\": {\"annotationdefaults\": {\"arrowcolor\": \"#2a3f5f\", \"arrowhead\": 0, \"arrowwidth\": 1}, \"autotypenumbers\": \"strict\", \"coloraxis\": {\"colorbar\": {\"outlinewidth\": 0, \"ticks\": \"\"}}, \"colorscale\": {\"diverging\": [[0, \"#8e0152\"], [0.1, \"#c51b7d\"], [0.2, \"#de77ae\"], [0.3, \"#f1b6da\"], [0.4, \"#fde0ef\"], [0.5, \"#f7f7f7\"], [0.6, \"#e6f5d0\"], [0.7, \"#b8e186\"], [0.8, \"#7fbc41\"], [0.9, \"#4d9221\"], [1, \"#276419\"]], \"sequential\": [[0.0, \"#0d0887\"], [0.1111111111111111, \"#46039f\"], [0.2222222222222222, \"#7201a8\"], [0.3333333333333333, \"#9c179e\"], [0.4444444444444444, \"#bd3786\"], [0.5555555555555556, \"#d8576b\"], [0.6666666666666666, \"#ed7953\"], [0.7777777777777778, \"#fb9f3a\"], [0.8888888888888888, \"#fdca26\"], [1.0, \"#f0f921\"]], \"sequentialminus\": [[0.0, \"#0d0887\"], [0.1111111111111111, \"#46039f\"], [0.2222222222222222, \"#7201a8\"], [0.3333333333333333, \"#9c179e\"], [0.4444444444444444, \"#bd3786\"], [0.5555555555555556, \"#d8576b\"], [0.6666666666666666, \"#ed7953\"], [0.7777777777777778, \"#fb9f3a\"], [0.8888888888888888, \"#fdca26\"], [1.0, \"#f0f921\"]]}, \"colorway\": [\"#636efa\", \"#EF553B\", \"#00cc96\", \"#ab63fa\", \"#FFA15A\", \"#19d3f3\", \"#FF6692\", \"#B6E880\", \"#FF97FF\", \"#FECB52\"], \"font\": {\"color\": \"#2a3f5f\"}, \"geo\": {\"bgcolor\": \"white\", \"lakecolor\": \"white\", \"landcolor\": \"#E5ECF6\", \"showlakes\": true, \"showland\": true, \"subunitcolor\": \"white\"}, \"hoverlabel\": {\"align\": \"left\"}, \"hovermode\": \"closest\", \"mapbox\": {\"style\": \"light\"}, \"paper_bgcolor\": \"white\", \"plot_bgcolor\": \"#E5ECF6\", \"polar\": {\"angularaxis\": {\"gridcolor\": \"white\", \"linecolor\": \"white\", \"ticks\": \"\"}, \"bgcolor\": \"#E5ECF6\", \"radialaxis\": {\"gridcolor\": \"white\", \"linecolor\": \"white\", \"ticks\": \"\"}}, \"scene\": {\"xaxis\": {\"backgroundcolor\": \"#E5ECF6\", \"gridcolor\": \"white\", \"gridwidth\": 2, \"linecolor\": \"white\", \"showbackground\": true, \"ticks\": \"\", \"zerolinecolor\": \"white\"}, \"yaxis\": {\"backgroundcolor\": \"#E5ECF6\", \"gridcolor\": \"white\", \"gridwidth\": 2, \"linecolor\": \"white\", \"showbackground\": true, \"ticks\": \"\", \"zerolinecolor\": \"white\"}, \"zaxis\": {\"backgroundcolor\": \"#E5ECF6\", \"gridcolor\": \"white\", \"gridwidth\": 2, \"linecolor\": \"white\", \"showbackground\": true, \"ticks\": \"\", \"zerolinecolor\": \"white\"}}, \"shapedefaults\": {\"line\": {\"color\": \"#2a3f5f\"}}, \"ternary\": {\"aaxis\": {\"gridcolor\": \"white\", \"linecolor\": \"white\", \"ticks\": \"\"}, \"baxis\": {\"gridcolor\": \"white\", \"linecolor\": \"white\", \"ticks\": \"\"}, \"bgcolor\": \"#E5ECF6\", \"caxis\": {\"gridcolor\": \"white\", \"linecolor\": \"white\", \"ticks\": \"\"}}, \"title\": {\"x\": 0.05}, \"xaxis\": {\"automargin\": true, \"gridcolor\": \"white\", \"linecolor\": \"white\", \"ticks\": \"\", \"title\": {\"standoff\": 15}, \"zerolinecolor\": \"white\", \"zerolinewidth\": 2}, \"yaxis\": {\"automargin\": true, \"gridcolor\": \"white\", \"linecolor\": \"white\", \"ticks\": \"\", \"title\": {\"standoff\": 15}, \"zerolinecolor\": \"white\", \"zerolinewidth\": 2}}}, \"title\": {\"font\": {\"color\": \"#4D5663\"}, \"text\": \"Number of positive/negative tweets for iOS14\"}, \"xaxis\": {\"gridcolor\": \"#E1E5ED\", \"showgrid\": true, \"tickfont\": {\"color\": \"#4D5663\"}, \"title\": {\"font\": {\"color\": \"#4D5663\"}, \"text\": \"\"}, \"zerolinecolor\": \"#E1E5ED\"}, \"yaxis\": {\"gridcolor\": \"#E1E5ED\", \"showgrid\": true, \"tickfont\": {\"color\": \"#4D5663\"}, \"title\": {\"font\": {\"color\": \"#4D5663\"}, \"text\": \"\"}, \"zerolinecolor\": \"#E1E5ED\"}},                        {\"showLink\": true, \"linkText\": \"Export to plot.ly\", \"plotlyServerURL\": \"https://plot.ly\", \"responsive\": true}                    ).then(function(){\n",
       "                            \n",
       "var gd = document.getElementById('398f8764-53fc-45fe-996b-55a8a00dd500');\n",
       "var x = new MutationObserver(function (mutations, observer) {{\n",
       "        var display = window.getComputedStyle(gd).display;\n",
       "        if (!display || display === 'none') {{\n",
       "            console.log([gd, 'removed!']);\n",
       "            Plotly.purge(gd);\n",
       "            observer.disconnect();\n",
       "        }}\n",
       "}});\n",
       "\n",
       "// Listen for the removal of the full notebook cells\n",
       "var notebookContainer = gd.closest('#notebook-container');\n",
       "if (notebookContainer) {{\n",
       "    x.observe(notebookContainer, {childList: true});\n",
       "}}\n",
       "\n",
       "// Listen for the clearing of the current output cell\n",
       "var outputEl = gd.closest('.output');\n",
       "if (outputEl) {{\n",
       "    x.observe(outputEl, {childList: true});\n",
       "}}\n",
       "\n",
       "                        })                };                });            </script>        </div>"
      ]
     },
     "metadata": {},
     "output_type": "display_data"
    }
   ],
   "source": [
    "bar_chart.iplot(kind = 'bar', x = 'sentiment', y = 'Total Tweets',\n",
    "                title = 'Number of positive/negative tweets for iOS14' ,color = 'tomato')"
   ]
  },
  {
   "cell_type": "code",
   "execution_count": null,
   "id": "abfff0a8",
   "metadata": {},
   "outputs": [],
   "source": []
  }
 ],
 "metadata": {
  "kernelspec": {
   "display_name": "Python 3",
   "language": "python",
   "name": "python3"
  },
  "language_info": {
   "codemirror_mode": {
    "name": "ipython",
    "version": 3
   },
   "file_extension": ".py",
   "mimetype": "text/x-python",
   "name": "python",
   "nbconvert_exporter": "python",
   "pygments_lexer": "ipython3",
   "version": "3.8.8"
  }
 },
 "nbformat": 4,
 "nbformat_minor": 5
}
