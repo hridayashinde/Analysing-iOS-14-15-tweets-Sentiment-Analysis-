{
 "cells": [
  {
   "cell_type": "code",
   "execution_count": 1,
   "id": "3a22e2a4",
   "metadata": {},
   "outputs": [],
   "source": [
    "import numpy as np\n",
    "import pandas as pd\n",
    "import matplotlib.pyplot as plt \n",
    "import re, string\n",
    "import random "
   ]
  },
  {
   "cell_type": "code",
   "execution_count": 2,
   "id": "ed41ae11",
   "metadata": {},
   "outputs": [
    {
     "name": "stderr",
     "output_type": "stream",
     "text": [
      "[nltk_data] Downloading package stopwords to\n",
      "[nltk_data]     /Users/hridayashinde/nltk_data...\n",
      "[nltk_data]   Package stopwords is already up-to-date!\n",
      "[nltk_data] Downloading package wordnet to\n",
      "[nltk_data]     /Users/hridayashinde/nltk_data...\n",
      "[nltk_data]   Package wordnet is already up-to-date!\n"
     ]
    }
   ],
   "source": [
    "from vaderSentiment.vaderSentiment import SentimentIntensityAnalyzer\n",
    "import nltk\n",
    "from nltk.corpus import words\n",
    "from nltk.corpus import stopwords\n",
    "nltk.download('stopwords')\n",
    "import nltk\n",
    "nltk.download('wordnet')\n",
    "from nltk.stem import WordNetLemmatizer\n",
    "from nltk import pos_tag \n",
    "from PIL import Image \n",
    "from wordcloud import WordCloud"
   ]
  },
  {
   "cell_type": "code",
   "execution_count": 3,
   "id": "f927dfe7",
   "metadata": {
    "scrolled": true
   },
   "outputs": [
    {
     "data": {
      "text/html": [
       "        <script type=\"text/javascript\">\n",
       "        window.PlotlyConfig = {MathJaxConfig: 'local'};\n",
       "        if (window.MathJax) {MathJax.Hub.Config({SVG: {font: \"STIX-Web\"}});}\n",
       "        if (typeof require !== 'undefined') {\n",
       "        require.undef(\"plotly\");\n",
       "        requirejs.config({\n",
       "            paths: {\n",
       "                'plotly': ['https://cdn.plot.ly/plotly-latest.min']\n",
       "            }\n",
       "        });\n",
       "        require(['plotly'], function(Plotly) {\n",
       "            window._Plotly = Plotly;\n",
       "        });\n",
       "        }\n",
       "        </script>\n",
       "        "
      ]
     },
     "metadata": {},
     "output_type": "display_data"
    },
    {
     "data": {
      "text/html": [
       "        <script type=\"text/javascript\">\n",
       "        window.PlotlyConfig = {MathJaxConfig: 'local'};\n",
       "        if (window.MathJax) {MathJax.Hub.Config({SVG: {font: \"STIX-Web\"}});}\n",
       "        if (typeof require !== 'undefined') {\n",
       "        require.undef(\"plotly\");\n",
       "        requirejs.config({\n",
       "            paths: {\n",
       "                'plotly': ['https://cdn.plot.ly/plotly-latest.min']\n",
       "            }\n",
       "        });\n",
       "        require(['plotly'], function(Plotly) {\n",
       "            window._Plotly = Plotly;\n",
       "        });\n",
       "        }\n",
       "        </script>\n",
       "        "
      ]
     },
     "metadata": {},
     "output_type": "display_data"
    }
   ],
   "source": [
    "import plotly\n",
    "import cufflinks as cf\n",
    "import pandas as pd\n",
    "import numpy as np\n",
    "\n",
    "from plotly.offline import download_plotlyjs,init_notebook_mode,plot,iplot\n",
    "init_notebook_mode(connected=True)\n",
    "cf.go_offline()\n",
    "\n",
    "%matplotlib inline"
   ]
  },
  {
   "cell_type": "code",
   "execution_count": 4,
   "id": "de1a688f",
   "metadata": {},
   "outputs": [
    {
     "data": {
      "text/html": [
       "<div>\n",
       "<style scoped>\n",
       "    .dataframe tbody tr th:only-of-type {\n",
       "        vertical-align: middle;\n",
       "    }\n",
       "\n",
       "    .dataframe tbody tr th {\n",
       "        vertical-align: top;\n",
       "    }\n",
       "\n",
       "    .dataframe thead th {\n",
       "        text-align: right;\n",
       "    }\n",
       "</style>\n",
       "<table border=\"1\" class=\"dataframe\">\n",
       "  <thead>\n",
       "    <tr style=\"text-align: right;\">\n",
       "      <th></th>\n",
       "      <th>Text</th>\n",
       "    </tr>\n",
       "  </thead>\n",
       "  <tbody>\n",
       "    <tr>\n",
       "      <th>0</th>\n",
       "      <td>@Wolfpackmiitomo Yeah especially with iOS 15 b...</td>\n",
       "    </tr>\n",
       "    <tr>\n",
       "      <th>1</th>\n",
       "      <td>@MarllosP Aliás, correção: tirei ele da tomada...</td>\n",
       "    </tr>\n",
       "    <tr>\n",
       "      <th>2</th>\n",
       "      <td>@XavierNaxa Ya Benar... Versi iOS 14.6 menyeba...</td>\n",
       "    </tr>\n",
       "    <tr>\n",
       "      <th>3</th>\n",
       "      <td>@FCE365 Hahaha I’m on iOS 15 beta, so I can’t ...</td>\n",
       "    </tr>\n",
       "    <tr>\n",
       "      <th>4</th>\n",
       "      <td>@thassius Oi boa noite, já sou inscrito no pro...</td>\n",
       "    </tr>\n",
       "    <tr>\n",
       "      <th>...</th>\n",
       "      <td>...</td>\n",
       "    </tr>\n",
       "    <tr>\n",
       "      <th>996</th>\n",
       "      <td>La advertencia de Apple sobre la beta de iOS 1...</td>\n",
       "    </tr>\n",
       "    <tr>\n",
       "      <th>997</th>\n",
       "      <td>How to downgrade from iOS 15 beta to iOS 14 - ...</td>\n",
       "    </tr>\n",
       "    <tr>\n",
       "      <th>998</th>\n",
       "      <td>Apple lanza una versión actualizada de la segu...</td>\n",
       "    </tr>\n",
       "    <tr>\n",
       "      <th>999</th>\n",
       "      <td>@AppleSupport everyone received ios 15 beta. W...</td>\n",
       "    </tr>\n",
       "    <tr>\n",
       "      <th>1000</th>\n",
       "      <td>Beta pública de #iOS 15 ya disponible #Apple\\n...</td>\n",
       "    </tr>\n",
       "  </tbody>\n",
       "</table>\n",
       "<p>1001 rows × 1 columns</p>\n",
       "</div>"
      ],
      "text/plain": [
       "                                                   Text\n",
       "0     @Wolfpackmiitomo Yeah especially with iOS 15 b...\n",
       "1     @MarllosP Aliás, correção: tirei ele da tomada...\n",
       "2     @XavierNaxa Ya Benar... Versi iOS 14.6 menyeba...\n",
       "3     @FCE365 Hahaha I’m on iOS 15 beta, so I can’t ...\n",
       "4     @thassius Oi boa noite, já sou inscrito no pro...\n",
       "...                                                 ...\n",
       "996   La advertencia de Apple sobre la beta de iOS 1...\n",
       "997   How to downgrade from iOS 15 beta to iOS 14 - ...\n",
       "998   Apple lanza una versión actualizada de la segu...\n",
       "999   @AppleSupport everyone received ios 15 beta. W...\n",
       "1000  Beta pública de #iOS 15 ya disponible #Apple\\n...\n",
       "\n",
       "[1001 rows x 1 columns]"
      ]
     },
     "execution_count": 4,
     "metadata": {},
     "output_type": "execute_result"
    }
   ],
   "source": [
    "df = pd.read_csv(\"ios15tweets.csv\")\n",
    "df = pd.DataFrame(df['Text'])\n",
    "df"
   ]
  },
  {
   "cell_type": "code",
   "execution_count": 5,
   "id": "7c425a03",
   "metadata": {},
   "outputs": [
    {
     "data": {
      "text/html": [
       "<div>\n",
       "<style scoped>\n",
       "    .dataframe tbody tr th:only-of-type {\n",
       "        vertical-align: middle;\n",
       "    }\n",
       "\n",
       "    .dataframe tbody tr th {\n",
       "        vertical-align: top;\n",
       "    }\n",
       "\n",
       "    .dataframe thead th {\n",
       "        text-align: right;\n",
       "    }\n",
       "</style>\n",
       "<table border=\"1\" class=\"dataframe\">\n",
       "  <thead>\n",
       "    <tr style=\"text-align: right;\">\n",
       "      <th></th>\n",
       "      <th>Text</th>\n",
       "      <th>clean_text</th>\n",
       "    </tr>\n",
       "  </thead>\n",
       "  <tbody>\n",
       "    <tr>\n",
       "      <th>0</th>\n",
       "      <td>@Wolfpackmiitomo Yeah especially with iOS 15 b...</td>\n",
       "      <td>yeah especially with ios  beta this baby goes...</td>\n",
       "    </tr>\n",
       "    <tr>\n",
       "      <th>1</th>\n",
       "      <td>@MarllosP Aliás, correção: tirei ele da tomada...</td>\n",
       "      <td>alis correo  tirei ele da tomada sbado ios at...</td>\n",
       "    </tr>\n",
       "    <tr>\n",
       "      <th>2</th>\n",
       "      <td>@XavierNaxa Ya Benar... Versi iOS 14.6 menyeba...</td>\n",
       "      <td>ya benar versi ios  menyebabkan bateri menjad...</td>\n",
       "    </tr>\n",
       "    <tr>\n",
       "      <th>3</th>\n",
       "      <td>@FCE365 Hahaha I’m on iOS 15 beta, so I can’t ...</td>\n",
       "      <td>hahaha im on ios  beta so cant jailbreak</td>\n",
       "    </tr>\n",
       "    <tr>\n",
       "      <th>4</th>\n",
       "      <td>@thassius Oi boa noite, já sou inscrito no pro...</td>\n",
       "      <td>oi boa noite sou inscrito no programa de beta...</td>\n",
       "    </tr>\n",
       "    <tr>\n",
       "      <th>...</th>\n",
       "      <td>...</td>\n",
       "      <td>...</td>\n",
       "    </tr>\n",
       "    <tr>\n",
       "      <th>996</th>\n",
       "      <td>La advertencia de Apple sobre la beta de iOS 1...</td>\n",
       "      <td>la advertencia de apple sobre la beta de ios  ...</td>\n",
       "    </tr>\n",
       "    <tr>\n",
       "      <th>997</th>\n",
       "      <td>How to downgrade from iOS 15 beta to iOS 14 - ...</td>\n",
       "      <td>how to downgrade from ios  beta to ios    tomac</td>\n",
       "    </tr>\n",
       "    <tr>\n",
       "      <th>998</th>\n",
       "      <td>Apple lanza una versión actualizada de la segu...</td>\n",
       "      <td>apple lanza una versin actualizada de la segun...</td>\n",
       "    </tr>\n",
       "    <tr>\n",
       "      <th>999</th>\n",
       "      <td>@AppleSupport everyone received ios 15 beta. W...</td>\n",
       "      <td>everyone received ios  beta where mine</td>\n",
       "    </tr>\n",
       "    <tr>\n",
       "      <th>1000</th>\n",
       "      <td>Beta pública de #iOS 15 ya disponible #Apple\\n...</td>\n",
       "      <td>beta pblica de ios  ya disponible apple</td>\n",
       "    </tr>\n",
       "  </tbody>\n",
       "</table>\n",
       "<p>1001 rows × 2 columns</p>\n",
       "</div>"
      ],
      "text/plain": [
       "                                                   Text  \\\n",
       "0     @Wolfpackmiitomo Yeah especially with iOS 15 b...   \n",
       "1     @MarllosP Aliás, correção: tirei ele da tomada...   \n",
       "2     @XavierNaxa Ya Benar... Versi iOS 14.6 menyeba...   \n",
       "3     @FCE365 Hahaha I’m on iOS 15 beta, so I can’t ...   \n",
       "4     @thassius Oi boa noite, já sou inscrito no pro...   \n",
       "...                                                 ...   \n",
       "996   La advertencia de Apple sobre la beta de iOS 1...   \n",
       "997   How to downgrade from iOS 15 beta to iOS 14 - ...   \n",
       "998   Apple lanza una versión actualizada de la segu...   \n",
       "999   @AppleSupport everyone received ios 15 beta. W...   \n",
       "1000  Beta pública de #iOS 15 ya disponible #Apple\\n...   \n",
       "\n",
       "                                             clean_text  \n",
       "0      yeah especially with ios  beta this baby goes...  \n",
       "1      alis correo  tirei ele da tomada sbado ios at...  \n",
       "2      ya benar versi ios  menyebabkan bateri menjad...  \n",
       "3             hahaha im on ios  beta so cant jailbreak   \n",
       "4      oi boa noite sou inscrito no programa de beta...  \n",
       "...                                                 ...  \n",
       "996   la advertencia de apple sobre la beta de ios  ...  \n",
       "997   how to downgrade from ios  beta to ios    tomac    \n",
       "998   apple lanza una versin actualizada de la segun...  \n",
       "999              everyone received ios  beta where mine  \n",
       "1000          beta pblica de ios  ya disponible apple    \n",
       "\n",
       "[1001 rows x 2 columns]"
      ]
     },
     "execution_count": 5,
     "metadata": {},
     "output_type": "execute_result"
    }
   ],
   "source": [
    "# Cleaning the tweets\n",
    "\n",
    "# converting to lowercase\n",
    "df['clean_text'] = df['Text'].str.lower()\n",
    "\n",
    "# removing links,urls\n",
    "df['clean_text'] = df['clean_text'].apply(lambda x: re.sub(r'https?:\\/\\/\\S+', '', x, flags=re.MULTILINE))\n",
    "df['clean_text'] = df['clean_text'].apply(lambda x: re.sub(r\"www\\.[a-z]?\\.?(com)+|[a-z]+\\.(com)\", '', x, flags=re.MULTILINE))\n",
    "\n",
    "# removing html reference characters\n",
    "df['clean_text'] = df['clean_text'].apply(lambda x: re.sub(r'&[a-z]+;', '', x))\n",
    "\n",
    "# removing user @ references and '#' from tweet\n",
    "df['clean_text'] = df['clean_text'].apply(lambda x: re.sub(r'\\@\\w+|\\#|\\d+', '', x))\n",
    "\n",
    "# removing characters that aren't letters\n",
    "df['clean_text'] = df['clean_text'].apply(lambda x: re.sub(r\"[^a-z\\s\\(\\-:\\)\\\\\\/\\];='#@]\", '', x))\n",
    "\n",
    "# removing all the special characters\n",
    "df['clean_text'] = df['clean_text'].apply(lambda x: re.sub(r'\\W',' ', x))\n",
    "\n",
    "# removing all single characters\n",
    "df['clean_text'] = df['clean_text'].apply(lambda x: re.sub(r'\\s+[a-zA-Z]\\s+', ' ', x))\n",
    "\n",
    "# removing twitter handles\n",
    "df['clean_text'] = df['clean_text'].apply(lambda x: re.sub(r'@mention', '', x))\n",
    "\n",
    "df"
   ]
  },
  {
   "cell_type": "code",
   "execution_count": 6,
   "id": "c40a9143",
   "metadata": {},
   "outputs": [
    {
     "data": {
      "text/html": [
       "<div>\n",
       "<style scoped>\n",
       "    .dataframe tbody tr th:only-of-type {\n",
       "        vertical-align: middle;\n",
       "    }\n",
       "\n",
       "    .dataframe tbody tr th {\n",
       "        vertical-align: top;\n",
       "    }\n",
       "\n",
       "    .dataframe thead th {\n",
       "        text-align: right;\n",
       "    }\n",
       "</style>\n",
       "<table border=\"1\" class=\"dataframe\">\n",
       "  <thead>\n",
       "    <tr style=\"text-align: right;\">\n",
       "      <th></th>\n",
       "      <th>Text</th>\n",
       "      <th>clean_text</th>\n",
       "      <th>sentiment</th>\n",
       "      <th>sentiment score</th>\n",
       "    </tr>\n",
       "  </thead>\n",
       "  <tbody>\n",
       "    <tr>\n",
       "      <th>0</th>\n",
       "      <td>@Wolfpackmiitomo Yeah especially with iOS 15 b...</td>\n",
       "      <td>yeah especially with ios  beta this baby goes...</td>\n",
       "      <td>Positive</td>\n",
       "      <td>0.3182</td>\n",
       "    </tr>\n",
       "    <tr>\n",
       "      <th>1</th>\n",
       "      <td>@MarllosP Aliás, correção: tirei ele da tomada...</td>\n",
       "      <td>alis correo  tirei ele da tomada sbado ios at...</td>\n",
       "      <td>Negative</td>\n",
       "      <td>-0.2960</td>\n",
       "    </tr>\n",
       "    <tr>\n",
       "      <th>2</th>\n",
       "      <td>@FCE365 Hahaha I’m on iOS 15 beta, so I can’t ...</td>\n",
       "      <td>hahaha im on ios  beta so cant jailbreak</td>\n",
       "      <td>Positive</td>\n",
       "      <td>0.5574</td>\n",
       "    </tr>\n",
       "    <tr>\n",
       "      <th>3</th>\n",
       "      <td>@thassius Oi boa noite, já sou inscrito no pro...</td>\n",
       "      <td>oi boa noite sou inscrito no programa de beta...</td>\n",
       "      <td>Negative</td>\n",
       "      <td>-0.5267</td>\n",
       "    </tr>\n",
       "    <tr>\n",
       "      <th>4</th>\n",
       "      <td>. @iPhoneinCanada I have a cool juicy story fo...</td>\n",
       "      <td>have cool juicy story for you to report on fi...</td>\n",
       "      <td>Negative</td>\n",
       "      <td>-0.1779</td>\n",
       "    </tr>\n",
       "    <tr>\n",
       "      <th>...</th>\n",
       "      <td>...</td>\n",
       "      <td>...</td>\n",
       "      <td>...</td>\n",
       "      <td>...</td>\n",
       "    </tr>\n",
       "    <tr>\n",
       "      <th>360</th>\n",
       "      <td>@NaturalistDevil @HSBC_IN iOS is in beta. Like...</td>\n",
       "      <td>ios is in beta like any app they wont be abl...</td>\n",
       "      <td>Positive</td>\n",
       "      <td>0.6369</td>\n",
       "    </tr>\n",
       "    <tr>\n",
       "      <th>361</th>\n",
       "      <td>If Safari in iOS 15 ships this fall in its cur...</td>\n",
       "      <td>if safari in ios  ships this fall in its curre...</td>\n",
       "      <td>Positive</td>\n",
       "      <td>0.3384</td>\n",
       "    </tr>\n",
       "    <tr>\n",
       "      <th>362</th>\n",
       "      <td>iOS/iPadOS 15 public betas have plenty of bugs...</td>\n",
       "      <td>ios ipados  public betas have plenty of bugs b...</td>\n",
       "      <td>Positive</td>\n",
       "      <td>0.9702</td>\n",
       "    </tr>\n",
       "    <tr>\n",
       "      <th>363</th>\n",
       "      <td>@fournelmickey Yes sir ! iOS 15 Bêta 2</td>\n",
       "      <td>yes sir  ios  bta</td>\n",
       "      <td>Positive</td>\n",
       "      <td>0.4019</td>\n",
       "    </tr>\n",
       "    <tr>\n",
       "      <th>364</th>\n",
       "      <td>I'm feeling this iOS 15 beta 2</td>\n",
       "      <td>i feeling this ios  beta</td>\n",
       "      <td>Positive</td>\n",
       "      <td>0.1280</td>\n",
       "    </tr>\n",
       "  </tbody>\n",
       "</table>\n",
       "<p>365 rows × 4 columns</p>\n",
       "</div>"
      ],
      "text/plain": [
       "                                                  Text  \\\n",
       "0    @Wolfpackmiitomo Yeah especially with iOS 15 b...   \n",
       "1    @MarllosP Aliás, correção: tirei ele da tomada...   \n",
       "2    @FCE365 Hahaha I’m on iOS 15 beta, so I can’t ...   \n",
       "3    @thassius Oi boa noite, já sou inscrito no pro...   \n",
       "4    . @iPhoneinCanada I have a cool juicy story fo...   \n",
       "..                                                 ...   \n",
       "360  @NaturalistDevil @HSBC_IN iOS is in beta. Like...   \n",
       "361  If Safari in iOS 15 ships this fall in its cur...   \n",
       "362  iOS/iPadOS 15 public betas have plenty of bugs...   \n",
       "363             @fournelmickey Yes sir ! iOS 15 Bêta 2   \n",
       "364                     I'm feeling this iOS 15 beta 2   \n",
       "\n",
       "                                            clean_text sentiment  \\\n",
       "0     yeah especially with ios  beta this baby goes...  Positive   \n",
       "1     alis correo  tirei ele da tomada sbado ios at...  Negative   \n",
       "2            hahaha im on ios  beta so cant jailbreak   Positive   \n",
       "3     oi boa noite sou inscrito no programa de beta...  Negative   \n",
       "4     have cool juicy story for you to report on fi...  Negative   \n",
       "..                                                 ...       ...   \n",
       "360    ios is in beta like any app they wont be abl...  Positive   \n",
       "361  if safari in ios  ships this fall in its curre...  Positive   \n",
       "362  ios ipados  public betas have plenty of bugs b...  Positive   \n",
       "363                                 yes sir  ios  bta   Positive   \n",
       "364                          i feeling this ios  beta   Positive   \n",
       "\n",
       "     sentiment score  \n",
       "0             0.3182  \n",
       "1            -0.2960  \n",
       "2             0.5574  \n",
       "3            -0.5267  \n",
       "4            -0.1779  \n",
       "..               ...  \n",
       "360           0.6369  \n",
       "361           0.3384  \n",
       "362           0.9702  \n",
       "363           0.4019  \n",
       "364           0.1280  \n",
       "\n",
       "[365 rows x 4 columns]"
      ]
     },
     "execution_count": 6,
     "metadata": {},
     "output_type": "execute_result"
    }
   ],
   "source": [
    "# apply sentiment analysis\n",
    "analyser = SentimentIntensityAnalyzer()\n",
    "\n",
    "sentiment_score_list = []\n",
    "sentiment_label_list = []\n",
    "\n",
    "for i in df['clean_text'].values.tolist():\n",
    "    sentiment_score = analyser.polarity_scores(i)\n",
    "\n",
    "    if sentiment_score['compound'] >= 0.05:\n",
    "        sentiment_score_list.append(sentiment_score['compound'])\n",
    "        sentiment_label_list.append('Positive')\n",
    "    elif sentiment_score['compound'] > -0.05 and sentiment_score['compound'] < 0.05:\n",
    "        sentiment_score_list.append(sentiment_score['compound'])\n",
    "        sentiment_label_list.append('Neutral')\n",
    "    elif sentiment_score['compound'] <= -0.05:\n",
    "        sentiment_score_list.append(sentiment_score['compound'])\n",
    "        sentiment_label_list.append('Negative')\n",
    "    \n",
    "df['sentiment'] = sentiment_label_list\n",
    "df['sentiment score'] = sentiment_score_list\n",
    "df = df[df['sentiment'] != 'Neutral']\n",
    "df = df.reset_index(drop=True)\n",
    "df"
   ]
  },
  {
   "cell_type": "code",
   "execution_count": 7,
   "id": "ba77b699",
   "metadata": {},
   "outputs": [
    {
     "data": {
      "text/html": [
       "<div>\n",
       "<style scoped>\n",
       "    .dataframe tbody tr th:only-of-type {\n",
       "        vertical-align: middle;\n",
       "    }\n",
       "\n",
       "    .dataframe tbody tr th {\n",
       "        vertical-align: top;\n",
       "    }\n",
       "\n",
       "    .dataframe thead th {\n",
       "        text-align: right;\n",
       "    }\n",
       "</style>\n",
       "<table border=\"1\" class=\"dataframe\">\n",
       "  <thead>\n",
       "    <tr style=\"text-align: right;\">\n",
       "      <th></th>\n",
       "      <th>Text</th>\n",
       "      <th>clean_text</th>\n",
       "      <th>sentiment</th>\n",
       "      <th>sentiment score</th>\n",
       "      <th>tokenise</th>\n",
       "    </tr>\n",
       "  </thead>\n",
       "  <tbody>\n",
       "    <tr>\n",
       "      <th>0</th>\n",
       "      <td>@Wolfpackmiitomo Yeah especially with iOS 15 b...</td>\n",
       "      <td>yeah especially with ios  beta this baby goes...</td>\n",
       "      <td>Positive</td>\n",
       "      <td>0.3182</td>\n",
       "      <td>[yeah, especially, with, ios, beta, this, baby...</td>\n",
       "    </tr>\n",
       "    <tr>\n",
       "      <th>1</th>\n",
       "      <td>@MarllosP Aliás, correção: tirei ele da tomada...</td>\n",
       "      <td>alis correo  tirei ele da tomada sbado ios at...</td>\n",
       "      <td>Negative</td>\n",
       "      <td>-0.2960</td>\n",
       "      <td>[alis, correo, tirei, ele, da, tomada, sbado, ...</td>\n",
       "    </tr>\n",
       "    <tr>\n",
       "      <th>2</th>\n",
       "      <td>@FCE365 Hahaha I’m on iOS 15 beta, so I can’t ...</td>\n",
       "      <td>hahaha im on ios  beta so cant jailbreak</td>\n",
       "      <td>Positive</td>\n",
       "      <td>0.5574</td>\n",
       "      <td>[hahaha, im, on, ios, beta, so, cant, jailbreak]</td>\n",
       "    </tr>\n",
       "    <tr>\n",
       "      <th>3</th>\n",
       "      <td>@thassius Oi boa noite, já sou inscrito no pro...</td>\n",
       "      <td>oi boa noite sou inscrito no programa de beta...</td>\n",
       "      <td>Negative</td>\n",
       "      <td>-0.5267</td>\n",
       "      <td>[oi, boa, noite, sou, inscrito, no, programa, ...</td>\n",
       "    </tr>\n",
       "    <tr>\n",
       "      <th>4</th>\n",
       "      <td>. @iPhoneinCanada I have a cool juicy story fo...</td>\n",
       "      <td>have cool juicy story for you to report on fi...</td>\n",
       "      <td>Negative</td>\n",
       "      <td>-0.1779</td>\n",
       "      <td>[have, cool, juicy, story, for, you, to, repor...</td>\n",
       "    </tr>\n",
       "    <tr>\n",
       "      <th>...</th>\n",
       "      <td>...</td>\n",
       "      <td>...</td>\n",
       "      <td>...</td>\n",
       "      <td>...</td>\n",
       "      <td>...</td>\n",
       "    </tr>\n",
       "    <tr>\n",
       "      <th>360</th>\n",
       "      <td>@NaturalistDevil @HSBC_IN iOS is in beta. Like...</td>\n",
       "      <td>ios is in beta like any app they wont be abl...</td>\n",
       "      <td>Positive</td>\n",
       "      <td>0.6369</td>\n",
       "      <td>[ios, is, in, beta, like, any, app, they, wont...</td>\n",
       "    </tr>\n",
       "    <tr>\n",
       "      <th>361</th>\n",
       "      <td>If Safari in iOS 15 ships this fall in its cur...</td>\n",
       "      <td>if safari in ios  ships this fall in its curre...</td>\n",
       "      <td>Positive</td>\n",
       "      <td>0.3384</td>\n",
       "      <td>[if, safari, in, ios, ships, this, fall, in, i...</td>\n",
       "    </tr>\n",
       "    <tr>\n",
       "      <th>362</th>\n",
       "      <td>iOS/iPadOS 15 public betas have plenty of bugs...</td>\n",
       "      <td>ios ipados  public betas have plenty of bugs b...</td>\n",
       "      <td>Positive</td>\n",
       "      <td>0.9702</td>\n",
       "      <td>[ios, ipados, public, betas, have, plenty, of,...</td>\n",
       "    </tr>\n",
       "    <tr>\n",
       "      <th>363</th>\n",
       "      <td>@fournelmickey Yes sir ! iOS 15 Bêta 2</td>\n",
       "      <td>yes sir  ios  bta</td>\n",
       "      <td>Positive</td>\n",
       "      <td>0.4019</td>\n",
       "      <td>[yes, sir, ios, bta]</td>\n",
       "    </tr>\n",
       "    <tr>\n",
       "      <th>364</th>\n",
       "      <td>I'm feeling this iOS 15 beta 2</td>\n",
       "      <td>i feeling this ios  beta</td>\n",
       "      <td>Positive</td>\n",
       "      <td>0.1280</td>\n",
       "      <td>[i, feeling, this, ios, beta]</td>\n",
       "    </tr>\n",
       "  </tbody>\n",
       "</table>\n",
       "<p>365 rows × 5 columns</p>\n",
       "</div>"
      ],
      "text/plain": [
       "                                                  Text  \\\n",
       "0    @Wolfpackmiitomo Yeah especially with iOS 15 b...   \n",
       "1    @MarllosP Aliás, correção: tirei ele da tomada...   \n",
       "2    @FCE365 Hahaha I’m on iOS 15 beta, so I can’t ...   \n",
       "3    @thassius Oi boa noite, já sou inscrito no pro...   \n",
       "4    . @iPhoneinCanada I have a cool juicy story fo...   \n",
       "..                                                 ...   \n",
       "360  @NaturalistDevil @HSBC_IN iOS is in beta. Like...   \n",
       "361  If Safari in iOS 15 ships this fall in its cur...   \n",
       "362  iOS/iPadOS 15 public betas have plenty of bugs...   \n",
       "363             @fournelmickey Yes sir ! iOS 15 Bêta 2   \n",
       "364                     I'm feeling this iOS 15 beta 2   \n",
       "\n",
       "                                            clean_text sentiment  \\\n",
       "0     yeah especially with ios  beta this baby goes...  Positive   \n",
       "1     alis correo  tirei ele da tomada sbado ios at...  Negative   \n",
       "2            hahaha im on ios  beta so cant jailbreak   Positive   \n",
       "3     oi boa noite sou inscrito no programa de beta...  Negative   \n",
       "4     have cool juicy story for you to report on fi...  Negative   \n",
       "..                                                 ...       ...   \n",
       "360    ios is in beta like any app they wont be abl...  Positive   \n",
       "361  if safari in ios  ships this fall in its curre...  Positive   \n",
       "362  ios ipados  public betas have plenty of bugs b...  Positive   \n",
       "363                                 yes sir  ios  bta   Positive   \n",
       "364                          i feeling this ios  beta   Positive   \n",
       "\n",
       "     sentiment score                                           tokenise  \n",
       "0             0.3182  [yeah, especially, with, ios, beta, this, baby...  \n",
       "1            -0.2960  [alis, correo, tirei, ele, da, tomada, sbado, ...  \n",
       "2             0.5574   [hahaha, im, on, ios, beta, so, cant, jailbreak]  \n",
       "3            -0.5267  [oi, boa, noite, sou, inscrito, no, programa, ...  \n",
       "4            -0.1779  [have, cool, juicy, story, for, you, to, repor...  \n",
       "..               ...                                                ...  \n",
       "360           0.6369  [ios, is, in, beta, like, any, app, they, wont...  \n",
       "361           0.3384  [if, safari, in, ios, ships, this, fall, in, i...  \n",
       "362           0.9702  [ios, ipados, public, betas, have, plenty, of,...  \n",
       "363           0.4019                               [yes, sir, ios, bta]  \n",
       "364           0.1280                      [i, feeling, this, ios, beta]  \n",
       "\n",
       "[365 rows x 5 columns]"
      ]
     },
     "execution_count": 7,
     "metadata": {},
     "output_type": "execute_result"
    }
   ],
   "source": [
    "# tokenise string\n",
    "df['tokenise'] = df.apply(lambda row: nltk.word_tokenize(row[1]), axis=1)\n",
    "df"
   ]
  },
  {
   "cell_type": "code",
   "execution_count": 8,
   "id": "60b9506f",
   "metadata": {},
   "outputs": [
    {
     "data": {
      "text/html": [
       "<div>\n",
       "<style scoped>\n",
       "    .dataframe tbody tr th:only-of-type {\n",
       "        vertical-align: middle;\n",
       "    }\n",
       "\n",
       "    .dataframe tbody tr th {\n",
       "        vertical-align: top;\n",
       "    }\n",
       "\n",
       "    .dataframe thead th {\n",
       "        text-align: right;\n",
       "    }\n",
       "</style>\n",
       "<table border=\"1\" class=\"dataframe\">\n",
       "  <thead>\n",
       "    <tr style=\"text-align: right;\">\n",
       "      <th></th>\n",
       "      <th>Text</th>\n",
       "      <th>clean_text</th>\n",
       "      <th>sentiment</th>\n",
       "      <th>sentiment score</th>\n",
       "      <th>tokenise</th>\n",
       "      <th>lemmatise</th>\n",
       "    </tr>\n",
       "  </thead>\n",
       "  <tbody>\n",
       "    <tr>\n",
       "      <th>0</th>\n",
       "      <td>@Wolfpackmiitomo Yeah especially with iOS 15 b...</td>\n",
       "      <td>yeah especially with ios  beta this baby goes...</td>\n",
       "      <td>Positive</td>\n",
       "      <td>0.3182</td>\n",
       "      <td>[yeah, especially, with, ios, beta, this, baby...</td>\n",
       "      <td>[yeah, especially, with, io, beta, this, baby,...</td>\n",
       "    </tr>\n",
       "    <tr>\n",
       "      <th>1</th>\n",
       "      <td>@MarllosP Aliás, correção: tirei ele da tomada...</td>\n",
       "      <td>alis correo  tirei ele da tomada sbado ios at...</td>\n",
       "      <td>Negative</td>\n",
       "      <td>-0.2960</td>\n",
       "      <td>[alis, correo, tirei, ele, da, tomada, sbado, ...</td>\n",
       "      <td>[ali, correo, tirei, ele, da, tomada, sbado, i...</td>\n",
       "    </tr>\n",
       "    <tr>\n",
       "      <th>2</th>\n",
       "      <td>@FCE365 Hahaha I’m on iOS 15 beta, so I can’t ...</td>\n",
       "      <td>hahaha im on ios  beta so cant jailbreak</td>\n",
       "      <td>Positive</td>\n",
       "      <td>0.5574</td>\n",
       "      <td>[hahaha, im, on, ios, beta, so, cant, jailbreak]</td>\n",
       "      <td>[hahaha, im, on, io, beta, so, cant, jailbreak]</td>\n",
       "    </tr>\n",
       "    <tr>\n",
       "      <th>3</th>\n",
       "      <td>@thassius Oi boa noite, já sou inscrito no pro...</td>\n",
       "      <td>oi boa noite sou inscrito no programa de beta...</td>\n",
       "      <td>Negative</td>\n",
       "      <td>-0.5267</td>\n",
       "      <td>[oi, boa, noite, sou, inscrito, no, programa, ...</td>\n",
       "      <td>[oi, boa, noite, sou, inscrito, no, programa, ...</td>\n",
       "    </tr>\n",
       "    <tr>\n",
       "      <th>4</th>\n",
       "      <td>. @iPhoneinCanada I have a cool juicy story fo...</td>\n",
       "      <td>have cool juicy story for you to report on fi...</td>\n",
       "      <td>Negative</td>\n",
       "      <td>-0.1779</td>\n",
       "      <td>[have, cool, juicy, story, for, you, to, repor...</td>\n",
       "      <td>[have, cool, juicy, story, for, you, to, repor...</td>\n",
       "    </tr>\n",
       "    <tr>\n",
       "      <th>...</th>\n",
       "      <td>...</td>\n",
       "      <td>...</td>\n",
       "      <td>...</td>\n",
       "      <td>...</td>\n",
       "      <td>...</td>\n",
       "      <td>...</td>\n",
       "    </tr>\n",
       "    <tr>\n",
       "      <th>360</th>\n",
       "      <td>@NaturalistDevil @HSBC_IN iOS is in beta. Like...</td>\n",
       "      <td>ios is in beta like any app they wont be abl...</td>\n",
       "      <td>Positive</td>\n",
       "      <td>0.6369</td>\n",
       "      <td>[ios, is, in, beta, like, any, app, they, wont...</td>\n",
       "      <td>[io, is, in, beta, like, any, app, they, wont,...</td>\n",
       "    </tr>\n",
       "    <tr>\n",
       "      <th>361</th>\n",
       "      <td>If Safari in iOS 15 ships this fall in its cur...</td>\n",
       "      <td>if safari in ios  ships this fall in its curre...</td>\n",
       "      <td>Positive</td>\n",
       "      <td>0.3384</td>\n",
       "      <td>[if, safari, in, ios, ships, this, fall, in, i...</td>\n",
       "      <td>[if, safari, in, io, ship, this, fall, in, it,...</td>\n",
       "    </tr>\n",
       "    <tr>\n",
       "      <th>362</th>\n",
       "      <td>iOS/iPadOS 15 public betas have plenty of bugs...</td>\n",
       "      <td>ios ipados  public betas have plenty of bugs b...</td>\n",
       "      <td>Positive</td>\n",
       "      <td>0.9702</td>\n",
       "      <td>[ios, ipados, public, betas, have, plenty, of,...</td>\n",
       "      <td>[io, ipados, public, beta, have, plenty, of, b...</td>\n",
       "    </tr>\n",
       "    <tr>\n",
       "      <th>363</th>\n",
       "      <td>@fournelmickey Yes sir ! iOS 15 Bêta 2</td>\n",
       "      <td>yes sir  ios  bta</td>\n",
       "      <td>Positive</td>\n",
       "      <td>0.4019</td>\n",
       "      <td>[yes, sir, ios, bta]</td>\n",
       "      <td>[yes, sir, io, bta]</td>\n",
       "    </tr>\n",
       "    <tr>\n",
       "      <th>364</th>\n",
       "      <td>I'm feeling this iOS 15 beta 2</td>\n",
       "      <td>i feeling this ios  beta</td>\n",
       "      <td>Positive</td>\n",
       "      <td>0.1280</td>\n",
       "      <td>[i, feeling, this, ios, beta]</td>\n",
       "      <td>[i, feeling, this, io, beta]</td>\n",
       "    </tr>\n",
       "  </tbody>\n",
       "</table>\n",
       "<p>365 rows × 6 columns</p>\n",
       "</div>"
      ],
      "text/plain": [
       "                                                  Text  \\\n",
       "0    @Wolfpackmiitomo Yeah especially with iOS 15 b...   \n",
       "1    @MarllosP Aliás, correção: tirei ele da tomada...   \n",
       "2    @FCE365 Hahaha I’m on iOS 15 beta, so I can’t ...   \n",
       "3    @thassius Oi boa noite, já sou inscrito no pro...   \n",
       "4    . @iPhoneinCanada I have a cool juicy story fo...   \n",
       "..                                                 ...   \n",
       "360  @NaturalistDevil @HSBC_IN iOS is in beta. Like...   \n",
       "361  If Safari in iOS 15 ships this fall in its cur...   \n",
       "362  iOS/iPadOS 15 public betas have plenty of bugs...   \n",
       "363             @fournelmickey Yes sir ! iOS 15 Bêta 2   \n",
       "364                     I'm feeling this iOS 15 beta 2   \n",
       "\n",
       "                                            clean_text sentiment  \\\n",
       "0     yeah especially with ios  beta this baby goes...  Positive   \n",
       "1     alis correo  tirei ele da tomada sbado ios at...  Negative   \n",
       "2            hahaha im on ios  beta so cant jailbreak   Positive   \n",
       "3     oi boa noite sou inscrito no programa de beta...  Negative   \n",
       "4     have cool juicy story for you to report on fi...  Negative   \n",
       "..                                                 ...       ...   \n",
       "360    ios is in beta like any app they wont be abl...  Positive   \n",
       "361  if safari in ios  ships this fall in its curre...  Positive   \n",
       "362  ios ipados  public betas have plenty of bugs b...  Positive   \n",
       "363                                 yes sir  ios  bta   Positive   \n",
       "364                          i feeling this ios  beta   Positive   \n",
       "\n",
       "     sentiment score                                           tokenise  \\\n",
       "0             0.3182  [yeah, especially, with, ios, beta, this, baby...   \n",
       "1            -0.2960  [alis, correo, tirei, ele, da, tomada, sbado, ...   \n",
       "2             0.5574   [hahaha, im, on, ios, beta, so, cant, jailbreak]   \n",
       "3            -0.5267  [oi, boa, noite, sou, inscrito, no, programa, ...   \n",
       "4            -0.1779  [have, cool, juicy, story, for, you, to, repor...   \n",
       "..               ...                                                ...   \n",
       "360           0.6369  [ios, is, in, beta, like, any, app, they, wont...   \n",
       "361           0.3384  [if, safari, in, ios, ships, this, fall, in, i...   \n",
       "362           0.9702  [ios, ipados, public, betas, have, plenty, of,...   \n",
       "363           0.4019                               [yes, sir, ios, bta]   \n",
       "364           0.1280                      [i, feeling, this, ios, beta]   \n",
       "\n",
       "                                             lemmatise  \n",
       "0    [yeah, especially, with, io, beta, this, baby,...  \n",
       "1    [ali, correo, tirei, ele, da, tomada, sbado, i...  \n",
       "2      [hahaha, im, on, io, beta, so, cant, jailbreak]  \n",
       "3    [oi, boa, noite, sou, inscrito, no, programa, ...  \n",
       "4    [have, cool, juicy, story, for, you, to, repor...  \n",
       "..                                                 ...  \n",
       "360  [io, is, in, beta, like, any, app, they, wont,...  \n",
       "361  [if, safari, in, io, ship, this, fall, in, it,...  \n",
       "362  [io, ipados, public, beta, have, plenty, of, b...  \n",
       "363                                [yes, sir, io, bta]  \n",
       "364                       [i, feeling, this, io, beta]  \n",
       "\n",
       "[365 rows x 6 columns]"
      ]
     },
     "execution_count": 8,
     "metadata": {},
     "output_type": "execute_result"
    }
   ],
   "source": [
    "# initiate nltk lemmatiser\n",
    "wordnet_lemmatizer = WordNetLemmatizer()\n",
    "\n",
    "# lemmatise words\n",
    "df['lemmatise'] = df['tokenise'].apply(lambda x: [wordnet_lemmatizer.lemmatize(y) for y in x]) \n",
    "df"
   ]
  },
  {
   "cell_type": "code",
   "execution_count": 9,
   "id": "555d97bc",
   "metadata": {},
   "outputs": [
    {
     "data": {
      "text/html": [
       "<div>\n",
       "<style scoped>\n",
       "    .dataframe tbody tr th:only-of-type {\n",
       "        vertical-align: middle;\n",
       "    }\n",
       "\n",
       "    .dataframe tbody tr th {\n",
       "        vertical-align: top;\n",
       "    }\n",
       "\n",
       "    .dataframe thead th {\n",
       "        text-align: right;\n",
       "    }\n",
       "</style>\n",
       "<table border=\"1\" class=\"dataframe\">\n",
       "  <thead>\n",
       "    <tr style=\"text-align: right;\">\n",
       "      <th></th>\n",
       "      <th>Text</th>\n",
       "      <th>clean_text</th>\n",
       "      <th>sentiment</th>\n",
       "      <th>sentiment score</th>\n",
       "      <th>tokenise</th>\n",
       "      <th>lemmatise</th>\n",
       "      <th>remove_stopwords</th>\n",
       "    </tr>\n",
       "  </thead>\n",
       "  <tbody>\n",
       "    <tr>\n",
       "      <th>0</th>\n",
       "      <td>@Wolfpackmiitomo Yeah especially with iOS 15 b...</td>\n",
       "      <td>yeah especially with ios  beta this baby goes...</td>\n",
       "      <td>Positive</td>\n",
       "      <td>0.3182</td>\n",
       "      <td>[yeah, especially, with, ios, beta, this, baby...</td>\n",
       "      <td>[yeah, especially, with, io, beta, this, baby,...</td>\n",
       "      <td>[yeah, especially, baby, go, battery, like, dr...</td>\n",
       "    </tr>\n",
       "    <tr>\n",
       "      <th>1</th>\n",
       "      <td>@MarllosP Aliás, correção: tirei ele da tomada...</td>\n",
       "      <td>alis correo  tirei ele da tomada sbado ios at...</td>\n",
       "      <td>Negative</td>\n",
       "      <td>-0.2960</td>\n",
       "      <td>[alis, correo, tirei, ele, da, tomada, sbado, ...</td>\n",
       "      <td>[ali, correo, tirei, ele, da, tomada, sbado, i...</td>\n",
       "      <td>[ali, correo, tirei, ele, da, tomada, sbado, a...</td>\n",
       "    </tr>\n",
       "    <tr>\n",
       "      <th>2</th>\n",
       "      <td>@FCE365 Hahaha I’m on iOS 15 beta, so I can’t ...</td>\n",
       "      <td>hahaha im on ios  beta so cant jailbreak</td>\n",
       "      <td>Positive</td>\n",
       "      <td>0.5574</td>\n",
       "      <td>[hahaha, im, on, ios, beta, so, cant, jailbreak]</td>\n",
       "      <td>[hahaha, im, on, io, beta, so, cant, jailbreak]</td>\n",
       "      <td>[hahaha, im, cant, jailbreak]</td>\n",
       "    </tr>\n",
       "    <tr>\n",
       "      <th>3</th>\n",
       "      <td>@thassius Oi boa noite, já sou inscrito no pro...</td>\n",
       "      <td>oi boa noite sou inscrito no programa de beta...</td>\n",
       "      <td>Negative</td>\n",
       "      <td>-0.5267</td>\n",
       "      <td>[oi, boa, noite, sou, inscrito, no, programa, ...</td>\n",
       "      <td>[oi, boa, noite, sou, inscrito, no, programa, ...</td>\n",
       "      <td>[oi, boa, noite, sou, inscrito, programa, de, ...</td>\n",
       "    </tr>\n",
       "    <tr>\n",
       "      <th>4</th>\n",
       "      <td>. @iPhoneinCanada I have a cool juicy story fo...</td>\n",
       "      <td>have cool juicy story for you to report on fi...</td>\n",
       "      <td>Negative</td>\n",
       "      <td>-0.1779</td>\n",
       "      <td>[have, cool, juicy, story, for, you, to, repor...</td>\n",
       "      <td>[have, cool, juicy, story, for, you, to, repor...</td>\n",
       "      <td>[cool, juicy, story, report, first, adding, ac...</td>\n",
       "    </tr>\n",
       "    <tr>\n",
       "      <th>...</th>\n",
       "      <td>...</td>\n",
       "      <td>...</td>\n",
       "      <td>...</td>\n",
       "      <td>...</td>\n",
       "      <td>...</td>\n",
       "      <td>...</td>\n",
       "      <td>...</td>\n",
       "    </tr>\n",
       "    <tr>\n",
       "      <th>360</th>\n",
       "      <td>@NaturalistDevil @HSBC_IN iOS is in beta. Like...</td>\n",
       "      <td>ios is in beta like any app they wont be abl...</td>\n",
       "      <td>Positive</td>\n",
       "      <td>0.6369</td>\n",
       "      <td>[ios, is, in, beta, like, any, app, they, wont...</td>\n",
       "      <td>[io, is, in, beta, like, any, app, they, wont,...</td>\n",
       "      <td>[like, wont, able, support, release, common, s...</td>\n",
       "    </tr>\n",
       "    <tr>\n",
       "      <th>361</th>\n",
       "      <td>If Safari in iOS 15 ships this fall in its cur...</td>\n",
       "      <td>if safari in ios  ships this fall in its curre...</td>\n",
       "      <td>Positive</td>\n",
       "      <td>0.3384</td>\n",
       "      <td>[if, safari, in, ios, ships, this, fall, in, i...</td>\n",
       "      <td>[if, safari, in, io, ship, this, fall, in, it,...</td>\n",
       "      <td>[safari, ship, fall, current, form, could, wel...</td>\n",
       "    </tr>\n",
       "    <tr>\n",
       "      <th>362</th>\n",
       "      <td>iOS/iPadOS 15 public betas have plenty of bugs...</td>\n",
       "      <td>ios ipados  public betas have plenty of bugs b...</td>\n",
       "      <td>Positive</td>\n",
       "      <td>0.9702</td>\n",
       "      <td>[ios, ipados, public, betas, have, plenty, of,...</td>\n",
       "      <td>[io, ipados, public, beta, have, plenty, of, b...</td>\n",
       "      <td>[ipados, plenty, bug, happy, try, finally, lib...</td>\n",
       "    </tr>\n",
       "    <tr>\n",
       "      <th>363</th>\n",
       "      <td>@fournelmickey Yes sir ! iOS 15 Bêta 2</td>\n",
       "      <td>yes sir  ios  bta</td>\n",
       "      <td>Positive</td>\n",
       "      <td>0.4019</td>\n",
       "      <td>[yes, sir, ios, bta]</td>\n",
       "      <td>[yes, sir, io, bta]</td>\n",
       "      <td>[yes, sir, bta]</td>\n",
       "    </tr>\n",
       "    <tr>\n",
       "      <th>364</th>\n",
       "      <td>I'm feeling this iOS 15 beta 2</td>\n",
       "      <td>i feeling this ios  beta</td>\n",
       "      <td>Positive</td>\n",
       "      <td>0.1280</td>\n",
       "      <td>[i, feeling, this, ios, beta]</td>\n",
       "      <td>[i, feeling, this, io, beta]</td>\n",
       "      <td>[feeling]</td>\n",
       "    </tr>\n",
       "  </tbody>\n",
       "</table>\n",
       "<p>365 rows × 7 columns</p>\n",
       "</div>"
      ],
      "text/plain": [
       "                                                  Text  \\\n",
       "0    @Wolfpackmiitomo Yeah especially with iOS 15 b...   \n",
       "1    @MarllosP Aliás, correção: tirei ele da tomada...   \n",
       "2    @FCE365 Hahaha I’m on iOS 15 beta, so I can’t ...   \n",
       "3    @thassius Oi boa noite, já sou inscrito no pro...   \n",
       "4    . @iPhoneinCanada I have a cool juicy story fo...   \n",
       "..                                                 ...   \n",
       "360  @NaturalistDevil @HSBC_IN iOS is in beta. Like...   \n",
       "361  If Safari in iOS 15 ships this fall in its cur...   \n",
       "362  iOS/iPadOS 15 public betas have plenty of bugs...   \n",
       "363             @fournelmickey Yes sir ! iOS 15 Bêta 2   \n",
       "364                     I'm feeling this iOS 15 beta 2   \n",
       "\n",
       "                                            clean_text sentiment  \\\n",
       "0     yeah especially with ios  beta this baby goes...  Positive   \n",
       "1     alis correo  tirei ele da tomada sbado ios at...  Negative   \n",
       "2            hahaha im on ios  beta so cant jailbreak   Positive   \n",
       "3     oi boa noite sou inscrito no programa de beta...  Negative   \n",
       "4     have cool juicy story for you to report on fi...  Negative   \n",
       "..                                                 ...       ...   \n",
       "360    ios is in beta like any app they wont be abl...  Positive   \n",
       "361  if safari in ios  ships this fall in its curre...  Positive   \n",
       "362  ios ipados  public betas have plenty of bugs b...  Positive   \n",
       "363                                 yes sir  ios  bta   Positive   \n",
       "364                          i feeling this ios  beta   Positive   \n",
       "\n",
       "     sentiment score                                           tokenise  \\\n",
       "0             0.3182  [yeah, especially, with, ios, beta, this, baby...   \n",
       "1            -0.2960  [alis, correo, tirei, ele, da, tomada, sbado, ...   \n",
       "2             0.5574   [hahaha, im, on, ios, beta, so, cant, jailbreak]   \n",
       "3            -0.5267  [oi, boa, noite, sou, inscrito, no, programa, ...   \n",
       "4            -0.1779  [have, cool, juicy, story, for, you, to, repor...   \n",
       "..               ...                                                ...   \n",
       "360           0.6369  [ios, is, in, beta, like, any, app, they, wont...   \n",
       "361           0.3384  [if, safari, in, ios, ships, this, fall, in, i...   \n",
       "362           0.9702  [ios, ipados, public, betas, have, plenty, of,...   \n",
       "363           0.4019                               [yes, sir, ios, bta]   \n",
       "364           0.1280                      [i, feeling, this, ios, beta]   \n",
       "\n",
       "                                             lemmatise  \\\n",
       "0    [yeah, especially, with, io, beta, this, baby,...   \n",
       "1    [ali, correo, tirei, ele, da, tomada, sbado, i...   \n",
       "2      [hahaha, im, on, io, beta, so, cant, jailbreak]   \n",
       "3    [oi, boa, noite, sou, inscrito, no, programa, ...   \n",
       "4    [have, cool, juicy, story, for, you, to, repor...   \n",
       "..                                                 ...   \n",
       "360  [io, is, in, beta, like, any, app, they, wont,...   \n",
       "361  [if, safari, in, io, ship, this, fall, in, it,...   \n",
       "362  [io, ipados, public, beta, have, plenty, of, b...   \n",
       "363                                [yes, sir, io, bta]   \n",
       "364                       [i, feeling, this, io, beta]   \n",
       "\n",
       "                                      remove_stopwords  \n",
       "0    [yeah, especially, baby, go, battery, like, dr...  \n",
       "1    [ali, correo, tirei, ele, da, tomada, sbado, a...  \n",
       "2                        [hahaha, im, cant, jailbreak]  \n",
       "3    [oi, boa, noite, sou, inscrito, programa, de, ...  \n",
       "4    [cool, juicy, story, report, first, adding, ac...  \n",
       "..                                                 ...  \n",
       "360  [like, wont, able, support, release, common, s...  \n",
       "361  [safari, ship, fall, current, form, could, wel...  \n",
       "362  [ipados, plenty, bug, happy, try, finally, lib...  \n",
       "363                                    [yes, sir, bta]  \n",
       "364                                          [feeling]  \n",
       "\n",
       "[365 rows x 7 columns]"
      ]
     },
     "execution_count": 9,
     "metadata": {},
     "output_type": "execute_result"
    }
   ],
   "source": [
    "# initiate stopwords from nltk\n",
    "stop_words = stopwords.words('english')\n",
    "\n",
    "# add additional missing terms\n",
    "user_stop_words = ['ios', 'io', 'apps','app','android','public','private', 'new','ios15','beta','15']\n",
    "\n",
    "alphabets = list(string.ascii_lowercase)\n",
    "stop_words = stop_words + user_stop_words + alphabets\n",
    "\n",
    "# remove stopwords\n",
    "df['remove_stopwords'] = df['lemmatise'].apply(lambda x: [item for item in x if item not in stop_words])\n",
    "\n",
    "df"
   ]
  },
  {
   "cell_type": "code",
   "execution_count": 10,
   "id": "c4f08913",
   "metadata": {},
   "outputs": [],
   "source": [
    "# function to obtain adjectives from tweets\n",
    "def getAdjectives(tweet):\n",
    "    tweet = [word for (word, tag) in pos_tag(tweet) if tag == \"JJ\"]  # pos_tag module in NLTK library\n",
    "    return \" \".join(tweet)  # join words with a space in between them"
   ]
  },
  {
   "cell_type": "code",
   "execution_count": 11,
   "id": "524eb58e",
   "metadata": {},
   "outputs": [],
   "source": [
    "df['Tweets_Adjectives'] = df['remove_stopwords'].apply(getAdjectives)"
   ]
  },
  {
   "cell_type": "code",
   "execution_count": 12,
   "id": "662f86bc",
   "metadata": {},
   "outputs": [
    {
     "data": {
      "text/html": [
       "<div>\n",
       "<style scoped>\n",
       "    .dataframe tbody tr th:only-of-type {\n",
       "        vertical-align: middle;\n",
       "    }\n",
       "\n",
       "    .dataframe tbody tr th {\n",
       "        vertical-align: top;\n",
       "    }\n",
       "\n",
       "    .dataframe thead th {\n",
       "        text-align: right;\n",
       "    }\n",
       "</style>\n",
       "<table border=\"1\" class=\"dataframe\">\n",
       "  <thead>\n",
       "    <tr style=\"text-align: right;\">\n",
       "      <th></th>\n",
       "      <th>Text</th>\n",
       "      <th>clean_text</th>\n",
       "      <th>sentiment</th>\n",
       "      <th>sentiment score</th>\n",
       "      <th>tokenise</th>\n",
       "      <th>lemmatise</th>\n",
       "      <th>remove_stopwords</th>\n",
       "      <th>Tweets_Adjectives</th>\n",
       "    </tr>\n",
       "  </thead>\n",
       "  <tbody>\n",
       "    <tr>\n",
       "      <th>0</th>\n",
       "      <td>@Wolfpackmiitomo Yeah especially with iOS 15 b...</td>\n",
       "      <td>yeah especially with ios  beta this baby goes...</td>\n",
       "      <td>Positive</td>\n",
       "      <td>0.3182</td>\n",
       "      <td>[yeah, especially, with, ios, beta, this, baby...</td>\n",
       "      <td>[yeah, especially, with, io, beta, this, baby,...</td>\n",
       "      <td>[yeah, especially, baby, go, battery, like, dr...</td>\n",
       "      <td>baby</td>\n",
       "    </tr>\n",
       "    <tr>\n",
       "      <th>1</th>\n",
       "      <td>@MarllosP Aliás, correção: tirei ele da tomada...</td>\n",
       "      <td>alis correo  tirei ele da tomada sbado ios at...</td>\n",
       "      <td>Negative</td>\n",
       "      <td>-0.2960</td>\n",
       "      <td>[alis, correo, tirei, ele, da, tomada, sbado, ...</td>\n",
       "      <td>[ali, correo, tirei, ele, da, tomada, sbado, i...</td>\n",
       "      <td>[ali, correo, tirei, ele, da, tomada, sbado, a...</td>\n",
       "      <td>dava</td>\n",
       "    </tr>\n",
       "    <tr>\n",
       "      <th>2</th>\n",
       "      <td>@FCE365 Hahaha I’m on iOS 15 beta, so I can’t ...</td>\n",
       "      <td>hahaha im on ios  beta so cant jailbreak</td>\n",
       "      <td>Positive</td>\n",
       "      <td>0.5574</td>\n",
       "      <td>[hahaha, im, on, ios, beta, so, cant, jailbreak]</td>\n",
       "      <td>[hahaha, im, on, io, beta, so, cant, jailbreak]</td>\n",
       "      <td>[hahaha, im, cant, jailbreak]</td>\n",
       "      <td></td>\n",
       "    </tr>\n",
       "    <tr>\n",
       "      <th>3</th>\n",
       "      <td>@thassius Oi boa noite, já sou inscrito no pro...</td>\n",
       "      <td>oi boa noite sou inscrito no programa de beta...</td>\n",
       "      <td>Negative</td>\n",
       "      <td>-0.5267</td>\n",
       "      <td>[oi, boa, noite, sou, inscrito, no, programa, ...</td>\n",
       "      <td>[oi, boa, noite, sou, inscrito, no, programa, ...</td>\n",
       "      <td>[oi, boa, noite, sou, inscrito, programa, de, ...</td>\n",
       "      <td>oi noite inscrito instalar</td>\n",
       "    </tr>\n",
       "    <tr>\n",
       "      <th>4</th>\n",
       "      <td>. @iPhoneinCanada I have a cool juicy story fo...</td>\n",
       "      <td>have cool juicy story for you to report on fi...</td>\n",
       "      <td>Negative</td>\n",
       "      <td>-0.1779</td>\n",
       "      <td>[have, cool, juicy, story, for, you, to, repor...</td>\n",
       "      <td>[have, cool, juicy, story, for, you, to, repor...</td>\n",
       "      <td>[cool, juicy, story, report, first, adding, ac...</td>\n",
       "      <td>cool give</td>\n",
       "    </tr>\n",
       "    <tr>\n",
       "      <th>...</th>\n",
       "      <td>...</td>\n",
       "      <td>...</td>\n",
       "      <td>...</td>\n",
       "      <td>...</td>\n",
       "      <td>...</td>\n",
       "      <td>...</td>\n",
       "      <td>...</td>\n",
       "      <td>...</td>\n",
       "    </tr>\n",
       "    <tr>\n",
       "      <th>360</th>\n",
       "      <td>@NaturalistDevil @HSBC_IN iOS is in beta. Like...</td>\n",
       "      <td>ios is in beta like any app they wont be abl...</td>\n",
       "      <td>Positive</td>\n",
       "      <td>0.6369</td>\n",
       "      <td>[ios, is, in, beta, like, any, app, they, wont...</td>\n",
       "      <td>[io, is, in, beta, like, any, app, they, wont,...</td>\n",
       "      <td>[like, wont, able, support, release, common, s...</td>\n",
       "      <td>able common</td>\n",
       "    </tr>\n",
       "    <tr>\n",
       "      <th>361</th>\n",
       "      <td>If Safari in iOS 15 ships this fall in its cur...</td>\n",
       "      <td>if safari in ios  ships this fall in its curre...</td>\n",
       "      <td>Positive</td>\n",
       "      <td>0.3384</td>\n",
       "      <td>[if, safari, in, ios, ships, this, fall, in, i...</td>\n",
       "      <td>[if, safari, in, io, ship, this, fall, in, it,...</td>\n",
       "      <td>[safari, ship, fall, current, form, could, wel...</td>\n",
       "      <td>safari current mobile next</td>\n",
       "    </tr>\n",
       "    <tr>\n",
       "      <th>362</th>\n",
       "      <td>iOS/iPadOS 15 public betas have plenty of bugs...</td>\n",
       "      <td>ios ipados  public betas have plenty of bugs b...</td>\n",
       "      <td>Positive</td>\n",
       "      <td>0.9702</td>\n",
       "      <td>[ios, ipados, public, betas, have, plenty, of,...</td>\n",
       "      <td>[io, ipados, public, beta, have, plenty, of, b...</td>\n",
       "      <td>[ipados, plenty, bug, happy, try, finally, lib...</td>\n",
       "      <td>ipados happy library label side</td>\n",
       "    </tr>\n",
       "    <tr>\n",
       "      <th>363</th>\n",
       "      <td>@fournelmickey Yes sir ! iOS 15 Bêta 2</td>\n",
       "      <td>yes sir  ios  bta</td>\n",
       "      <td>Positive</td>\n",
       "      <td>0.4019</td>\n",
       "      <td>[yes, sir, ios, bta]</td>\n",
       "      <td>[yes, sir, io, bta]</td>\n",
       "      <td>[yes, sir, bta]</td>\n",
       "      <td></td>\n",
       "    </tr>\n",
       "    <tr>\n",
       "      <th>364</th>\n",
       "      <td>I'm feeling this iOS 15 beta 2</td>\n",
       "      <td>i feeling this ios  beta</td>\n",
       "      <td>Positive</td>\n",
       "      <td>0.1280</td>\n",
       "      <td>[i, feeling, this, ios, beta]</td>\n",
       "      <td>[i, feeling, this, io, beta]</td>\n",
       "      <td>[feeling]</td>\n",
       "      <td></td>\n",
       "    </tr>\n",
       "  </tbody>\n",
       "</table>\n",
       "<p>365 rows × 8 columns</p>\n",
       "</div>"
      ],
      "text/plain": [
       "                                                  Text  \\\n",
       "0    @Wolfpackmiitomo Yeah especially with iOS 15 b...   \n",
       "1    @MarllosP Aliás, correção: tirei ele da tomada...   \n",
       "2    @FCE365 Hahaha I’m on iOS 15 beta, so I can’t ...   \n",
       "3    @thassius Oi boa noite, já sou inscrito no pro...   \n",
       "4    . @iPhoneinCanada I have a cool juicy story fo...   \n",
       "..                                                 ...   \n",
       "360  @NaturalistDevil @HSBC_IN iOS is in beta. Like...   \n",
       "361  If Safari in iOS 15 ships this fall in its cur...   \n",
       "362  iOS/iPadOS 15 public betas have plenty of bugs...   \n",
       "363             @fournelmickey Yes sir ! iOS 15 Bêta 2   \n",
       "364                     I'm feeling this iOS 15 beta 2   \n",
       "\n",
       "                                            clean_text sentiment  \\\n",
       "0     yeah especially with ios  beta this baby goes...  Positive   \n",
       "1     alis correo  tirei ele da tomada sbado ios at...  Negative   \n",
       "2            hahaha im on ios  beta so cant jailbreak   Positive   \n",
       "3     oi boa noite sou inscrito no programa de beta...  Negative   \n",
       "4     have cool juicy story for you to report on fi...  Negative   \n",
       "..                                                 ...       ...   \n",
       "360    ios is in beta like any app they wont be abl...  Positive   \n",
       "361  if safari in ios  ships this fall in its curre...  Positive   \n",
       "362  ios ipados  public betas have plenty of bugs b...  Positive   \n",
       "363                                 yes sir  ios  bta   Positive   \n",
       "364                          i feeling this ios  beta   Positive   \n",
       "\n",
       "     sentiment score                                           tokenise  \\\n",
       "0             0.3182  [yeah, especially, with, ios, beta, this, baby...   \n",
       "1            -0.2960  [alis, correo, tirei, ele, da, tomada, sbado, ...   \n",
       "2             0.5574   [hahaha, im, on, ios, beta, so, cant, jailbreak]   \n",
       "3            -0.5267  [oi, boa, noite, sou, inscrito, no, programa, ...   \n",
       "4            -0.1779  [have, cool, juicy, story, for, you, to, repor...   \n",
       "..               ...                                                ...   \n",
       "360           0.6369  [ios, is, in, beta, like, any, app, they, wont...   \n",
       "361           0.3384  [if, safari, in, ios, ships, this, fall, in, i...   \n",
       "362           0.9702  [ios, ipados, public, betas, have, plenty, of,...   \n",
       "363           0.4019                               [yes, sir, ios, bta]   \n",
       "364           0.1280                      [i, feeling, this, ios, beta]   \n",
       "\n",
       "                                             lemmatise  \\\n",
       "0    [yeah, especially, with, io, beta, this, baby,...   \n",
       "1    [ali, correo, tirei, ele, da, tomada, sbado, i...   \n",
       "2      [hahaha, im, on, io, beta, so, cant, jailbreak]   \n",
       "3    [oi, boa, noite, sou, inscrito, no, programa, ...   \n",
       "4    [have, cool, juicy, story, for, you, to, repor...   \n",
       "..                                                 ...   \n",
       "360  [io, is, in, beta, like, any, app, they, wont,...   \n",
       "361  [if, safari, in, io, ship, this, fall, in, it,...   \n",
       "362  [io, ipados, public, beta, have, plenty, of, b...   \n",
       "363                                [yes, sir, io, bta]   \n",
       "364                       [i, feeling, this, io, beta]   \n",
       "\n",
       "                                      remove_stopwords  \\\n",
       "0    [yeah, especially, baby, go, battery, like, dr...   \n",
       "1    [ali, correo, tirei, ele, da, tomada, sbado, a...   \n",
       "2                        [hahaha, im, cant, jailbreak]   \n",
       "3    [oi, boa, noite, sou, inscrito, programa, de, ...   \n",
       "4    [cool, juicy, story, report, first, adding, ac...   \n",
       "..                                                 ...   \n",
       "360  [like, wont, able, support, release, common, s...   \n",
       "361  [safari, ship, fall, current, form, could, wel...   \n",
       "362  [ipados, plenty, bug, happy, try, finally, lib...   \n",
       "363                                    [yes, sir, bta]   \n",
       "364                                          [feeling]   \n",
       "\n",
       "                   Tweets_Adjectives  \n",
       "0                               baby  \n",
       "1                               dava  \n",
       "2                                     \n",
       "3         oi noite inscrito instalar  \n",
       "4                          cool give  \n",
       "..                               ...  \n",
       "360                      able common  \n",
       "361       safari current mobile next  \n",
       "362  ipados happy library label side  \n",
       "363                                   \n",
       "364                                   \n",
       "\n",
       "[365 rows x 8 columns]"
      ]
     },
     "execution_count": 12,
     "metadata": {},
     "output_type": "execute_result"
    }
   ],
   "source": [
    "df"
   ]
  },
  {
   "cell_type": "code",
   "execution_count": 13,
   "id": "76ead5b5",
   "metadata": {},
   "outputs": [],
   "source": [
    "# Extract all tweets into one long string with each word separate with a \"space\"\n",
    "tweets_long_list = df['Tweets_Adjectives'].tolist()\n",
    "list_no_dup = []\n",
    "[list_no_dup.append(x) for x in tweets_long_list if x not in list_no_dup]\n",
    "tweets_long_string = \" \".join(list_no_dup)"
   ]
  },
  {
   "cell_type": "code",
   "execution_count": 14,
   "id": "95526eff",
   "metadata": {},
   "outputs": [
    {
     "data": {
      "image/png": "[encoded data removed]",
      "text/plain": [
       "<Figure size 1008x1296 with 1 Axes>"
      ]
     },
     "metadata": {
      "needs_background": "light"
     },
     "output_type": "display_data"
    }
   ],
   "source": [
    "# Import Twitter Logo\n",
    "image = np.array(Image.open('twitter.png'))\n",
    "    \n",
    "fig = plt.figure() \n",
    "fig.set_figwidth(14) \n",
    "fig.set_figheight(18)\n",
    "\n",
    "plt.imshow(image, cmap=plt.cm.gray, interpolation='bilinear') # Display data as an image\n",
    "plt.axis('off') \n",
    "plt.show() \n"
   ]
  },
  {
   "cell_type": "code",
   "execution_count": 15,
   "id": "e3371771",
   "metadata": {},
   "outputs": [],
   "source": [
    "# Create function to generate the blue colour for the Word CLoud\n",
    "\n",
    "def blue_color_func(word, font_size, position, orientation, random_state=None,**kwargs):\n",
    "    return \"hsl(210, 100%%, %d%%)\" % random.randint(50, 70)"
   ]
  },
  {
   "cell_type": "code",
   "execution_count": 16,
   "id": "0826dddd",
   "metadata": {},
   "outputs": [
    {
     "data": {
      "image/png": "[encoded data removed]",
      "text/plain": [
       "<Figure size 1008x1296 with 1 Axes>"
      ]
     },
     "metadata": {
      "needs_background": "light"
     },
     "output_type": "display_data"
    }
   ],
   "source": [
    "# Instantiate the Twitter word cloud object\n",
    "twitter_wc = WordCloud(background_color='white', max_words=1500, mask=image)\n",
    "\n",
    "# generate the word cloud\n",
    "twitter_wc.generate(tweets_long_string)\n",
    "\n",
    "# display the word cloud\n",
    "fig = plt.figure()\n",
    "fig.set_figwidth(14)  \n",
    "fig.set_figheight(18)  \n",
    "\n",
    "plt.imshow(twitter_wc.recolor(color_func=blue_color_func, random_state=3),\n",
    "           interpolation=\"bilinear\")\n",
    "plt.axis('off')\n",
    "plt.show()\n"
   ]
  },
  {
   "cell_type": "code",
   "execution_count": 17,
   "id": "0ded1c6b",
   "metadata": {},
   "outputs": [],
   "source": [
    "# Combine all words into a list\n",
    "tweets_long_string = df['Tweets_Adjectives'].tolist()\n",
    "tweets_list=[]\n",
    "for item in tweets_long_string:\n",
    "    item = item.split()\n",
    "    for i in item:\n",
    "        tweets_list.append(i)"
   ]
  },
  {
   "cell_type": "code",
   "execution_count": 18,
   "id": "771b4614",
   "metadata": {},
   "outputs": [],
   "source": [
    "# Use the Built-in Python Collections module to determine Word frequency\n",
    "from collections import Counter\n",
    "counts = Counter(tweets_list)\n",
    "df1 = pd.DataFrame.from_dict(counts, orient='index').reset_index()\n",
    "df1.columns = ['Words', 'Count']\n",
    "df1.sort_values(by='Count', ascending=False, inplace=True)"
   ]
  },
  {
   "cell_type": "code",
   "execution_count": 19,
   "id": "2088d9d2",
   "metadata": {},
   "outputs": [
    {
     "data": {
      "text/html": [
       "<div>\n",
       "<style scoped>\n",
       "    .dataframe tbody tr th:only-of-type {\n",
       "        vertical-align: middle;\n",
       "    }\n",
       "\n",
       "    .dataframe tbody tr th {\n",
       "        vertical-align: top;\n",
       "    }\n",
       "\n",
       "    .dataframe thead th {\n",
       "        text-align: right;\n",
       "    }\n",
       "</style>\n",
       "<table border=\"1\" class=\"dataframe\">\n",
       "  <thead>\n",
       "    <tr style=\"text-align: right;\">\n",
       "      <th></th>\n",
       "      <th>Words</th>\n",
       "      <th>Count</th>\n",
       "    </tr>\n",
       "  </thead>\n",
       "  <tbody>\n",
       "    <tr>\n",
       "      <th>89</th>\n",
       "      <td>top</td>\n",
       "      <td>32</td>\n",
       "    </tr>\n",
       "    <tr>\n",
       "      <th>64</th>\n",
       "      <td>pro</td>\n",
       "      <td>28</td>\n",
       "    </tr>\n",
       "    <tr>\n",
       "      <th>70</th>\n",
       "      <td>update</td>\n",
       "      <td>17</td>\n",
       "    </tr>\n",
       "    <tr>\n",
       "      <th>42</th>\n",
       "      <td>stable</td>\n",
       "      <td>14</td>\n",
       "    </tr>\n",
       "    <tr>\n",
       "      <th>94</th>\n",
       "      <td>mobile</td>\n",
       "      <td>10</td>\n",
       "    </tr>\n",
       "    <tr>\n",
       "      <th>130</th>\n",
       "      <td>apks</td>\n",
       "      <td>10</td>\n",
       "    </tr>\n",
       "    <tr>\n",
       "      <th>236</th>\n",
       "      <td>amazing</td>\n",
       "      <td>9</td>\n",
       "    </tr>\n",
       "    <tr>\n",
       "      <th>229</th>\n",
       "      <td>weekly</td>\n",
       "      <td>9</td>\n",
       "    </tr>\n",
       "    <tr>\n",
       "      <th>26</th>\n",
       "      <td>ipad</td>\n",
       "      <td>8</td>\n",
       "    </tr>\n",
       "    <tr>\n",
       "      <th>67</th>\n",
       "      <td>iphone</td>\n",
       "      <td>8</td>\n",
       "    </tr>\n",
       "  </tbody>\n",
       "</table>\n",
       "</div>"
      ],
      "text/plain": [
       "       Words  Count\n",
       "89       top     32\n",
       "64       pro     28\n",
       "70    update     17\n",
       "42    stable     14\n",
       "94    mobile     10\n",
       "130     apks     10\n",
       "236  amazing      9\n",
       "229   weekly      9\n",
       "26      ipad      8\n",
       "67    iphone      8"
      ]
     },
     "execution_count": 19,
     "metadata": {},
     "output_type": "execute_result"
    }
   ],
   "source": [
    "df1.head(10)"
   ]
  },
  {
   "cell_type": "code",
   "execution_count": 20,
   "id": "11df6c4e",
   "metadata": {},
   "outputs": [
    {
     "data": {
      "text/plain": [
       "Positive    264\n",
       "Negative    101\n",
       "Name: sentiment, dtype: int64"
      ]
     },
     "execution_count": 20,
     "metadata": {},
     "output_type": "execute_result"
    }
   ],
   "source": [
    "# See quick results of the Sentiment Analysis\n",
    "df['sentiment'].value_counts()"
   ]
  },
  {
   "cell_type": "code",
   "execution_count": 21,
   "id": "c6427fed",
   "metadata": {},
   "outputs": [],
   "source": [
    "# Create dataframe for Count of Sentiment Categories\n",
    "bar_chart = df['sentiment'].value_counts().rename_axis('sentiment').to_frame('Total Tweets').reset_index()\n"
   ]
  },
  {
   "cell_type": "code",
   "execution_count": 22,
   "id": "d6ed48b3",
   "metadata": {},
   "outputs": [
    {
     "data": {
      "text/html": [
       "<div>\n",
       "<style scoped>\n",
       "    .dataframe tbody tr th:only-of-type {\n",
       "        vertical-align: middle;\n",
       "    }\n",
       "\n",
       "    .dataframe tbody tr th {\n",
       "        vertical-align: top;\n",
       "    }\n",
       "\n",
       "    .dataframe thead th {\n",
       "        text-align: right;\n",
       "    }\n",
       "</style>\n",
       "<table border=\"1\" class=\"dataframe\">\n",
       "  <thead>\n",
       "    <tr style=\"text-align: right;\">\n",
       "      <th></th>\n",
       "      <th>sentiment</th>\n",
       "      <th>Total Tweets</th>\n",
       "    </tr>\n",
       "  </thead>\n",
       "  <tbody>\n",
       "    <tr>\n",
       "      <th>0</th>\n",
       "      <td>Positive</td>\n",
       "      <td>264</td>\n",
       "    </tr>\n",
       "    <tr>\n",
       "      <th>1</th>\n",
       "      <td>Negative</td>\n",
       "      <td>101</td>\n",
       "    </tr>\n",
       "  </tbody>\n",
       "</table>\n",
       "</div>"
      ],
      "text/plain": [
       "  sentiment  Total Tweets\n",
       "0  Positive           264\n",
       "1  Negative           101"
      ]
     },
     "execution_count": 22,
     "metadata": {},
     "output_type": "execute_result"
    }
   ],
   "source": [
    "bar_chart # Display dataframe"
   ]
  },
  {
   "cell_type": "code",
   "execution_count": 23,
   "id": "7c339342",
   "metadata": {
    "scrolled": true
   },
   "outputs": [
    {
     "data": {
      "application/vnd.plotly.v1+json": {
       "config": {
        "linkText": "Export to plot.ly",
        "plotlyServerURL": "https://plot.ly",
        "showLink": true
       },
       "data": [
        {
         "marker": {
          "color": "rgba(12, 128, 128, 0.6)",
          "line": {
           "color": "rgba(12, 128, 128, 1.0)",
           "width": 1
          }
         },
         "name": "Total Tweets",
         "orientation": "v",
         "text": "",
         "type": "bar",
         "x": [
          "Positive",
          "Negative"
         ],
         "y": [
          264,
          101
         ]
        }
       ],
       "layout": {
        "legend": {
         "bgcolor": "#F5F6F9",
         "font": {
          "color": "#4D5663"
         }
        },
        "paper_bgcolor": "#F5F6F9",
        "plot_bgcolor": "#F5F6F9",
        "template": {
         "data": {
          "bar": [
           {
            "error_x": {
             "color": "#2a3f5f"
            },
            "error_y": {
             "color": "#2a3f5f"
            },
            "marker": {
             "line": {
              "color": "#E5ECF6",
              "width": 0.5
             }
            },
            "type": "bar"
           }
          ],
          "barpolar": [
           {
            "marker": {
             "line": {
              "color": "#E5ECF6",
              "width": 0.5
             }
            },
            "type": "barpolar"
           }
          ],
          "carpet": [
           {
            "aaxis": {
             "endlinecolor": "#2a3f5f",
             "gridcolor": "white",
             "linecolor": "white",
             "minorgridcolor": "white",
             "startlinecolor": "#2a3f5f"
            },
            "baxis": {
             "endlinecolor": "#2a3f5f",
             "gridcolor": "white",
             "linecolor": "white",
             "minorgridcolor": "white",
             "startlinecolor": "#2a3f5f"
            },
            "type": "carpet"
           }
          ],
          "choropleth": [
           {
            "colorbar": {
             "outlinewidth": 0,
             "ticks": ""
            },
            "type": "choropleth"
           }
          ],
          "contour": [
           {
            "colorbar": {
             "outlinewidth": 0,
             "ticks": ""
            },
            "colorscale": [
             [
              0,
              "#0d0887"
             ],
             [
              0.1111111111111111,
              "#46039f"
             ],
             [
              0.2222222222222222,
              "#7201a8"
             ],
             [
              0.3333333333333333,
              "#9c179e"
             ],
             [
              0.4444444444444444,
              "#bd3786"
             ],
             [
              0.5555555555555556,
              "#d8576b"
             ],
             [
              0.6666666666666666,
              "#ed7953"
             ],
             [
              0.7777777777777778,
              "#fb9f3a"
             ],
             [
              0.8888888888888888,
              "#fdca26"
             ],
             [
              1,
              "#f0f921"
             ]
            ],
            "type": "contour"
           }
          ],
          "contourcarpet": [
           {
            "colorbar": {
             "outlinewidth": 0,
             "ticks": ""
            },
            "type": "contourcarpet"
           }
          ],
          "heatmap": [
           {
            "colorbar": {
             "outlinewidth": 0,
             "ticks": ""
            },
            "colorscale": [
             [
              0,
              "#0d0887"
             ],
             [
              0.1111111111111111,
              "#46039f"
             ],
             [
              0.2222222222222222,
              "#7201a8"
             ],
             [
              0.3333333333333333,
              "#9c179e"
             ],
             [
              0.4444444444444444,
              "#bd3786"
             ],
             [
              0.5555555555555556,
              "#d8576b"
             ],
             [
              0.6666666666666666,
              "#ed7953"
             ],
             [
              0.7777777777777778,
              "#fb9f3a"
             ],
             [
              0.8888888888888888,
              "#fdca26"
             ],
             [
              1,
              "#f0f921"
             ]
            ],
            "type": "heatmap"
           }
          ],
          "heatmapgl": [
           {
            "colorbar": {
             "outlinewidth": 0,
             "ticks": ""
            },
            "colorscale": [
             [
              0,
              "#0d0887"
             ],
             [
              0.1111111111111111,
              "#46039f"
             ],
             [
              0.2222222222222222,
              "#7201a8"
             ],
             [
              0.3333333333333333,
              "#9c179e"
             ],
             [
              0.4444444444444444,
              "#bd3786"
             ],
             [
              0.5555555555555556,
              "#d8576b"
             ],
             [
              0.6666666666666666,
              "#ed7953"
             ],
             [
              0.7777777777777778,
              "#fb9f3a"
             ],
             [
              0.8888888888888888,
              "#fdca26"
             ],
             [
              1,
              "#f0f921"
             ]
            ],
            "type": "heatmapgl"
           }
          ],
          "histogram": [
           {
            "marker": {
             "colorbar": {
              "outlinewidth": 0,
              "ticks": ""
             }
            },
            "type": "histogram"
           }
          ],
          "histogram2d": [
           {
            "colorbar": {
             "outlinewidth": 0,
             "ticks": ""
            },
            "colorscale": [
             [
              0,
              "#0d0887"
             ],
             [
              0.1111111111111111,
              "#46039f"
             ],
             [
              0.2222222222222222,
              "#7201a8"
             ],
             [
              0.3333333333333333,
              "#9c179e"
             ],
             [
              0.4444444444444444,
              "#bd3786"
             ],
             [
              0.5555555555555556,
              "#d8576b"
             ],
             [
              0.6666666666666666,
              "#ed7953"
             ],
             [
              0.7777777777777778,
              "#fb9f3a"
             ],
             [
              0.8888888888888888,
              "#fdca26"
             ],
             [
              1,
              "#f0f921"
             ]
            ],
            "type": "histogram2d"
           }
          ],
          "histogram2dcontour": [
           {
            "colorbar": {
             "outlinewidth": 0,
             "ticks": ""
            },
            "colorscale": [
             [
              0,
              "#0d0887"
             ],
             [
              0.1111111111111111,
              "#46039f"
             ],
             [
              0.2222222222222222,
              "#7201a8"
             ],
             [
              0.3333333333333333,
              "#9c179e"
             ],
             [
              0.4444444444444444,
              "#bd3786"
             ],
             [
              0.5555555555555556,
              "#d8576b"
             ],
             [
              0.6666666666666666,
              "#ed7953"
             ],
             [
              0.7777777777777778,
              "#fb9f3a"
             ],
             [
              0.8888888888888888,
              "#fdca26"
             ],
             [
              1,
              "#f0f921"
             ]
            ],
            "type": "histogram2dcontour"
           }
          ],
          "mesh3d": [
           {
            "colorbar": {
             "outlinewidth": 0,
             "ticks": ""
            },
            "type": "mesh3d"
           }
          ],
          "parcoords": [
           {
            "line": {
             "colorbar": {
              "outlinewidth": 0,
              "ticks": ""
             }
            },
            "type": "parcoords"
           }
          ],
          "pie": [
           {
            "automargin": true,
            "type": "pie"
           }
          ],
          "scatter": [
           {
            "marker": {
             "colorbar": {
              "outlinewidth": 0,
              "ticks": ""
             }
            },
            "type": "scatter"
           }
          ],
          "scatter3d": [
           {
            "line": {
             "colorbar": {
              "outlinewidth": 0,
              "ticks": ""
             }
            },
            "marker": {
             "colorbar": {
              "outlinewidth": 0,
              "ticks": ""
             }
            },
            "type": "scatter3d"
           }
          ],
          "scattercarpet": [
           {
            "marker": {
             "colorbar": {
              "outlinewidth": 0,
              "ticks": ""
             }
            },
            "type": "scattercarpet"
           }
          ],
          "scattergeo": [
           {
            "marker": {
             "colorbar": {
              "outlinewidth": 0,
              "ticks": ""
             }
            },
            "type": "scattergeo"
           }
          ],
          "scattergl": [
           {
            "marker": {
             "colorbar": {
              "outlinewidth": 0,
              "ticks": ""
             }
            },
            "type": "scattergl"
           }
          ],
          "scattermapbox": [
           {
            "marker": {
             "colorbar": {
              "outlinewidth": 0,
              "ticks": ""
             }
            },
            "type": "scattermapbox"
           }
          ],
          "scatterpolar": [
           {
            "marker": {
             "colorbar": {
              "outlinewidth": 0,
              "ticks": ""
             }
            },
            "type": "scatterpolar"
           }
          ],
          "scatterpolargl": [
           {
            "marker": {
             "colorbar": {
              "outlinewidth": 0,
              "ticks": ""
             }
            },
            "type": "scatterpolargl"
           }
          ],
          "scatterternary": [
           {
            "marker": {
             "colorbar": {
              "outlinewidth": 0,
              "ticks": ""
             }
            },
            "type": "scatterternary"
           }
          ],
          "surface": [
           {
            "colorbar": {
             "outlinewidth": 0,
             "ticks": ""
            },
            "colorscale": [
             [
              0,
              "#0d0887"
             ],
             [
              0.1111111111111111,
              "#46039f"
             ],
             [
              0.2222222222222222,
              "#7201a8"
             ],
             [
              0.3333333333333333,
              "#9c179e"
             ],
             [
              0.4444444444444444,
              "#bd3786"
             ],
             [
              0.5555555555555556,
              "#d8576b"
             ],
             [
              0.6666666666666666,
              "#ed7953"
             ],
             [
              0.7777777777777778,
              "#fb9f3a"
             ],
             [
              0.8888888888888888,
              "#fdca26"
             ],
             [
              1,
              "#f0f921"
             ]
            ],
            "type": "surface"
           }
          ],
          "table": [
           {
            "cells": {
             "fill": {
              "color": "#EBF0F8"
             },
             "line": {
              "color": "white"
             }
            },
            "header": {
             "fill": {
              "color": "#C8D4E3"
             },
             "line": {
              "color": "white"
             }
            },
            "type": "table"
           }
          ]
         },
         "layout": {
          "annotationdefaults": {
           "arrowcolor": "#2a3f5f",
           "arrowhead": 0,
           "arrowwidth": 1
          },
          "autotypenumbers": "strict",
          "coloraxis": {
           "colorbar": {
            "outlinewidth": 0,
            "ticks": ""
           }
          },
          "colorscale": {
           "diverging": [
            [
             0,
             "#8e0152"
            ],
            [
             0.1,
             "#c51b7d"
            ],
            [
             0.2,
             "#de77ae"
            ],
            [
             0.3,
             "#f1b6da"
            ],
            [
             0.4,
             "#fde0ef"
            ],
            [
             0.5,
             "#f7f7f7"
            ],
            [
             0.6,
             "#e6f5d0"
            ],
            [
             0.7,
             "#b8e186"
            ],
            [
             0.8,
             "#7fbc41"
            ],
            [
             0.9,
             "#4d9221"
            ],
            [
             1,
             "#276419"
            ]
           ],
           "sequential": [
            [
             0,
             "#0d0887"
            ],
            [
             0.1111111111111111,
             "#46039f"
            ],
            [
             0.2222222222222222,
             "#7201a8"
            ],
            [
             0.3333333333333333,
             "#9c179e"
            ],
            [
             0.4444444444444444,
             "#bd3786"
            ],
            [
             0.5555555555555556,
             "#d8576b"
            ],
            [
             0.6666666666666666,
             "#ed7953"
            ],
            [
             0.7777777777777778,
             "#fb9f3a"
            ],
            [
             0.8888888888888888,
             "#fdca26"
            ],
            [
             1,
             "#f0f921"
            ]
           ],
           "sequentialminus": [
            [
             0,
             "#0d0887"
            ],
            [
             0.1111111111111111,
             "#46039f"
            ],
            [
             0.2222222222222222,
             "#7201a8"
            ],
            [
             0.3333333333333333,
             "#9c179e"
            ],
            [
             0.4444444444444444,
             "#bd3786"
            ],
            [
             0.5555555555555556,
             "#d8576b"
            ],
            [
             0.6666666666666666,
             "#ed7953"
            ],
            [
             0.7777777777777778,
             "#fb9f3a"
            ],
            [
             0.8888888888888888,
             "#fdca26"
            ],
            [
             1,
             "#f0f921"
            ]
           ]
          },
          "colorway": [
           "#636efa",
           "#EF553B",
           "#00cc96",
           "#ab63fa",
           "#FFA15A",
           "#19d3f3",
           "#FF6692",
           "#B6E880",
           "#FF97FF",
           "#FECB52"
          ],
          "font": {
           "color": "#2a3f5f"
          },
          "geo": {
           "bgcolor": "white",
           "lakecolor": "white",
           "landcolor": "#E5ECF6",
           "showlakes": true,
           "showland": true,
           "subunitcolor": "white"
          },
          "hoverlabel": {
           "align": "left"
          },
          "hovermode": "closest",
          "mapbox": {
           "style": "light"
          },
          "paper_bgcolor": "white",
          "plot_bgcolor": "#E5ECF6",
          "polar": {
           "angularaxis": {
            "gridcolor": "white",
            "linecolor": "white",
            "ticks": ""
           },
           "bgcolor": "#E5ECF6",
           "radialaxis": {
            "gridcolor": "white",
            "linecolor": "white",
            "ticks": ""
           }
          },
          "scene": {
           "xaxis": {
            "backgroundcolor": "#E5ECF6",
            "gridcolor": "white",
            "gridwidth": 2,
            "linecolor": "white",
            "showbackground": true,
            "ticks": "",
            "zerolinecolor": "white"
           },
           "yaxis": {
            "backgroundcolor": "#E5ECF6",
            "gridcolor": "white",
            "gridwidth": 2,
            "linecolor": "white",
            "showbackground": true,
            "ticks": "",
            "zerolinecolor": "white"
           },
           "zaxis": {
            "backgroundcolor": "#E5ECF6",
            "gridcolor": "white",
            "gridwidth": 2,
            "linecolor": "white",
            "showbackground": true,
            "ticks": "",
            "zerolinecolor": "white"
           }
          },
          "shapedefaults": {
           "line": {
            "color": "#2a3f5f"
           }
          },
          "ternary": {
           "aaxis": {
            "gridcolor": "white",
            "linecolor": "white",
            "ticks": ""
           },
           "baxis": {
            "gridcolor": "white",
            "linecolor": "white",
            "ticks": ""
           },
           "bgcolor": "#E5ECF6",
           "caxis": {
            "gridcolor": "white",
            "linecolor": "white",
            "ticks": ""
           }
          },
          "title": {
           "x": 0.05
          },
          "xaxis": {
           "automargin": true,
           "gridcolor": "white",
           "linecolor": "white",
           "ticks": "",
           "title": {
            "standoff": 15
           },
           "zerolinecolor": "white",
           "zerolinewidth": 2
          },
          "yaxis": {
           "automargin": true,
           "gridcolor": "white",
           "linecolor": "white",
           "ticks": "",
           "title": {
            "standoff": 15
           },
           "zerolinecolor": "white",
           "zerolinewidth": 2
          }
         }
        },
        "title": {
         "font": {
          "color": "#4D5663"
         }
        },
        "xaxis": {
         "gridcolor": "#E1E5ED",
         "showgrid": true,
         "tickfont": {
          "color": "#4D5663"
         },
         "title": {
          "font": {
           "color": "#4D5663"
          },
          "text": ""
         },
         "zerolinecolor": "#E1E5ED"
        },
        "yaxis": {
         "gridcolor": "#E1E5ED",
         "showgrid": true,
         "tickfont": {
          "color": "#4D5663"
         },
         "title": {
          "font": {
           "color": "#4D5663"
          },
          "text": ""
         },
         "zerolinecolor": "#E1E5ED"
        }
       }
      },
      "text/html": [
       "<div>                            <div id=\"9f3c772f-2b2e-4011-a573-4bfccb0f03a0\" class=\"plotly-graph-div\" style=\"height:525px; width:100%;\"></div>            <script type=\"text/javascript\">                require([\"plotly\"], function(Plotly) {                    window.PLOTLYENV=window.PLOTLYENV || {};\n",
       "                    window.PLOTLYENV.BASE_URL='https://plot.ly';                                    if (document.getElementById(\"9f3c772f-2b2e-4011-a573-4bfccb0f03a0\")) {                    Plotly.newPlot(                        \"9f3c772f-2b2e-4011-a573-4bfccb0f03a0\",                        [{\"marker\": {\"color\": \"rgba(12, 128, 128, 0.6)\", \"line\": {\"color\": \"rgba(12, 128, 128, 1.0)\", \"width\": 1}}, \"name\": \"Total Tweets\", \"orientation\": \"v\", \"text\": \"\", \"type\": \"bar\", \"x\": [\"Positive\", \"Negative\"], \"y\": [264, 101]}],                        {\"legend\": {\"bgcolor\": \"#F5F6F9\", \"font\": {\"color\": \"#4D5663\"}}, \"paper_bgcolor\": \"#F5F6F9\", \"plot_bgcolor\": \"#F5F6F9\", \"template\": {\"data\": {\"bar\": [{\"error_x\": {\"color\": \"#2a3f5f\"}, \"error_y\": {\"color\": \"#2a3f5f\"}, \"marker\": {\"line\": {\"color\": \"#E5ECF6\", \"width\": 0.5}}, \"type\": \"bar\"}], \"barpolar\": [{\"marker\": {\"line\": {\"color\": \"#E5ECF6\", \"width\": 0.5}}, \"type\": \"barpolar\"}], \"carpet\": [{\"aaxis\": {\"endlinecolor\": \"#2a3f5f\", \"gridcolor\": \"white\", \"linecolor\": \"white\", \"minorgridcolor\": \"white\", \"startlinecolor\": \"#2a3f5f\"}, \"baxis\": {\"endlinecolor\": \"#2a3f5f\", \"gridcolor\": \"white\", \"linecolor\": \"white\", \"minorgridcolor\": \"white\", \"startlinecolor\": \"#2a3f5f\"}, \"type\": \"carpet\"}], \"choropleth\": [{\"colorbar\": {\"outlinewidth\": 0, \"ticks\": \"\"}, \"type\": \"choropleth\"}], \"contour\": [{\"colorbar\": {\"outlinewidth\": 0, \"ticks\": \"\"}, \"colorscale\": [[0.0, \"#0d0887\"], [0.1111111111111111, \"#46039f\"], [0.2222222222222222, \"#7201a8\"], [0.3333333333333333, \"#9c179e\"], [0.4444444444444444, \"#bd3786\"], [0.5555555555555556, \"#d8576b\"], [0.6666666666666666, \"#ed7953\"], [0.7777777777777778, \"#fb9f3a\"], [0.8888888888888888, \"#fdca26\"], [1.0, \"#f0f921\"]], \"type\": \"contour\"}], \"contourcarpet\": [{\"colorbar\": {\"outlinewidth\": 0, \"ticks\": \"\"}, \"type\": \"contourcarpet\"}], \"heatmap\": [{\"colorbar\": {\"outlinewidth\": 0, \"ticks\": \"\"}, \"colorscale\": [[0.0, \"#0d0887\"], [0.1111111111111111, \"#46039f\"], [0.2222222222222222, \"#7201a8\"], [0.3333333333333333, \"#9c179e\"], [0.4444444444444444, \"#bd3786\"], [0.5555555555555556, \"#d8576b\"], [0.6666666666666666, \"#ed7953\"], [0.7777777777777778, \"#fb9f3a\"], [0.8888888888888888, \"#fdca26\"], [1.0, \"#f0f921\"]], \"type\": \"heatmap\"}], \"heatmapgl\": [{\"colorbar\": {\"outlinewidth\": 0, \"ticks\": \"\"}, \"colorscale\": [[0.0, \"#0d0887\"], [0.1111111111111111, \"#46039f\"], [0.2222222222222222, \"#7201a8\"], [0.3333333333333333, \"#9c179e\"], [0.4444444444444444, \"#bd3786\"], [0.5555555555555556, \"#d8576b\"], [0.6666666666666666, \"#ed7953\"], [0.7777777777777778, \"#fb9f3a\"], [0.8888888888888888, \"#fdca26\"], [1.0, \"#f0f921\"]], \"type\": \"heatmapgl\"}], \"histogram\": [{\"marker\": {\"colorbar\": {\"outlinewidth\": 0, \"ticks\": \"\"}}, \"type\": \"histogram\"}], \"histogram2d\": [{\"colorbar\": {\"outlinewidth\": 0, \"ticks\": \"\"}, \"colorscale\": [[0.0, \"#0d0887\"], [0.1111111111111111, \"#46039f\"], [0.2222222222222222, \"#7201a8\"], [0.3333333333333333, \"#9c179e\"], [0.4444444444444444, \"#bd3786\"], [0.5555555555555556, \"#d8576b\"], [0.6666666666666666, \"#ed7953\"], [0.7777777777777778, \"#fb9f3a\"], [0.8888888888888888, \"#fdca26\"], [1.0, \"#f0f921\"]], \"type\": \"histogram2d\"}], \"histogram2dcontour\": [{\"colorbar\": {\"outlinewidth\": 0, \"ticks\": \"\"}, \"colorscale\": [[0.0, \"#0d0887\"], [0.1111111111111111, \"#46039f\"], [0.2222222222222222, \"#7201a8\"], [0.3333333333333333, \"#9c179e\"], [0.4444444444444444, \"#bd3786\"], [0.5555555555555556, \"#d8576b\"], [0.6666666666666666, \"#ed7953\"], [0.7777777777777778, \"#fb9f3a\"], [0.8888888888888888, \"#fdca26\"], [1.0, \"#f0f921\"]], \"type\": \"histogram2dcontour\"}], \"mesh3d\": [{\"colorbar\": {\"outlinewidth\": 0, \"ticks\": \"\"}, \"type\": \"mesh3d\"}], \"parcoords\": [{\"line\": {\"colorbar\": {\"outlinewidth\": 0, \"ticks\": \"\"}}, \"type\": \"parcoords\"}], \"pie\": [{\"automargin\": true, \"type\": \"pie\"}], \"scatter\": [{\"marker\": {\"colorbar\": {\"outlinewidth\": 0, \"ticks\": \"\"}}, \"type\": \"scatter\"}], \"scatter3d\": [{\"line\": {\"colorbar\": {\"outlinewidth\": 0, \"ticks\": \"\"}}, \"marker\": {\"colorbar\": {\"outlinewidth\": 0, \"ticks\": \"\"}}, \"type\": \"scatter3d\"}], \"scattercarpet\": [{\"marker\": {\"colorbar\": {\"outlinewidth\": 0, \"ticks\": \"\"}}, \"type\": \"scattercarpet\"}], \"scattergeo\": [{\"marker\": {\"colorbar\": {\"outlinewidth\": 0, \"ticks\": \"\"}}, \"type\": \"scattergeo\"}], \"scattergl\": [{\"marker\": {\"colorbar\": {\"outlinewidth\": 0, \"ticks\": \"\"}}, \"type\": \"scattergl\"}], \"scattermapbox\": [{\"marker\": {\"colorbar\": {\"outlinewidth\": 0, \"ticks\": \"\"}}, \"type\": \"scattermapbox\"}], \"scatterpolar\": [{\"marker\": {\"colorbar\": {\"outlinewidth\": 0, \"ticks\": \"\"}}, \"type\": \"scatterpolar\"}], \"scatterpolargl\": [{\"marker\": {\"colorbar\": {\"outlinewidth\": 0, \"ticks\": \"\"}}, \"type\": \"scatterpolargl\"}], \"scatterternary\": [{\"marker\": {\"colorbar\": {\"outlinewidth\": 0, \"ticks\": \"\"}}, \"type\": \"scatterternary\"}], \"surface\": [{\"colorbar\": {\"outlinewidth\": 0, \"ticks\": \"\"}, \"colorscale\": [[0.0, \"#0d0887\"], [0.1111111111111111, \"#46039f\"], [0.2222222222222222, \"#7201a8\"], [0.3333333333333333, \"#9c179e\"], [0.4444444444444444, \"#bd3786\"], [0.5555555555555556, \"#d8576b\"], [0.6666666666666666, \"#ed7953\"], [0.7777777777777778, \"#fb9f3a\"], [0.8888888888888888, \"#fdca26\"], [1.0, \"#f0f921\"]], \"type\": \"surface\"}], \"table\": [{\"cells\": {\"fill\": {\"color\": \"#EBF0F8\"}, \"line\": {\"color\": \"white\"}}, \"header\": {\"fill\": {\"color\": \"#C8D4E3\"}, \"line\": {\"color\": \"white\"}}, \"type\": \"table\"}]}, \"layout\": {\"annotationdefaults\": {\"arrowcolor\": \"#2a3f5f\", \"arrowhead\": 0, \"arrowwidth\": 1}, \"autotypenumbers\": \"strict\", \"coloraxis\": {\"colorbar\": {\"outlinewidth\": 0, \"ticks\": \"\"}}, \"colorscale\": {\"diverging\": [[0, \"#8e0152\"], [0.1, \"#c51b7d\"], [0.2, \"#de77ae\"], [0.3, \"#f1b6da\"], [0.4, \"#fde0ef\"], [0.5, \"#f7f7f7\"], [0.6, \"#e6f5d0\"], [0.7, \"#b8e186\"], [0.8, \"#7fbc41\"], [0.9, \"#4d9221\"], [1, \"#276419\"]], \"sequential\": [[0.0, \"#0d0887\"], [0.1111111111111111, \"#46039f\"], [0.2222222222222222, \"#7201a8\"], [0.3333333333333333, \"#9c179e\"], [0.4444444444444444, \"#bd3786\"], [0.5555555555555556, \"#d8576b\"], [0.6666666666666666, \"#ed7953\"], [0.7777777777777778, \"#fb9f3a\"], [0.8888888888888888, \"#fdca26\"], [1.0, \"#f0f921\"]], \"sequentialminus\": [[0.0, \"#0d0887\"], [0.1111111111111111, \"#46039f\"], [0.2222222222222222, \"#7201a8\"], [0.3333333333333333, \"#9c179e\"], [0.4444444444444444, \"#bd3786\"], [0.5555555555555556, \"#d8576b\"], [0.6666666666666666, \"#ed7953\"], [0.7777777777777778, \"#fb9f3a\"], [0.8888888888888888, \"#fdca26\"], [1.0, \"#f0f921\"]]}, \"colorway\": [\"#636efa\", \"#EF553B\", \"#00cc96\", \"#ab63fa\", \"#FFA15A\", \"#19d3f3\", \"#FF6692\", \"#B6E880\", \"#FF97FF\", \"#FECB52\"], \"font\": {\"color\": \"#2a3f5f\"}, \"geo\": {\"bgcolor\": \"white\", \"lakecolor\": \"white\", \"landcolor\": \"#E5ECF6\", \"showlakes\": true, \"showland\": true, \"subunitcolor\": \"white\"}, \"hoverlabel\": {\"align\": \"left\"}, \"hovermode\": \"closest\", \"mapbox\": {\"style\": \"light\"}, \"paper_bgcolor\": \"white\", \"plot_bgcolor\": \"#E5ECF6\", \"polar\": {\"angularaxis\": {\"gridcolor\": \"white\", \"linecolor\": \"white\", \"ticks\": \"\"}, \"bgcolor\": \"#E5ECF6\", \"radialaxis\": {\"gridcolor\": \"white\", \"linecolor\": \"white\", \"ticks\": \"\"}}, \"scene\": {\"xaxis\": {\"backgroundcolor\": \"#E5ECF6\", \"gridcolor\": \"white\", \"gridwidth\": 2, \"linecolor\": \"white\", \"showbackground\": true, \"ticks\": \"\", \"zerolinecolor\": \"white\"}, \"yaxis\": {\"backgroundcolor\": \"#E5ECF6\", \"gridcolor\": \"white\", \"gridwidth\": 2, \"linecolor\": \"white\", \"showbackground\": true, \"ticks\": \"\", \"zerolinecolor\": \"white\"}, \"zaxis\": {\"backgroundcolor\": \"#E5ECF6\", \"gridcolor\": \"white\", \"gridwidth\": 2, \"linecolor\": \"white\", \"showbackground\": true, \"ticks\": \"\", \"zerolinecolor\": \"white\"}}, \"shapedefaults\": {\"line\": {\"color\": \"#2a3f5f\"}}, \"ternary\": {\"aaxis\": {\"gridcolor\": \"white\", \"linecolor\": \"white\", \"ticks\": \"\"}, \"baxis\": {\"gridcolor\": \"white\", \"linecolor\": \"white\", \"ticks\": \"\"}, \"bgcolor\": \"#E5ECF6\", \"caxis\": {\"gridcolor\": \"white\", \"linecolor\": \"white\", \"ticks\": \"\"}}, \"title\": {\"x\": 0.05}, \"xaxis\": {\"automargin\": true, \"gridcolor\": \"white\", \"linecolor\": \"white\", \"ticks\": \"\", \"title\": {\"standoff\": 15}, \"zerolinecolor\": \"white\", \"zerolinewidth\": 2}, \"yaxis\": {\"automargin\": true, \"gridcolor\": \"white\", \"linecolor\": \"white\", \"ticks\": \"\", \"title\": {\"standoff\": 15}, \"zerolinecolor\": \"white\", \"zerolinewidth\": 2}}}, \"title\": {\"font\": {\"color\": \"#4D5663\"}}, \"xaxis\": {\"gridcolor\": \"#E1E5ED\", \"showgrid\": true, \"tickfont\": {\"color\": \"#4D5663\"}, \"title\": {\"font\": {\"color\": \"#4D5663\"}, \"text\": \"\"}, \"zerolinecolor\": \"#E1E5ED\"}, \"yaxis\": {\"gridcolor\": \"#E1E5ED\", \"showgrid\": true, \"tickfont\": {\"color\": \"#4D5663\"}, \"title\": {\"font\": {\"color\": \"#4D5663\"}, \"text\": \"\"}, \"zerolinecolor\": \"#E1E5ED\"}},                        {\"showLink\": true, \"linkText\": \"Export to plot.ly\", \"plotlyServerURL\": \"https://plot.ly\", \"responsive\": true}                    ).then(function(){\n",
       "                            \n",
       "var gd = document.getElementById('9f3c772f-2b2e-4011-a573-4bfccb0f03a0');\n",
       "var x = new MutationObserver(function (mutations, observer) {{\n",
       "        var display = window.getComputedStyle(gd).display;\n",
       "        if (!display || display === 'none') {{\n",
       "            console.log([gd, 'removed!']);\n",
       "            Plotly.purge(gd);\n",
       "            observer.disconnect();\n",
       "        }}\n",
       "}});\n",
       "\n",
       "// Listen for the removal of the full notebook cells\n",
       "var notebookContainer = gd.closest('#notebook-container');\n",
       "if (notebookContainer) {{\n",
       "    x.observe(notebookContainer, {childList: true});\n",
       "}}\n",
       "\n",
       "// Listen for the clearing of the current output cell\n",
       "var outputEl = gd.closest('.output');\n",
       "if (outputEl) {{\n",
       "    x.observe(outputEl, {childList: true});\n",
       "}}\n",
       "\n",
       "                        })                };                });            </script>        </div>"
      ]
     },
     "metadata": {},
     "output_type": "display_data"
    }
   ],
   "source": [
    "bar_chart.iplot(kind = 'bar', x = 'sentiment', y = 'Total Tweets', color = 'rgb(12, 128, 128)')"
   ]
  },
  {
   "cell_type": "code",
   "execution_count": null,
   "id": "abfff0a8",
   "metadata": {},
   "outputs": [],
   "source": []
  }
 ],
 "metadata": {
  "kernelspec": {
   "display_name": "Python 3",
   "language": "python",
   "name": "python3"
  },
  "language_info": {
   "codemirror_mode": {
    "name": "ipython",
    "version": 3
   },
   "file_extension": ".py",
   "mimetype": "text/x-python",
   "name": "python",
   "nbconvert_exporter": "python",
   "pygments_lexer": "ipython3",
   "version": "3.8.8"
  }
 },
 "nbformat": 4,
 "nbformat_minor": 5
}
